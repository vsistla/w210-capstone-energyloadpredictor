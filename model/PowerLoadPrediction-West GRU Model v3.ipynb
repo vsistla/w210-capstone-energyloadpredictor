{
 "cells": [
  {
   "cell_type": "markdown",
   "metadata": {},
   "source": [
    " # Power Load Prediction for West Zone - GRU Model"
   ]
  },
  {
   "cell_type": "code",
   "execution_count": 1,
   "metadata": {},
   "outputs": [],
   "source": [
    "import numpy as np\n",
    "import matplotlib as mpl\n",
    "import matplotlib.pyplot as plt\n",
    "import pandas as pd\n",
    "%matplotlib inline\n",
    "plt.rcParams.update({'figure.figsize': (10, 7), 'figure.dpi': 120})"
   ]
  },
  {
   "cell_type": "code",
   "execution_count": 2,
   "metadata": {},
   "outputs": [],
   "source": [
    "power_data_west = pd.read_csv(\"west_interval_data_01-29-2019_01-27-2021.csv\")"
   ]
  },
  {
   "cell_type": "code",
   "execution_count": 3,
   "metadata": {},
   "outputs": [],
   "source": [
    "power_data_west['End Date Time'] = pd.to_datetime(power_data_west['End Date Time'], infer_datetime_format=True)\n",
    "indexedDataset = power_data_west.set_index(['End Date Time'])"
   ]
  },
  {
   "cell_type": "code",
   "execution_count": 4,
   "metadata": {},
   "outputs": [],
   "source": [
    "plot_df_west = pd.DataFrame(power_data_west, columns=['Peak Demand', 'Avg. Temperature', 'End Date Time'])"
   ]
  },
  {
   "cell_type": "code",
   "execution_count": 5,
   "metadata": {},
   "outputs": [
    {
     "data": {
      "text/plain": [
       "Timestamp('2019-01-29 00:15:00')"
      ]
     },
     "execution_count": 5,
     "metadata": {},
     "output_type": "execute_result"
    }
   ],
   "source": [
    "plot_df_west['End Date Time'].min()"
   ]
  },
  {
   "cell_type": "code",
   "execution_count": 6,
   "metadata": {},
   "outputs": [
    {
     "data": {
      "text/plain": [
       "Timestamp('2022-01-27 00:00:00')"
      ]
     },
     "execution_count": 6,
     "metadata": {},
     "output_type": "execute_result"
    }
   ],
   "source": [
    "plot_df_west['End Date Time'].max()"
   ]
  },
  {
   "cell_type": "code",
   "execution_count": 7,
   "metadata": {},
   "outputs": [],
   "source": [
    "power_data_west['month'] = power_data_west['End Date Time'].dt.strftime('%b')"
   ]
  },
  {
   "cell_type": "code",
   "execution_count": 8,
   "metadata": {},
   "outputs": [],
   "source": [
    "power_data_west['day_of_week'] = power_data_west['End Date Time'].dt.day_name()"
   ]
  },
  {
   "cell_type": "code",
   "execution_count": 9,
   "metadata": {},
   "outputs": [],
   "source": [
    "from pandas.tseries.holiday import USFederalHolidayCalendar as calendar\n",
    "\n",
    "date_range = pd.date_range(start='2019-01-01', end='2022-01-27')\n",
    "\n",
    "cal = calendar()\n",
    "holidays = cal.holidays(start=date_range.min(), end=date_range.max())\n",
    "\n",
    "power_data_west['holiday'] = power_data_west['End Date Time'].dt.date.astype('datetime64').isin(holidays)"
   ]
  },
  {
   "cell_type": "code",
   "execution_count": 10,
   "metadata": {},
   "outputs": [
    {
     "data": {
      "text/html": [
       "<div>\n",
       "<style scoped>\n",
       "    .dataframe tbody tr th:only-of-type {\n",
       "        vertical-align: middle;\n",
       "    }\n",
       "\n",
       "    .dataframe tbody tr th {\n",
       "        vertical-align: top;\n",
       "    }\n",
       "\n",
       "    .dataframe thead th {\n",
       "        text-align: right;\n",
       "    }\n",
       "</style>\n",
       "<table border=\"1\" class=\"dataframe\">\n",
       "  <thead>\n",
       "    <tr style=\"text-align: right;\">\n",
       "      <th></th>\n",
       "      <th>Service Agreement</th>\n",
       "      <th>Start Date Time</th>\n",
       "      <th>End Date Time</th>\n",
       "      <th>Usage</th>\n",
       "      <th>Usage Unit</th>\n",
       "      <th>Cost</th>\n",
       "      <th>Currency Unit</th>\n",
       "      <th>Avg. Temperature</th>\n",
       "      <th>Temperature Unit</th>\n",
       "      <th>Event Flags</th>\n",
       "      <th>Peak Demand</th>\n",
       "      <th>Demand Unit</th>\n",
       "      <th>month</th>\n",
       "      <th>day_of_week</th>\n",
       "      <th>holiday</th>\n",
       "    </tr>\n",
       "  </thead>\n",
       "  <tbody>\n",
       "    <tr>\n",
       "      <th>0</th>\n",
       "      <td>west</td>\n",
       "      <td>1/29/19 0:00</td>\n",
       "      <td>2019-01-29 00:15:00</td>\n",
       "      <td>211.2</td>\n",
       "      <td>KWH</td>\n",
       "      <td>NaN</td>\n",
       "      <td>NaN</td>\n",
       "      <td>54.0</td>\n",
       "      <td>FAHRENHEIT</td>\n",
       "      <td>NaN</td>\n",
       "      <td>844.8</td>\n",
       "      <td>KW</td>\n",
       "      <td>Jan</td>\n",
       "      <td>Tuesday</td>\n",
       "      <td>False</td>\n",
       "    </tr>\n",
       "    <tr>\n",
       "      <th>1</th>\n",
       "      <td>west</td>\n",
       "      <td>1/29/19 0:15</td>\n",
       "      <td>2019-01-29 00:30:00</td>\n",
       "      <td>210.4</td>\n",
       "      <td>KWH</td>\n",
       "      <td>NaN</td>\n",
       "      <td>NaN</td>\n",
       "      <td>54.0</td>\n",
       "      <td>FAHRENHEIT</td>\n",
       "      <td>NaN</td>\n",
       "      <td>841.6</td>\n",
       "      <td>KW</td>\n",
       "      <td>Jan</td>\n",
       "      <td>Tuesday</td>\n",
       "      <td>False</td>\n",
       "    </tr>\n",
       "    <tr>\n",
       "      <th>2</th>\n",
       "      <td>west</td>\n",
       "      <td>1/29/19 0:30</td>\n",
       "      <td>2019-01-29 00:45:00</td>\n",
       "      <td>208.0</td>\n",
       "      <td>KWH</td>\n",
       "      <td>NaN</td>\n",
       "      <td>NaN</td>\n",
       "      <td>54.0</td>\n",
       "      <td>FAHRENHEIT</td>\n",
       "      <td>NaN</td>\n",
       "      <td>832.0</td>\n",
       "      <td>KW</td>\n",
       "      <td>Jan</td>\n",
       "      <td>Tuesday</td>\n",
       "      <td>False</td>\n",
       "    </tr>\n",
       "    <tr>\n",
       "      <th>3</th>\n",
       "      <td>west</td>\n",
       "      <td>1/29/19 0:45</td>\n",
       "      <td>2019-01-29 01:00:00</td>\n",
       "      <td>212.0</td>\n",
       "      <td>KWH</td>\n",
       "      <td>NaN</td>\n",
       "      <td>NaN</td>\n",
       "      <td>54.0</td>\n",
       "      <td>FAHRENHEIT</td>\n",
       "      <td>NaN</td>\n",
       "      <td>848.0</td>\n",
       "      <td>KW</td>\n",
       "      <td>Jan</td>\n",
       "      <td>Tuesday</td>\n",
       "      <td>False</td>\n",
       "    </tr>\n",
       "    <tr>\n",
       "      <th>4</th>\n",
       "      <td>west</td>\n",
       "      <td>1/29/19 1:00</td>\n",
       "      <td>2019-01-29 01:15:00</td>\n",
       "      <td>203.2</td>\n",
       "      <td>KWH</td>\n",
       "      <td>NaN</td>\n",
       "      <td>NaN</td>\n",
       "      <td>55.0</td>\n",
       "      <td>FAHRENHEIT</td>\n",
       "      <td>NaN</td>\n",
       "      <td>812.8</td>\n",
       "      <td>KW</td>\n",
       "      <td>Jan</td>\n",
       "      <td>Tuesday</td>\n",
       "      <td>False</td>\n",
       "    </tr>\n",
       "    <tr>\n",
       "      <th>5</th>\n",
       "      <td>west</td>\n",
       "      <td>1/29/19 1:15</td>\n",
       "      <td>2019-01-29 01:30:00</td>\n",
       "      <td>205.6</td>\n",
       "      <td>KWH</td>\n",
       "      <td>NaN</td>\n",
       "      <td>NaN</td>\n",
       "      <td>55.0</td>\n",
       "      <td>FAHRENHEIT</td>\n",
       "      <td>NaN</td>\n",
       "      <td>822.4</td>\n",
       "      <td>KW</td>\n",
       "      <td>Jan</td>\n",
       "      <td>Tuesday</td>\n",
       "      <td>False</td>\n",
       "    </tr>\n",
       "    <tr>\n",
       "      <th>6</th>\n",
       "      <td>west</td>\n",
       "      <td>1/29/19 1:30</td>\n",
       "      <td>2019-01-29 01:45:00</td>\n",
       "      <td>205.6</td>\n",
       "      <td>KWH</td>\n",
       "      <td>NaN</td>\n",
       "      <td>NaN</td>\n",
       "      <td>55.0</td>\n",
       "      <td>FAHRENHEIT</td>\n",
       "      <td>NaN</td>\n",
       "      <td>822.4</td>\n",
       "      <td>KW</td>\n",
       "      <td>Jan</td>\n",
       "      <td>Tuesday</td>\n",
       "      <td>False</td>\n",
       "    </tr>\n",
       "    <tr>\n",
       "      <th>7</th>\n",
       "      <td>west</td>\n",
       "      <td>1/29/19 1:45</td>\n",
       "      <td>2019-01-29 02:00:00</td>\n",
       "      <td>208.8</td>\n",
       "      <td>KWH</td>\n",
       "      <td>NaN</td>\n",
       "      <td>NaN</td>\n",
       "      <td>55.0</td>\n",
       "      <td>FAHRENHEIT</td>\n",
       "      <td>NaN</td>\n",
       "      <td>835.2</td>\n",
       "      <td>KW</td>\n",
       "      <td>Jan</td>\n",
       "      <td>Tuesday</td>\n",
       "      <td>False</td>\n",
       "    </tr>\n",
       "    <tr>\n",
       "      <th>8</th>\n",
       "      <td>west</td>\n",
       "      <td>1/29/19 2:00</td>\n",
       "      <td>2019-01-29 02:15:00</td>\n",
       "      <td>217.6</td>\n",
       "      <td>KWH</td>\n",
       "      <td>NaN</td>\n",
       "      <td>NaN</td>\n",
       "      <td>55.0</td>\n",
       "      <td>FAHRENHEIT</td>\n",
       "      <td>NaN</td>\n",
       "      <td>870.4</td>\n",
       "      <td>KW</td>\n",
       "      <td>Jan</td>\n",
       "      <td>Tuesday</td>\n",
       "      <td>False</td>\n",
       "    </tr>\n",
       "    <tr>\n",
       "      <th>9</th>\n",
       "      <td>west</td>\n",
       "      <td>1/29/19 2:15</td>\n",
       "      <td>2019-01-29 02:30:00</td>\n",
       "      <td>229.6</td>\n",
       "      <td>KWH</td>\n",
       "      <td>NaN</td>\n",
       "      <td>NaN</td>\n",
       "      <td>55.0</td>\n",
       "      <td>FAHRENHEIT</td>\n",
       "      <td>NaN</td>\n",
       "      <td>918.4</td>\n",
       "      <td>KW</td>\n",
       "      <td>Jan</td>\n",
       "      <td>Tuesday</td>\n",
       "      <td>False</td>\n",
       "    </tr>\n",
       "  </tbody>\n",
       "</table>\n",
       "</div>"
      ],
      "text/plain": [
       "  Service Agreement Start Date Time       End Date Time  Usage Usage Unit  \\\n",
       "0              west    1/29/19 0:00 2019-01-29 00:15:00  211.2        KWH   \n",
       "1              west    1/29/19 0:15 2019-01-29 00:30:00  210.4        KWH   \n",
       "2              west    1/29/19 0:30 2019-01-29 00:45:00  208.0        KWH   \n",
       "3              west    1/29/19 0:45 2019-01-29 01:00:00  212.0        KWH   \n",
       "4              west    1/29/19 1:00 2019-01-29 01:15:00  203.2        KWH   \n",
       "5              west    1/29/19 1:15 2019-01-29 01:30:00  205.6        KWH   \n",
       "6              west    1/29/19 1:30 2019-01-29 01:45:00  205.6        KWH   \n",
       "7              west    1/29/19 1:45 2019-01-29 02:00:00  208.8        KWH   \n",
       "8              west    1/29/19 2:00 2019-01-29 02:15:00  217.6        KWH   \n",
       "9              west    1/29/19 2:15 2019-01-29 02:30:00  229.6        KWH   \n",
       "\n",
       "   Cost  Currency Unit  Avg. Temperature Temperature Unit Event Flags  \\\n",
       "0   NaN            NaN              54.0       FAHRENHEIT         NaN   \n",
       "1   NaN            NaN              54.0       FAHRENHEIT         NaN   \n",
       "2   NaN            NaN              54.0       FAHRENHEIT         NaN   \n",
       "3   NaN            NaN              54.0       FAHRENHEIT         NaN   \n",
       "4   NaN            NaN              55.0       FAHRENHEIT         NaN   \n",
       "5   NaN            NaN              55.0       FAHRENHEIT         NaN   \n",
       "6   NaN            NaN              55.0       FAHRENHEIT         NaN   \n",
       "7   NaN            NaN              55.0       FAHRENHEIT         NaN   \n",
       "8   NaN            NaN              55.0       FAHRENHEIT         NaN   \n",
       "9   NaN            NaN              55.0       FAHRENHEIT         NaN   \n",
       "\n",
       "   Peak Demand Demand Unit month day_of_week  holiday  \n",
       "0        844.8          KW   Jan     Tuesday    False  \n",
       "1        841.6          KW   Jan     Tuesday    False  \n",
       "2        832.0          KW   Jan     Tuesday    False  \n",
       "3        848.0          KW   Jan     Tuesday    False  \n",
       "4        812.8          KW   Jan     Tuesday    False  \n",
       "5        822.4          KW   Jan     Tuesday    False  \n",
       "6        822.4          KW   Jan     Tuesday    False  \n",
       "7        835.2          KW   Jan     Tuesday    False  \n",
       "8        870.4          KW   Jan     Tuesday    False  \n",
       "9        918.4          KW   Jan     Tuesday    False  "
      ]
     },
     "execution_count": 10,
     "metadata": {},
     "output_type": "execute_result"
    }
   ],
   "source": [
    "power_data_west.head(10)"
   ]
  },
  {
   "cell_type": "code",
   "execution_count": 11,
   "metadata": {},
   "outputs": [
    {
     "data": {
      "text/html": [
       "<div>\n",
       "<style scoped>\n",
       "    .dataframe tbody tr th:only-of-type {\n",
       "        vertical-align: middle;\n",
       "    }\n",
       "\n",
       "    .dataframe tbody tr th {\n",
       "        vertical-align: top;\n",
       "    }\n",
       "\n",
       "    .dataframe thead th {\n",
       "        text-align: right;\n",
       "    }\n",
       "</style>\n",
       "<table border=\"1\" class=\"dataframe\">\n",
       "  <thead>\n",
       "    <tr style=\"text-align: right;\">\n",
       "      <th></th>\n",
       "      <th>Service Agreement</th>\n",
       "      <th>Start Date Time</th>\n",
       "      <th>End Date Time</th>\n",
       "      <th>Usage</th>\n",
       "      <th>Usage Unit</th>\n",
       "      <th>Cost</th>\n",
       "      <th>Currency Unit</th>\n",
       "      <th>Avg. Temperature</th>\n",
       "      <th>Temperature Unit</th>\n",
       "      <th>Event Flags</th>\n",
       "      <th>Peak Demand</th>\n",
       "      <th>Demand Unit</th>\n",
       "      <th>month</th>\n",
       "      <th>day_of_week</th>\n",
       "      <th>holiday</th>\n",
       "    </tr>\n",
       "  </thead>\n",
       "  <tbody>\n",
       "    <tr>\n",
       "      <th>104726</th>\n",
       "      <td>west</td>\n",
       "      <td>1/26/22 21:30</td>\n",
       "      <td>2022-01-26 21:45:00</td>\n",
       "      <td>284.0</td>\n",
       "      <td>KWH</td>\n",
       "      <td>NaN</td>\n",
       "      <td>NaN</td>\n",
       "      <td>52.0</td>\n",
       "      <td>FAHRENHEIT</td>\n",
       "      <td>NaN</td>\n",
       "      <td>1136.0</td>\n",
       "      <td>KW</td>\n",
       "      <td>Jan</td>\n",
       "      <td>Wednesday</td>\n",
       "      <td>False</td>\n",
       "    </tr>\n",
       "    <tr>\n",
       "      <th>104727</th>\n",
       "      <td>west</td>\n",
       "      <td>1/26/22 21:45</td>\n",
       "      <td>2022-01-26 22:00:00</td>\n",
       "      <td>288.8</td>\n",
       "      <td>KWH</td>\n",
       "      <td>NaN</td>\n",
       "      <td>NaN</td>\n",
       "      <td>52.0</td>\n",
       "      <td>FAHRENHEIT</td>\n",
       "      <td>NaN</td>\n",
       "      <td>1155.2</td>\n",
       "      <td>KW</td>\n",
       "      <td>Jan</td>\n",
       "      <td>Wednesday</td>\n",
       "      <td>False</td>\n",
       "    </tr>\n",
       "    <tr>\n",
       "      <th>104728</th>\n",
       "      <td>west</td>\n",
       "      <td>1/26/22 22:00</td>\n",
       "      <td>2022-01-26 22:15:00</td>\n",
       "      <td>301.6</td>\n",
       "      <td>KWH</td>\n",
       "      <td>NaN</td>\n",
       "      <td>NaN</td>\n",
       "      <td>51.0</td>\n",
       "      <td>FAHRENHEIT</td>\n",
       "      <td>NaN</td>\n",
       "      <td>1206.4</td>\n",
       "      <td>KW</td>\n",
       "      <td>Jan</td>\n",
       "      <td>Wednesday</td>\n",
       "      <td>False</td>\n",
       "    </tr>\n",
       "    <tr>\n",
       "      <th>104729</th>\n",
       "      <td>west</td>\n",
       "      <td>1/26/22 22:15</td>\n",
       "      <td>2022-01-26 22:30:00</td>\n",
       "      <td>280.0</td>\n",
       "      <td>KWH</td>\n",
       "      <td>NaN</td>\n",
       "      <td>NaN</td>\n",
       "      <td>51.0</td>\n",
       "      <td>FAHRENHEIT</td>\n",
       "      <td>NaN</td>\n",
       "      <td>1120.0</td>\n",
       "      <td>KW</td>\n",
       "      <td>Jan</td>\n",
       "      <td>Wednesday</td>\n",
       "      <td>False</td>\n",
       "    </tr>\n",
       "    <tr>\n",
       "      <th>104730</th>\n",
       "      <td>west</td>\n",
       "      <td>1/26/22 22:30</td>\n",
       "      <td>2022-01-26 22:45:00</td>\n",
       "      <td>296.8</td>\n",
       "      <td>KWH</td>\n",
       "      <td>NaN</td>\n",
       "      <td>NaN</td>\n",
       "      <td>51.0</td>\n",
       "      <td>FAHRENHEIT</td>\n",
       "      <td>NaN</td>\n",
       "      <td>1187.2</td>\n",
       "      <td>KW</td>\n",
       "      <td>Jan</td>\n",
       "      <td>Wednesday</td>\n",
       "      <td>False</td>\n",
       "    </tr>\n",
       "    <tr>\n",
       "      <th>104731</th>\n",
       "      <td>west</td>\n",
       "      <td>1/26/22 22:45</td>\n",
       "      <td>2022-01-26 23:00:00</td>\n",
       "      <td>282.4</td>\n",
       "      <td>KWH</td>\n",
       "      <td>NaN</td>\n",
       "      <td>NaN</td>\n",
       "      <td>51.0</td>\n",
       "      <td>FAHRENHEIT</td>\n",
       "      <td>NaN</td>\n",
       "      <td>1129.6</td>\n",
       "      <td>KW</td>\n",
       "      <td>Jan</td>\n",
       "      <td>Wednesday</td>\n",
       "      <td>False</td>\n",
       "    </tr>\n",
       "    <tr>\n",
       "      <th>104732</th>\n",
       "      <td>west</td>\n",
       "      <td>1/26/22 23:00</td>\n",
       "      <td>2022-01-26 23:15:00</td>\n",
       "      <td>288.8</td>\n",
       "      <td>KWH</td>\n",
       "      <td>NaN</td>\n",
       "      <td>NaN</td>\n",
       "      <td>51.0</td>\n",
       "      <td>FAHRENHEIT</td>\n",
       "      <td>NaN</td>\n",
       "      <td>1155.2</td>\n",
       "      <td>KW</td>\n",
       "      <td>Jan</td>\n",
       "      <td>Wednesday</td>\n",
       "      <td>False</td>\n",
       "    </tr>\n",
       "    <tr>\n",
       "      <th>104733</th>\n",
       "      <td>west</td>\n",
       "      <td>1/26/22 23:15</td>\n",
       "      <td>2022-01-26 23:30:00</td>\n",
       "      <td>289.6</td>\n",
       "      <td>KWH</td>\n",
       "      <td>NaN</td>\n",
       "      <td>NaN</td>\n",
       "      <td>51.0</td>\n",
       "      <td>FAHRENHEIT</td>\n",
       "      <td>NaN</td>\n",
       "      <td>1158.4</td>\n",
       "      <td>KW</td>\n",
       "      <td>Jan</td>\n",
       "      <td>Wednesday</td>\n",
       "      <td>False</td>\n",
       "    </tr>\n",
       "    <tr>\n",
       "      <th>104734</th>\n",
       "      <td>west</td>\n",
       "      <td>1/26/22 23:30</td>\n",
       "      <td>2022-01-26 23:45:00</td>\n",
       "      <td>294.4</td>\n",
       "      <td>KWH</td>\n",
       "      <td>NaN</td>\n",
       "      <td>NaN</td>\n",
       "      <td>51.0</td>\n",
       "      <td>FAHRENHEIT</td>\n",
       "      <td>NaN</td>\n",
       "      <td>1177.6</td>\n",
       "      <td>KW</td>\n",
       "      <td>Jan</td>\n",
       "      <td>Wednesday</td>\n",
       "      <td>False</td>\n",
       "    </tr>\n",
       "    <tr>\n",
       "      <th>104735</th>\n",
       "      <td>west</td>\n",
       "      <td>1/26/22 23:45</td>\n",
       "      <td>2022-01-27 00:00:00</td>\n",
       "      <td>290.4</td>\n",
       "      <td>KWH</td>\n",
       "      <td>NaN</td>\n",
       "      <td>NaN</td>\n",
       "      <td>51.0</td>\n",
       "      <td>FAHRENHEIT</td>\n",
       "      <td>NaN</td>\n",
       "      <td>1161.6</td>\n",
       "      <td>KW</td>\n",
       "      <td>Jan</td>\n",
       "      <td>Thursday</td>\n",
       "      <td>False</td>\n",
       "    </tr>\n",
       "  </tbody>\n",
       "</table>\n",
       "</div>"
      ],
      "text/plain": [
       "       Service Agreement Start Date Time       End Date Time  Usage  \\\n",
       "104726              west   1/26/22 21:30 2022-01-26 21:45:00  284.0   \n",
       "104727              west   1/26/22 21:45 2022-01-26 22:00:00  288.8   \n",
       "104728              west   1/26/22 22:00 2022-01-26 22:15:00  301.6   \n",
       "104729              west   1/26/22 22:15 2022-01-26 22:30:00  280.0   \n",
       "104730              west   1/26/22 22:30 2022-01-26 22:45:00  296.8   \n",
       "104731              west   1/26/22 22:45 2022-01-26 23:00:00  282.4   \n",
       "104732              west   1/26/22 23:00 2022-01-26 23:15:00  288.8   \n",
       "104733              west   1/26/22 23:15 2022-01-26 23:30:00  289.6   \n",
       "104734              west   1/26/22 23:30 2022-01-26 23:45:00  294.4   \n",
       "104735              west   1/26/22 23:45 2022-01-27 00:00:00  290.4   \n",
       "\n",
       "       Usage Unit  Cost  Currency Unit  Avg. Temperature Temperature Unit  \\\n",
       "104726        KWH   NaN            NaN              52.0       FAHRENHEIT   \n",
       "104727        KWH   NaN            NaN              52.0       FAHRENHEIT   \n",
       "104728        KWH   NaN            NaN              51.0       FAHRENHEIT   \n",
       "104729        KWH   NaN            NaN              51.0       FAHRENHEIT   \n",
       "104730        KWH   NaN            NaN              51.0       FAHRENHEIT   \n",
       "104731        KWH   NaN            NaN              51.0       FAHRENHEIT   \n",
       "104732        KWH   NaN            NaN              51.0       FAHRENHEIT   \n",
       "104733        KWH   NaN            NaN              51.0       FAHRENHEIT   \n",
       "104734        KWH   NaN            NaN              51.0       FAHRENHEIT   \n",
       "104735        KWH   NaN            NaN              51.0       FAHRENHEIT   \n",
       "\n",
       "       Event Flags  Peak Demand Demand Unit month day_of_week  holiday  \n",
       "104726         NaN       1136.0          KW   Jan   Wednesday    False  \n",
       "104727         NaN       1155.2          KW   Jan   Wednesday    False  \n",
       "104728         NaN       1206.4          KW   Jan   Wednesday    False  \n",
       "104729         NaN       1120.0          KW   Jan   Wednesday    False  \n",
       "104730         NaN       1187.2          KW   Jan   Wednesday    False  \n",
       "104731         NaN       1129.6          KW   Jan   Wednesday    False  \n",
       "104732         NaN       1155.2          KW   Jan   Wednesday    False  \n",
       "104733         NaN       1158.4          KW   Jan   Wednesday    False  \n",
       "104734         NaN       1177.6          KW   Jan   Wednesday    False  \n",
       "104735         NaN       1161.6          KW   Jan    Thursday    False  "
      ]
     },
     "execution_count": 11,
     "metadata": {},
     "output_type": "execute_result"
    }
   ],
   "source": [
    "power_data_west.tail(10)"
   ]
  },
  {
   "cell_type": "code",
   "execution_count": 12,
   "metadata": {},
   "outputs": [
    {
     "data": {
      "text/html": [
       "<div>\n",
       "<style scoped>\n",
       "    .dataframe tbody tr th:only-of-type {\n",
       "        vertical-align: middle;\n",
       "    }\n",
       "\n",
       "    .dataframe tbody tr th {\n",
       "        vertical-align: top;\n",
       "    }\n",
       "\n",
       "    .dataframe thead th {\n",
       "        text-align: right;\n",
       "    }\n",
       "</style>\n",
       "<table border=\"1\" class=\"dataframe\">\n",
       "  <thead>\n",
       "    <tr style=\"text-align: right;\">\n",
       "      <th></th>\n",
       "      <th>Usage</th>\n",
       "      <th>Cost</th>\n",
       "      <th>Currency Unit</th>\n",
       "      <th>Avg. Temperature</th>\n",
       "      <th>Peak Demand</th>\n",
       "    </tr>\n",
       "  </thead>\n",
       "  <tbody>\n",
       "    <tr>\n",
       "      <th>count</th>\n",
       "      <td>104724.000000</td>\n",
       "      <td>0.0</td>\n",
       "      <td>0.0</td>\n",
       "      <td>104716.000000</td>\n",
       "      <td>104724.000000</td>\n",
       "    </tr>\n",
       "    <tr>\n",
       "      <th>mean</th>\n",
       "      <td>309.636443</td>\n",
       "      <td>NaN</td>\n",
       "      <td>NaN</td>\n",
       "      <td>67.377211</td>\n",
       "      <td>1238.545770</td>\n",
       "    </tr>\n",
       "    <tr>\n",
       "      <th>std</th>\n",
       "      <td>75.557612</td>\n",
       "      <td>NaN</td>\n",
       "      <td>NaN</td>\n",
       "      <td>16.591545</td>\n",
       "      <td>302.230457</td>\n",
       "    </tr>\n",
       "    <tr>\n",
       "      <th>min</th>\n",
       "      <td>0.000000</td>\n",
       "      <td>NaN</td>\n",
       "      <td>NaN</td>\n",
       "      <td>29.000000</td>\n",
       "      <td>0.000000</td>\n",
       "    </tr>\n",
       "    <tr>\n",
       "      <th>25%</th>\n",
       "      <td>252.000000</td>\n",
       "      <td>NaN</td>\n",
       "      <td>NaN</td>\n",
       "      <td>54.000000</td>\n",
       "      <td>1008.000000</td>\n",
       "    </tr>\n",
       "    <tr>\n",
       "      <th>50%</th>\n",
       "      <td>308.000000</td>\n",
       "      <td>NaN</td>\n",
       "      <td>NaN</td>\n",
       "      <td>66.000000</td>\n",
       "      <td>1232.000000</td>\n",
       "    </tr>\n",
       "    <tr>\n",
       "      <th>75%</th>\n",
       "      <td>368.000000</td>\n",
       "      <td>NaN</td>\n",
       "      <td>NaN</td>\n",
       "      <td>79.000000</td>\n",
       "      <td>1472.000000</td>\n",
       "    </tr>\n",
       "    <tr>\n",
       "      <th>max</th>\n",
       "      <td>531.200000</td>\n",
       "      <td>NaN</td>\n",
       "      <td>NaN</td>\n",
       "      <td>114.000000</td>\n",
       "      <td>2124.800000</td>\n",
       "    </tr>\n",
       "  </tbody>\n",
       "</table>\n",
       "</div>"
      ],
      "text/plain": [
       "               Usage  Cost  Currency Unit  Avg. Temperature    Peak Demand\n",
       "count  104724.000000   0.0            0.0     104716.000000  104724.000000\n",
       "mean      309.636443   NaN            NaN         67.377211    1238.545770\n",
       "std        75.557612   NaN            NaN         16.591545     302.230457\n",
       "min         0.000000   NaN            NaN         29.000000       0.000000\n",
       "25%       252.000000   NaN            NaN         54.000000    1008.000000\n",
       "50%       308.000000   NaN            NaN         66.000000    1232.000000\n",
       "75%       368.000000   NaN            NaN         79.000000    1472.000000\n",
       "max       531.200000   NaN            NaN        114.000000    2124.800000"
      ]
     },
     "execution_count": 12,
     "metadata": {},
     "output_type": "execute_result"
    }
   ],
   "source": [
    "power_data_west.describe()"
   ]
  },
  {
   "cell_type": "code",
   "execution_count": 13,
   "metadata": {},
   "outputs": [
    {
     "data": {
      "text/plain": [
       "(104736, 15)"
      ]
     },
     "execution_count": 13,
     "metadata": {},
     "output_type": "execute_result"
    }
   ],
   "source": [
    "power_data_west.shape"
   ]
  },
  {
   "cell_type": "code",
   "execution_count": 14,
   "metadata": {},
   "outputs": [
    {
     "data": {
      "text/plain": [
       "Service Agreement            object\n",
       "Start Date Time              object\n",
       "End Date Time        datetime64[ns]\n",
       "Usage                       float64\n",
       "Usage Unit                   object\n",
       "Cost                        float64\n",
       "Currency Unit               float64\n",
       "Avg. Temperature            float64\n",
       "Temperature Unit             object\n",
       "Event Flags                  object\n",
       "Peak Demand                 float64\n",
       "Demand Unit                  object\n",
       "month                        object\n",
       "day_of_week                  object\n",
       "holiday                        bool\n",
       "dtype: object"
      ]
     },
     "execution_count": 14,
     "metadata": {},
     "output_type": "execute_result"
    }
   ],
   "source": [
    "power_data_west.dtypes"
   ]
  },
  {
   "cell_type": "code",
   "execution_count": 15,
   "metadata": {},
   "outputs": [
    {
     "data": {
      "text/plain": [
       "Service Agreement         0\n",
       "Start Date Time           0\n",
       "End Date Time             0\n",
       "Usage                    12\n",
       "Usage Unit               12\n",
       "Cost                 104736\n",
       "Currency Unit        104736\n",
       "Avg. Temperature         20\n",
       "Temperature Unit          0\n",
       "Event Flags          104730\n",
       "Peak Demand              12\n",
       "Demand Unit              12\n",
       "month                     0\n",
       "day_of_week               0\n",
       "holiday                   0\n",
       "dtype: int64"
      ]
     },
     "execution_count": 15,
     "metadata": {},
     "output_type": "execute_result"
    }
   ],
   "source": [
    "#For checking missing values in dataset\n",
    "power_data_west.isna().sum()"
   ]
  },
  {
   "cell_type": "code",
   "execution_count": 16,
   "metadata": {},
   "outputs": [
    {
     "data": {
      "text/plain": [
       "Service Agreement         0\n",
       "Start Date Time           0\n",
       "End Date Time             0\n",
       "Usage                     0\n",
       "Usage Unit                0\n",
       "Cost                 104736\n",
       "Currency Unit        104736\n",
       "Avg. Temperature          0\n",
       "Temperature Unit          0\n",
       "Event Flags            3840\n",
       "Peak Demand               0\n",
       "Demand Unit               0\n",
       "month                     0\n",
       "day_of_week               0\n",
       "holiday                   0\n",
       "dtype: int64"
      ]
     },
     "execution_count": 16,
     "metadata": {},
     "output_type": "execute_result"
    }
   ],
   "source": [
    "power_data_west.fillna(method='ffill',inplace=True)\n",
    "power_data_west.isna().sum()"
   ]
  },
  {
   "cell_type": "code",
   "execution_count": 17,
   "metadata": {},
   "outputs": [
    {
     "data": {
      "text/plain": [
       "Service Agreement    50\n",
       "Start Date Time      50\n",
       "End Date Time        50\n",
       "Usage                50\n",
       "Usage Unit           50\n",
       "Cost                  0\n",
       "Currency Unit         0\n",
       "Avg. Temperature     50\n",
       "Temperature Unit     50\n",
       "Event Flags          50\n",
       "Peak Demand          50\n",
       "Demand Unit          50\n",
       "month                50\n",
       "day_of_week          50\n",
       "holiday              50\n",
       "dtype: int64"
      ]
     },
     "execution_count": 17,
     "metadata": {},
     "output_type": "execute_result"
    }
   ],
   "source": [
    "zero_usage_df = power_data_west.loc[power_data_west['Peak Demand'] == 0]\n",
    "zero_usage_df.count()"
   ]
  },
  {
   "cell_type": "markdown",
   "metadata": {},
   "source": [
    "dataset.kW.plot()"
   ]
  },
  {
   "cell_type": "markdown",
   "metadata": {},
   "source": [
    "## GRU Timeseries Model"
   ]
  },
  {
   "cell_type": "code",
   "execution_count": 83,
   "metadata": {},
   "outputs": [],
   "source": [
    "gru_data = power_data_west[(power_data_west['End Date Time'] > '2019-01-01') & (power_data_west['End Date Time'] < '2022-02-01')]"
   ]
  },
  {
   "cell_type": "code",
   "execution_count": 84,
   "metadata": {},
   "outputs": [
    {
     "data": {
      "text/html": [
       "<div>\n",
       "<style scoped>\n",
       "    .dataframe tbody tr th:only-of-type {\n",
       "        vertical-align: middle;\n",
       "    }\n",
       "\n",
       "    .dataframe tbody tr th {\n",
       "        vertical-align: top;\n",
       "    }\n",
       "\n",
       "    .dataframe thead th {\n",
       "        text-align: right;\n",
       "    }\n",
       "</style>\n",
       "<table border=\"1\" class=\"dataframe\">\n",
       "  <thead>\n",
       "    <tr style=\"text-align: right;\">\n",
       "      <th></th>\n",
       "      <th>Service Agreement</th>\n",
       "      <th>Start Date Time</th>\n",
       "      <th>End Date Time</th>\n",
       "      <th>Usage</th>\n",
       "      <th>Usage Unit</th>\n",
       "      <th>Cost</th>\n",
       "      <th>Currency Unit</th>\n",
       "      <th>Avg. Temperature</th>\n",
       "      <th>Temperature Unit</th>\n",
       "      <th>Event Flags</th>\n",
       "      <th>Peak Demand</th>\n",
       "      <th>Demand Unit</th>\n",
       "      <th>month</th>\n",
       "      <th>day_of_week</th>\n",
       "      <th>holiday</th>\n",
       "    </tr>\n",
       "  </thead>\n",
       "  <tbody>\n",
       "    <tr>\n",
       "      <th>0</th>\n",
       "      <td>west</td>\n",
       "      <td>1/29/19 0:00</td>\n",
       "      <td>2019-01-29 00:15:00</td>\n",
       "      <td>211.2</td>\n",
       "      <td>KWH</td>\n",
       "      <td>NaN</td>\n",
       "      <td>NaN</td>\n",
       "      <td>54.0</td>\n",
       "      <td>FAHRENHEIT</td>\n",
       "      <td>NaN</td>\n",
       "      <td>844.8</td>\n",
       "      <td>KW</td>\n",
       "      <td>Jan</td>\n",
       "      <td>Tuesday</td>\n",
       "      <td>False</td>\n",
       "    </tr>\n",
       "    <tr>\n",
       "      <th>1</th>\n",
       "      <td>west</td>\n",
       "      <td>1/29/19 0:15</td>\n",
       "      <td>2019-01-29 00:30:00</td>\n",
       "      <td>210.4</td>\n",
       "      <td>KWH</td>\n",
       "      <td>NaN</td>\n",
       "      <td>NaN</td>\n",
       "      <td>54.0</td>\n",
       "      <td>FAHRENHEIT</td>\n",
       "      <td>NaN</td>\n",
       "      <td>841.6</td>\n",
       "      <td>KW</td>\n",
       "      <td>Jan</td>\n",
       "      <td>Tuesday</td>\n",
       "      <td>False</td>\n",
       "    </tr>\n",
       "    <tr>\n",
       "      <th>2</th>\n",
       "      <td>west</td>\n",
       "      <td>1/29/19 0:30</td>\n",
       "      <td>2019-01-29 00:45:00</td>\n",
       "      <td>208.0</td>\n",
       "      <td>KWH</td>\n",
       "      <td>NaN</td>\n",
       "      <td>NaN</td>\n",
       "      <td>54.0</td>\n",
       "      <td>FAHRENHEIT</td>\n",
       "      <td>NaN</td>\n",
       "      <td>832.0</td>\n",
       "      <td>KW</td>\n",
       "      <td>Jan</td>\n",
       "      <td>Tuesday</td>\n",
       "      <td>False</td>\n",
       "    </tr>\n",
       "    <tr>\n",
       "      <th>3</th>\n",
       "      <td>west</td>\n",
       "      <td>1/29/19 0:45</td>\n",
       "      <td>2019-01-29 01:00:00</td>\n",
       "      <td>212.0</td>\n",
       "      <td>KWH</td>\n",
       "      <td>NaN</td>\n",
       "      <td>NaN</td>\n",
       "      <td>54.0</td>\n",
       "      <td>FAHRENHEIT</td>\n",
       "      <td>NaN</td>\n",
       "      <td>848.0</td>\n",
       "      <td>KW</td>\n",
       "      <td>Jan</td>\n",
       "      <td>Tuesday</td>\n",
       "      <td>False</td>\n",
       "    </tr>\n",
       "    <tr>\n",
       "      <th>4</th>\n",
       "      <td>west</td>\n",
       "      <td>1/29/19 1:00</td>\n",
       "      <td>2019-01-29 01:15:00</td>\n",
       "      <td>203.2</td>\n",
       "      <td>KWH</td>\n",
       "      <td>NaN</td>\n",
       "      <td>NaN</td>\n",
       "      <td>55.0</td>\n",
       "      <td>FAHRENHEIT</td>\n",
       "      <td>NaN</td>\n",
       "      <td>812.8</td>\n",
       "      <td>KW</td>\n",
       "      <td>Jan</td>\n",
       "      <td>Tuesday</td>\n",
       "      <td>False</td>\n",
       "    </tr>\n",
       "    <tr>\n",
       "      <th>5</th>\n",
       "      <td>west</td>\n",
       "      <td>1/29/19 1:15</td>\n",
       "      <td>2019-01-29 01:30:00</td>\n",
       "      <td>205.6</td>\n",
       "      <td>KWH</td>\n",
       "      <td>NaN</td>\n",
       "      <td>NaN</td>\n",
       "      <td>55.0</td>\n",
       "      <td>FAHRENHEIT</td>\n",
       "      <td>NaN</td>\n",
       "      <td>822.4</td>\n",
       "      <td>KW</td>\n",
       "      <td>Jan</td>\n",
       "      <td>Tuesday</td>\n",
       "      <td>False</td>\n",
       "    </tr>\n",
       "    <tr>\n",
       "      <th>6</th>\n",
       "      <td>west</td>\n",
       "      <td>1/29/19 1:30</td>\n",
       "      <td>2019-01-29 01:45:00</td>\n",
       "      <td>205.6</td>\n",
       "      <td>KWH</td>\n",
       "      <td>NaN</td>\n",
       "      <td>NaN</td>\n",
       "      <td>55.0</td>\n",
       "      <td>FAHRENHEIT</td>\n",
       "      <td>NaN</td>\n",
       "      <td>822.4</td>\n",
       "      <td>KW</td>\n",
       "      <td>Jan</td>\n",
       "      <td>Tuesday</td>\n",
       "      <td>False</td>\n",
       "    </tr>\n",
       "    <tr>\n",
       "      <th>7</th>\n",
       "      <td>west</td>\n",
       "      <td>1/29/19 1:45</td>\n",
       "      <td>2019-01-29 02:00:00</td>\n",
       "      <td>208.8</td>\n",
       "      <td>KWH</td>\n",
       "      <td>NaN</td>\n",
       "      <td>NaN</td>\n",
       "      <td>55.0</td>\n",
       "      <td>FAHRENHEIT</td>\n",
       "      <td>NaN</td>\n",
       "      <td>835.2</td>\n",
       "      <td>KW</td>\n",
       "      <td>Jan</td>\n",
       "      <td>Tuesday</td>\n",
       "      <td>False</td>\n",
       "    </tr>\n",
       "    <tr>\n",
       "      <th>8</th>\n",
       "      <td>west</td>\n",
       "      <td>1/29/19 2:00</td>\n",
       "      <td>2019-01-29 02:15:00</td>\n",
       "      <td>217.6</td>\n",
       "      <td>KWH</td>\n",
       "      <td>NaN</td>\n",
       "      <td>NaN</td>\n",
       "      <td>55.0</td>\n",
       "      <td>FAHRENHEIT</td>\n",
       "      <td>NaN</td>\n",
       "      <td>870.4</td>\n",
       "      <td>KW</td>\n",
       "      <td>Jan</td>\n",
       "      <td>Tuesday</td>\n",
       "      <td>False</td>\n",
       "    </tr>\n",
       "    <tr>\n",
       "      <th>9</th>\n",
       "      <td>west</td>\n",
       "      <td>1/29/19 2:15</td>\n",
       "      <td>2019-01-29 02:30:00</td>\n",
       "      <td>229.6</td>\n",
       "      <td>KWH</td>\n",
       "      <td>NaN</td>\n",
       "      <td>NaN</td>\n",
       "      <td>55.0</td>\n",
       "      <td>FAHRENHEIT</td>\n",
       "      <td>NaN</td>\n",
       "      <td>918.4</td>\n",
       "      <td>KW</td>\n",
       "      <td>Jan</td>\n",
       "      <td>Tuesday</td>\n",
       "      <td>False</td>\n",
       "    </tr>\n",
       "  </tbody>\n",
       "</table>\n",
       "</div>"
      ],
      "text/plain": [
       "  Service Agreement Start Date Time       End Date Time  Usage Usage Unit  \\\n",
       "0              west    1/29/19 0:00 2019-01-29 00:15:00  211.2        KWH   \n",
       "1              west    1/29/19 0:15 2019-01-29 00:30:00  210.4        KWH   \n",
       "2              west    1/29/19 0:30 2019-01-29 00:45:00  208.0        KWH   \n",
       "3              west    1/29/19 0:45 2019-01-29 01:00:00  212.0        KWH   \n",
       "4              west    1/29/19 1:00 2019-01-29 01:15:00  203.2        KWH   \n",
       "5              west    1/29/19 1:15 2019-01-29 01:30:00  205.6        KWH   \n",
       "6              west    1/29/19 1:30 2019-01-29 01:45:00  205.6        KWH   \n",
       "7              west    1/29/19 1:45 2019-01-29 02:00:00  208.8        KWH   \n",
       "8              west    1/29/19 2:00 2019-01-29 02:15:00  217.6        KWH   \n",
       "9              west    1/29/19 2:15 2019-01-29 02:30:00  229.6        KWH   \n",
       "\n",
       "   Cost  Currency Unit  Avg. Temperature Temperature Unit Event Flags  \\\n",
       "0   NaN            NaN              54.0       FAHRENHEIT         NaN   \n",
       "1   NaN            NaN              54.0       FAHRENHEIT         NaN   \n",
       "2   NaN            NaN              54.0       FAHRENHEIT         NaN   \n",
       "3   NaN            NaN              54.0       FAHRENHEIT         NaN   \n",
       "4   NaN            NaN              55.0       FAHRENHEIT         NaN   \n",
       "5   NaN            NaN              55.0       FAHRENHEIT         NaN   \n",
       "6   NaN            NaN              55.0       FAHRENHEIT         NaN   \n",
       "7   NaN            NaN              55.0       FAHRENHEIT         NaN   \n",
       "8   NaN            NaN              55.0       FAHRENHEIT         NaN   \n",
       "9   NaN            NaN              55.0       FAHRENHEIT         NaN   \n",
       "\n",
       "   Peak Demand Demand Unit month day_of_week  holiday  \n",
       "0        844.8          KW   Jan     Tuesday    False  \n",
       "1        841.6          KW   Jan     Tuesday    False  \n",
       "2        832.0          KW   Jan     Tuesday    False  \n",
       "3        848.0          KW   Jan     Tuesday    False  \n",
       "4        812.8          KW   Jan     Tuesday    False  \n",
       "5        822.4          KW   Jan     Tuesday    False  \n",
       "6        822.4          KW   Jan     Tuesday    False  \n",
       "7        835.2          KW   Jan     Tuesday    False  \n",
       "8        870.4          KW   Jan     Tuesday    False  \n",
       "9        918.4          KW   Jan     Tuesday    False  "
      ]
     },
     "execution_count": 84,
     "metadata": {},
     "output_type": "execute_result"
    }
   ],
   "source": [
    "gru_data.head(10)"
   ]
  },
  {
   "cell_type": "code",
   "execution_count": 85,
   "metadata": {},
   "outputs": [
    {
     "data": {
      "text/html": [
       "<div>\n",
       "<style scoped>\n",
       "    .dataframe tbody tr th:only-of-type {\n",
       "        vertical-align: middle;\n",
       "    }\n",
       "\n",
       "    .dataframe tbody tr th {\n",
       "        vertical-align: top;\n",
       "    }\n",
       "\n",
       "    .dataframe thead th {\n",
       "        text-align: right;\n",
       "    }\n",
       "</style>\n",
       "<table border=\"1\" class=\"dataframe\">\n",
       "  <thead>\n",
       "    <tr style=\"text-align: right;\">\n",
       "      <th></th>\n",
       "      <th>Service Agreement</th>\n",
       "      <th>Start Date Time</th>\n",
       "      <th>End Date Time</th>\n",
       "      <th>Usage</th>\n",
       "      <th>Usage Unit</th>\n",
       "      <th>Cost</th>\n",
       "      <th>Currency Unit</th>\n",
       "      <th>Avg. Temperature</th>\n",
       "      <th>Temperature Unit</th>\n",
       "      <th>Event Flags</th>\n",
       "      <th>Peak Demand</th>\n",
       "      <th>Demand Unit</th>\n",
       "      <th>month</th>\n",
       "      <th>day_of_week</th>\n",
       "      <th>holiday</th>\n",
       "    </tr>\n",
       "  </thead>\n",
       "  <tbody>\n",
       "    <tr>\n",
       "      <th>104726</th>\n",
       "      <td>west</td>\n",
       "      <td>1/26/22 21:30</td>\n",
       "      <td>2022-01-26 21:45:00</td>\n",
       "      <td>284.0</td>\n",
       "      <td>KWH</td>\n",
       "      <td>NaN</td>\n",
       "      <td>NaN</td>\n",
       "      <td>52.0</td>\n",
       "      <td>FAHRENHEIT</td>\n",
       "      <td>Daylight Savings</td>\n",
       "      <td>1136.0</td>\n",
       "      <td>KW</td>\n",
       "      <td>Jan</td>\n",
       "      <td>Wednesday</td>\n",
       "      <td>False</td>\n",
       "    </tr>\n",
       "    <tr>\n",
       "      <th>104727</th>\n",
       "      <td>west</td>\n",
       "      <td>1/26/22 21:45</td>\n",
       "      <td>2022-01-26 22:00:00</td>\n",
       "      <td>288.8</td>\n",
       "      <td>KWH</td>\n",
       "      <td>NaN</td>\n",
       "      <td>NaN</td>\n",
       "      <td>52.0</td>\n",
       "      <td>FAHRENHEIT</td>\n",
       "      <td>Daylight Savings</td>\n",
       "      <td>1155.2</td>\n",
       "      <td>KW</td>\n",
       "      <td>Jan</td>\n",
       "      <td>Wednesday</td>\n",
       "      <td>False</td>\n",
       "    </tr>\n",
       "    <tr>\n",
       "      <th>104728</th>\n",
       "      <td>west</td>\n",
       "      <td>1/26/22 22:00</td>\n",
       "      <td>2022-01-26 22:15:00</td>\n",
       "      <td>301.6</td>\n",
       "      <td>KWH</td>\n",
       "      <td>NaN</td>\n",
       "      <td>NaN</td>\n",
       "      <td>51.0</td>\n",
       "      <td>FAHRENHEIT</td>\n",
       "      <td>Daylight Savings</td>\n",
       "      <td>1206.4</td>\n",
       "      <td>KW</td>\n",
       "      <td>Jan</td>\n",
       "      <td>Wednesday</td>\n",
       "      <td>False</td>\n",
       "    </tr>\n",
       "    <tr>\n",
       "      <th>104729</th>\n",
       "      <td>west</td>\n",
       "      <td>1/26/22 22:15</td>\n",
       "      <td>2022-01-26 22:30:00</td>\n",
       "      <td>280.0</td>\n",
       "      <td>KWH</td>\n",
       "      <td>NaN</td>\n",
       "      <td>NaN</td>\n",
       "      <td>51.0</td>\n",
       "      <td>FAHRENHEIT</td>\n",
       "      <td>Daylight Savings</td>\n",
       "      <td>1120.0</td>\n",
       "      <td>KW</td>\n",
       "      <td>Jan</td>\n",
       "      <td>Wednesday</td>\n",
       "      <td>False</td>\n",
       "    </tr>\n",
       "    <tr>\n",
       "      <th>104730</th>\n",
       "      <td>west</td>\n",
       "      <td>1/26/22 22:30</td>\n",
       "      <td>2022-01-26 22:45:00</td>\n",
       "      <td>296.8</td>\n",
       "      <td>KWH</td>\n",
       "      <td>NaN</td>\n",
       "      <td>NaN</td>\n",
       "      <td>51.0</td>\n",
       "      <td>FAHRENHEIT</td>\n",
       "      <td>Daylight Savings</td>\n",
       "      <td>1187.2</td>\n",
       "      <td>KW</td>\n",
       "      <td>Jan</td>\n",
       "      <td>Wednesday</td>\n",
       "      <td>False</td>\n",
       "    </tr>\n",
       "    <tr>\n",
       "      <th>104731</th>\n",
       "      <td>west</td>\n",
       "      <td>1/26/22 22:45</td>\n",
       "      <td>2022-01-26 23:00:00</td>\n",
       "      <td>282.4</td>\n",
       "      <td>KWH</td>\n",
       "      <td>NaN</td>\n",
       "      <td>NaN</td>\n",
       "      <td>51.0</td>\n",
       "      <td>FAHRENHEIT</td>\n",
       "      <td>Daylight Savings</td>\n",
       "      <td>1129.6</td>\n",
       "      <td>KW</td>\n",
       "      <td>Jan</td>\n",
       "      <td>Wednesday</td>\n",
       "      <td>False</td>\n",
       "    </tr>\n",
       "    <tr>\n",
       "      <th>104732</th>\n",
       "      <td>west</td>\n",
       "      <td>1/26/22 23:00</td>\n",
       "      <td>2022-01-26 23:15:00</td>\n",
       "      <td>288.8</td>\n",
       "      <td>KWH</td>\n",
       "      <td>NaN</td>\n",
       "      <td>NaN</td>\n",
       "      <td>51.0</td>\n",
       "      <td>FAHRENHEIT</td>\n",
       "      <td>Daylight Savings</td>\n",
       "      <td>1155.2</td>\n",
       "      <td>KW</td>\n",
       "      <td>Jan</td>\n",
       "      <td>Wednesday</td>\n",
       "      <td>False</td>\n",
       "    </tr>\n",
       "    <tr>\n",
       "      <th>104733</th>\n",
       "      <td>west</td>\n",
       "      <td>1/26/22 23:15</td>\n",
       "      <td>2022-01-26 23:30:00</td>\n",
       "      <td>289.6</td>\n",
       "      <td>KWH</td>\n",
       "      <td>NaN</td>\n",
       "      <td>NaN</td>\n",
       "      <td>51.0</td>\n",
       "      <td>FAHRENHEIT</td>\n",
       "      <td>Daylight Savings</td>\n",
       "      <td>1158.4</td>\n",
       "      <td>KW</td>\n",
       "      <td>Jan</td>\n",
       "      <td>Wednesday</td>\n",
       "      <td>False</td>\n",
       "    </tr>\n",
       "    <tr>\n",
       "      <th>104734</th>\n",
       "      <td>west</td>\n",
       "      <td>1/26/22 23:30</td>\n",
       "      <td>2022-01-26 23:45:00</td>\n",
       "      <td>294.4</td>\n",
       "      <td>KWH</td>\n",
       "      <td>NaN</td>\n",
       "      <td>NaN</td>\n",
       "      <td>51.0</td>\n",
       "      <td>FAHRENHEIT</td>\n",
       "      <td>Daylight Savings</td>\n",
       "      <td>1177.6</td>\n",
       "      <td>KW</td>\n",
       "      <td>Jan</td>\n",
       "      <td>Wednesday</td>\n",
       "      <td>False</td>\n",
       "    </tr>\n",
       "    <tr>\n",
       "      <th>104735</th>\n",
       "      <td>west</td>\n",
       "      <td>1/26/22 23:45</td>\n",
       "      <td>2022-01-27 00:00:00</td>\n",
       "      <td>290.4</td>\n",
       "      <td>KWH</td>\n",
       "      <td>NaN</td>\n",
       "      <td>NaN</td>\n",
       "      <td>51.0</td>\n",
       "      <td>FAHRENHEIT</td>\n",
       "      <td>Daylight Savings</td>\n",
       "      <td>1161.6</td>\n",
       "      <td>KW</td>\n",
       "      <td>Jan</td>\n",
       "      <td>Thursday</td>\n",
       "      <td>False</td>\n",
       "    </tr>\n",
       "  </tbody>\n",
       "</table>\n",
       "</div>"
      ],
      "text/plain": [
       "       Service Agreement Start Date Time       End Date Time  Usage  \\\n",
       "104726              west   1/26/22 21:30 2022-01-26 21:45:00  284.0   \n",
       "104727              west   1/26/22 21:45 2022-01-26 22:00:00  288.8   \n",
       "104728              west   1/26/22 22:00 2022-01-26 22:15:00  301.6   \n",
       "104729              west   1/26/22 22:15 2022-01-26 22:30:00  280.0   \n",
       "104730              west   1/26/22 22:30 2022-01-26 22:45:00  296.8   \n",
       "104731              west   1/26/22 22:45 2022-01-26 23:00:00  282.4   \n",
       "104732              west   1/26/22 23:00 2022-01-26 23:15:00  288.8   \n",
       "104733              west   1/26/22 23:15 2022-01-26 23:30:00  289.6   \n",
       "104734              west   1/26/22 23:30 2022-01-26 23:45:00  294.4   \n",
       "104735              west   1/26/22 23:45 2022-01-27 00:00:00  290.4   \n",
       "\n",
       "       Usage Unit  Cost  Currency Unit  Avg. Temperature Temperature Unit  \\\n",
       "104726        KWH   NaN            NaN              52.0       FAHRENHEIT   \n",
       "104727        KWH   NaN            NaN              52.0       FAHRENHEIT   \n",
       "104728        KWH   NaN            NaN              51.0       FAHRENHEIT   \n",
       "104729        KWH   NaN            NaN              51.0       FAHRENHEIT   \n",
       "104730        KWH   NaN            NaN              51.0       FAHRENHEIT   \n",
       "104731        KWH   NaN            NaN              51.0       FAHRENHEIT   \n",
       "104732        KWH   NaN            NaN              51.0       FAHRENHEIT   \n",
       "104733        KWH   NaN            NaN              51.0       FAHRENHEIT   \n",
       "104734        KWH   NaN            NaN              51.0       FAHRENHEIT   \n",
       "104735        KWH   NaN            NaN              51.0       FAHRENHEIT   \n",
       "\n",
       "             Event Flags  Peak Demand Demand Unit month day_of_week  holiday  \n",
       "104726  Daylight Savings       1136.0          KW   Jan   Wednesday    False  \n",
       "104727  Daylight Savings       1155.2          KW   Jan   Wednesday    False  \n",
       "104728  Daylight Savings       1206.4          KW   Jan   Wednesday    False  \n",
       "104729  Daylight Savings       1120.0          KW   Jan   Wednesday    False  \n",
       "104730  Daylight Savings       1187.2          KW   Jan   Wednesday    False  \n",
       "104731  Daylight Savings       1129.6          KW   Jan   Wednesday    False  \n",
       "104732  Daylight Savings       1155.2          KW   Jan   Wednesday    False  \n",
       "104733  Daylight Savings       1158.4          KW   Jan   Wednesday    False  \n",
       "104734  Daylight Savings       1177.6          KW   Jan   Wednesday    False  \n",
       "104735  Daylight Savings       1161.6          KW   Jan    Thursday    False  "
      ]
     },
     "execution_count": 85,
     "metadata": {},
     "output_type": "execute_result"
    }
   ],
   "source": [
    "gru_data.tail(10)"
   ]
  },
  {
   "cell_type": "code",
   "execution_count": 86,
   "metadata": {},
   "outputs": [],
   "source": [
    "gru_data_mod = gru_data[['Peak Demand', 'Avg. Temperature']].copy() "
   ]
  },
  {
   "cell_type": "code",
   "execution_count": 87,
   "metadata": {},
   "outputs": [
    {
     "data": {
      "text/html": [
       "<div>\n",
       "<style scoped>\n",
       "    .dataframe tbody tr th:only-of-type {\n",
       "        vertical-align: middle;\n",
       "    }\n",
       "\n",
       "    .dataframe tbody tr th {\n",
       "        vertical-align: top;\n",
       "    }\n",
       "\n",
       "    .dataframe thead th {\n",
       "        text-align: right;\n",
       "    }\n",
       "</style>\n",
       "<table border=\"1\" class=\"dataframe\">\n",
       "  <thead>\n",
       "    <tr style=\"text-align: right;\">\n",
       "      <th></th>\n",
       "      <th>Peak Demand</th>\n",
       "      <th>Avg. Temperature</th>\n",
       "    </tr>\n",
       "  </thead>\n",
       "  <tbody>\n",
       "    <tr>\n",
       "      <th>0</th>\n",
       "      <td>844.8</td>\n",
       "      <td>54.0</td>\n",
       "    </tr>\n",
       "    <tr>\n",
       "      <th>1</th>\n",
       "      <td>841.6</td>\n",
       "      <td>54.0</td>\n",
       "    </tr>\n",
       "    <tr>\n",
       "      <th>2</th>\n",
       "      <td>832.0</td>\n",
       "      <td>54.0</td>\n",
       "    </tr>\n",
       "    <tr>\n",
       "      <th>3</th>\n",
       "      <td>848.0</td>\n",
       "      <td>54.0</td>\n",
       "    </tr>\n",
       "    <tr>\n",
       "      <th>4</th>\n",
       "      <td>812.8</td>\n",
       "      <td>55.0</td>\n",
       "    </tr>\n",
       "    <tr>\n",
       "      <th>5</th>\n",
       "      <td>822.4</td>\n",
       "      <td>55.0</td>\n",
       "    </tr>\n",
       "    <tr>\n",
       "      <th>6</th>\n",
       "      <td>822.4</td>\n",
       "      <td>55.0</td>\n",
       "    </tr>\n",
       "    <tr>\n",
       "      <th>7</th>\n",
       "      <td>835.2</td>\n",
       "      <td>55.0</td>\n",
       "    </tr>\n",
       "    <tr>\n",
       "      <th>8</th>\n",
       "      <td>870.4</td>\n",
       "      <td>55.0</td>\n",
       "    </tr>\n",
       "    <tr>\n",
       "      <th>9</th>\n",
       "      <td>918.4</td>\n",
       "      <td>55.0</td>\n",
       "    </tr>\n",
       "  </tbody>\n",
       "</table>\n",
       "</div>"
      ],
      "text/plain": [
       "   Peak Demand  Avg. Temperature\n",
       "0        844.8              54.0\n",
       "1        841.6              54.0\n",
       "2        832.0              54.0\n",
       "3        848.0              54.0\n",
       "4        812.8              55.0\n",
       "5        822.4              55.0\n",
       "6        822.4              55.0\n",
       "7        835.2              55.0\n",
       "8        870.4              55.0\n",
       "9        918.4              55.0"
      ]
     },
     "execution_count": 87,
     "metadata": {},
     "output_type": "execute_result"
    }
   ],
   "source": [
    "gru_data_mod.head(10)"
   ]
  },
  {
   "cell_type": "code",
   "execution_count": 88,
   "metadata": {},
   "outputs": [
    {
     "data": {
      "text/html": [
       "<div>\n",
       "<style scoped>\n",
       "    .dataframe tbody tr th:only-of-type {\n",
       "        vertical-align: middle;\n",
       "    }\n",
       "\n",
       "    .dataframe tbody tr th {\n",
       "        vertical-align: top;\n",
       "    }\n",
       "\n",
       "    .dataframe thead th {\n",
       "        text-align: right;\n",
       "    }\n",
       "</style>\n",
       "<table border=\"1\" class=\"dataframe\">\n",
       "  <thead>\n",
       "    <tr style=\"text-align: right;\">\n",
       "      <th></th>\n",
       "      <th>Peak Demand</th>\n",
       "      <th>Avg. Temperature</th>\n",
       "    </tr>\n",
       "  </thead>\n",
       "  <tbody>\n",
       "    <tr>\n",
       "      <th>104726</th>\n",
       "      <td>1136.0</td>\n",
       "      <td>52.0</td>\n",
       "    </tr>\n",
       "    <tr>\n",
       "      <th>104727</th>\n",
       "      <td>1155.2</td>\n",
       "      <td>52.0</td>\n",
       "    </tr>\n",
       "    <tr>\n",
       "      <th>104728</th>\n",
       "      <td>1206.4</td>\n",
       "      <td>51.0</td>\n",
       "    </tr>\n",
       "    <tr>\n",
       "      <th>104729</th>\n",
       "      <td>1120.0</td>\n",
       "      <td>51.0</td>\n",
       "    </tr>\n",
       "    <tr>\n",
       "      <th>104730</th>\n",
       "      <td>1187.2</td>\n",
       "      <td>51.0</td>\n",
       "    </tr>\n",
       "    <tr>\n",
       "      <th>104731</th>\n",
       "      <td>1129.6</td>\n",
       "      <td>51.0</td>\n",
       "    </tr>\n",
       "    <tr>\n",
       "      <th>104732</th>\n",
       "      <td>1155.2</td>\n",
       "      <td>51.0</td>\n",
       "    </tr>\n",
       "    <tr>\n",
       "      <th>104733</th>\n",
       "      <td>1158.4</td>\n",
       "      <td>51.0</td>\n",
       "    </tr>\n",
       "    <tr>\n",
       "      <th>104734</th>\n",
       "      <td>1177.6</td>\n",
       "      <td>51.0</td>\n",
       "    </tr>\n",
       "    <tr>\n",
       "      <th>104735</th>\n",
       "      <td>1161.6</td>\n",
       "      <td>51.0</td>\n",
       "    </tr>\n",
       "  </tbody>\n",
       "</table>\n",
       "</div>"
      ],
      "text/plain": [
       "        Peak Demand  Avg. Temperature\n",
       "104726       1136.0              52.0\n",
       "104727       1155.2              52.0\n",
       "104728       1206.4              51.0\n",
       "104729       1120.0              51.0\n",
       "104730       1187.2              51.0\n",
       "104731       1129.6              51.0\n",
       "104732       1155.2              51.0\n",
       "104733       1158.4              51.0\n",
       "104734       1177.6              51.0\n",
       "104735       1161.6              51.0"
      ]
     },
     "execution_count": 88,
     "metadata": {},
     "output_type": "execute_result"
    }
   ],
   "source": [
    "gru_data_mod.tail(10)"
   ]
  },
  {
   "cell_type": "code",
   "execution_count": 89,
   "metadata": {},
   "outputs": [
    {
     "data": {
      "text/plain": [
       "array([[0.39759034, 0.29411766],\n",
       "       [0.3960843 , 0.29411766],\n",
       "       [0.39156625, 0.29411766],\n",
       "       ...,\n",
       "       [0.54518074, 0.25882354],\n",
       "       [0.55421686, 0.25882354],\n",
       "       [0.5466867 , 0.25882354]], dtype=float32)"
      ]
     },
     "execution_count": 89,
     "metadata": {},
     "output_type": "execute_result"
    }
   ],
   "source": [
    "# prepare data for lstm\n",
    "from pandas import read_csv\n",
    "from pandas import DataFrame\n",
    "from pandas import concat\n",
    "from sklearn.preprocessing import LabelEncoder\n",
    "from sklearn.preprocessing import MinMaxScaler\n",
    "\n",
    "# convert series to supervised learning\n",
    "def trasform_to_gru_format(data, n_in=1, n_out=1, dropnan=True):\n",
    "    n_vars = 1 if type(data) is list else data.shape[1]\n",
    "    df = DataFrame(data)\n",
    "    cols, names = list(), list()\n",
    "    \n",
    "    # input sequence (t-n, ... t-1)\n",
    "    for i in range(n_in, 0, -1):\n",
    "        cols.append(df.shift(i))\n",
    "        names += [('var%d(t-%d)' % (j+1, i)) for j in range(n_vars)]\n",
    "        \n",
    "    # forecast sequence (t, t+1, ... t+n)\n",
    "    for i in range(0, n_out):\n",
    "        cols.append(df.shift(-i))\n",
    "        if i == 0:\n",
    "            names += [('var%d(t)' % (j+1)) for j in range(n_vars)]\n",
    "        else:\n",
    "            names += [('var%d(t+%d)' % (j+1, i)) for j in range(n_vars)]\n",
    "            \n",
    "    # put it all together\n",
    "    agg = concat(cols, axis=1)\n",
    "    agg.columns = names\n",
    "    # drop rows with NaN values\n",
    "    if dropnan:\n",
    "        agg.dropna(inplace=True)\n",
    "    return agg\n",
    "\n",
    "# load dataset\n",
    "\n",
    "values = gru_data_mod.values\n",
    "\n",
    "# integer encode direction\n",
    "#encoder = LabelEncoder()\n",
    "#values[:,4] = encoder.fit_transform(values[:,4])\n",
    "# ensure all data is float\n",
    "values = values.astype('float32')\n",
    "\n",
    "# normalize features\n",
    "scaler = MinMaxScaler(feature_range=(0, 1))\n",
    "scaled = scaler.fit_transform(values)\n",
    "\n",
    "scaled"
   ]
  },
  {
   "cell_type": "code",
   "execution_count": 90,
   "metadata": {},
   "outputs": [
    {
     "name": "stdout",
     "output_type": "stream",
     "text": [
      "     var1(t-960)  var2(t-960)  var1(t-959)  var2(t-959)  var1(t-958)  \\\n",
      "960     0.397590     0.294118     0.396084     0.294118     0.391566   \n",
      "961     0.396084     0.294118     0.391566     0.294118     0.399096   \n",
      "962     0.391566     0.294118     0.399096     0.294118     0.382530   \n",
      "963     0.399096     0.294118     0.382530     0.305882     0.387048   \n",
      "964     0.382530     0.305882     0.387048     0.305882     0.387048   \n",
      "\n",
      "     var2(t-958)  var1(t-957)  var2(t-957)  var1(t-956)  var2(t-956)  ...  \\\n",
      "960     0.294118     0.399096     0.294118     0.382530     0.305882  ...   \n",
      "961     0.294118     0.382530     0.305882     0.387048     0.305882  ...   \n",
      "962     0.305882     0.387048     0.305882     0.387048     0.305882  ...   \n",
      "963     0.305882     0.387048     0.305882     0.393072     0.305882  ...   \n",
      "964     0.305882     0.393072     0.305882     0.409639     0.305882  ...   \n",
      "\n",
      "     var2(t-5)  var1(t-4)  var2(t-4)  var1(t-3)  var2(t-3)  var1(t-2)  \\\n",
      "960   0.200000   0.382530   0.176471   0.387048   0.176471   0.387048   \n",
      "961   0.176471   0.387048   0.176471   0.387048   0.176471   0.376506   \n",
      "962   0.176471   0.387048   0.176471   0.376506   0.176471   0.367470   \n",
      "963   0.176471   0.376506   0.176471   0.367470   0.152941   0.361446   \n",
      "964   0.176471   0.367470   0.152941   0.361446   0.152941   0.341867   \n",
      "\n",
      "     var2(t-2)  var1(t-1)  var2(t-1)   var1(t)  \n",
      "960   0.176471   0.376506   0.176471  0.367470  \n",
      "961   0.176471   0.367470   0.152941  0.361446  \n",
      "962   0.152941   0.361446   0.152941  0.341867  \n",
      "963   0.152941   0.341867   0.152941  0.349398  \n",
      "964   0.152941   0.349398   0.152941  0.349398  \n",
      "\n",
      "[5 rows x 1921 columns]\n"
     ]
    }
   ],
   "source": [
    "# frame as supervised learning\n",
    "gru_format = trasform_to_gru_format(scaled, 960, 1)\n",
    "gru_format = gru_format.iloc[: , :-1]\n",
    "print(gru_format.head())"
   ]
  },
  {
   "cell_type": "code",
   "execution_count": 92,
   "metadata": {},
   "outputs": [
    {
     "name": "stdout",
     "output_type": "stream",
     "text": [
      "(70080, 960, 2) (70080,) (33696, 960, 2) (33696,)\n"
     ]
    }
   ],
   "source": [
    "# split into train and test sets\n",
    "values = gru_format.values\n",
    "n_train_hours = 2 * 365 * 24 * 4\n",
    "train = values[:n_train_hours, :]\n",
    "test = values[n_train_hours:, :]\n",
    "# split into input and outputs\n",
    "train_X, train_y = train[:, :-1], train[:, -1]\n",
    "#print(train_X.shape, train_y.shape)\n",
    "\n",
    "test_X, test_y = test[:, :-1], test[:, -1]\n",
    "#print(test_X.shape, test_y.shape)\n",
    "\n",
    "# reshape input to be 3D [samples, timesteps, features]\n",
    "train_X = train_X.reshape((train_X.shape[0], 960, 2))\n",
    "test_X = test_X.reshape((test_X.shape[0], 960, 2))\n",
    "print(train_X.shape, train_y.shape, test_X.shape, test_y.shape)"
   ]
  },
  {
   "cell_type": "code",
   "execution_count": 93,
   "metadata": {},
   "outputs": [
    {
     "name": "stdout",
     "output_type": "stream",
     "text": [
      "Epoch 1/20\n",
      "701/701 - 1507s - loss: 0.0203 - val_loss: 0.0155 - 1507s/epoch - 2s/step\n",
      "Epoch 2/20\n",
      "701/701 - 2887s - loss: 0.0141 - val_loss: 0.0150 - 2887s/epoch - 4s/step\n",
      "Epoch 3/20\n",
      "701/701 - 924s - loss: 0.0144 - val_loss: 0.0153 - 924s/epoch - 1s/step\n",
      "Epoch 4/20\n",
      "701/701 - 6827s - loss: 0.0141 - val_loss: 0.0151 - 6827s/epoch - 10s/step\n",
      "Epoch 5/20\n",
      "701/701 - 20998s - loss: 0.0140 - val_loss: 0.0153 - 20998s/epoch - 30s/step\n",
      "Epoch 6/20\n",
      "701/701 - 6108s - loss: 0.0139 - val_loss: 0.0151 - 6108s/epoch - 9s/step\n",
      "Epoch 7/20\n",
      "701/701 - 6309s - loss: 0.0138 - val_loss: 0.0151 - 6309s/epoch - 9s/step\n",
      "Epoch 8/20\n",
      "701/701 - 901s - loss: 0.0137 - val_loss: 0.0152 - 901s/epoch - 1s/step\n",
      "Epoch 9/20\n",
      "701/701 - 885s - loss: 0.0136 - val_loss: 0.0158 - 885s/epoch - 1s/step\n",
      "Epoch 10/20\n",
      "701/701 - 1010s - loss: 0.0137 - val_loss: 0.0168 - 1010s/epoch - 1s/step\n",
      "Epoch 11/20\n",
      "701/701 - 2008s - loss: 0.0137 - val_loss: 0.0190 - 2008s/epoch - 3s/step\n",
      "Epoch 12/20\n",
      "701/701 - 34802s - loss: 0.0140 - val_loss: 0.0204 - 34802s/epoch - 50s/step\n",
      "Epoch 13/20\n",
      "701/701 - 1909s - loss: 0.0142 - val_loss: 0.0228 - 1909s/epoch - 3s/step\n",
      "Epoch 14/20\n",
      "701/701 - 2852s - loss: 0.0141 - val_loss: 0.0209 - 2852s/epoch - 4s/step\n",
      "Epoch 15/20\n",
      "701/701 - 7230s - loss: nan - val_loss: nan - 7230s/epoch - 10s/step\n",
      "Epoch 16/20\n",
      "701/701 - 32850s - loss: nan - val_loss: nan - 32850s/epoch - 47s/step\n",
      "Epoch 17/20\n"
     ]
    },
    {
     "ename": "KeyboardInterrupt",
     "evalue": "",
     "output_type": "error",
     "traceback": [
      "\u001b[0;31m---------------------------------------------------------------------------\u001b[0m",
      "\u001b[0;31mKeyboardInterrupt\u001b[0m                         Traceback (most recent call last)",
      "Input \u001b[0;32mIn [93]\u001b[0m, in \u001b[0;36m<module>\u001b[0;34m\u001b[0m\n\u001b[1;32m     11\u001b[0m model\u001b[38;5;241m.\u001b[39mcompile(loss\u001b[38;5;241m=\u001b[39m\u001b[38;5;124m'\u001b[39m\u001b[38;5;124mmae\u001b[39m\u001b[38;5;124m'\u001b[39m, optimizer\u001b[38;5;241m=\u001b[39m\u001b[38;5;124m'\u001b[39m\u001b[38;5;124madam\u001b[39m\u001b[38;5;124m'\u001b[39m)\n\u001b[1;32m     13\u001b[0m \u001b[38;5;66;03m# fit network\u001b[39;00m\n\u001b[0;32m---> 14\u001b[0m history \u001b[38;5;241m=\u001b[39m \u001b[43mmodel\u001b[49m\u001b[38;5;241;43m.\u001b[39;49m\u001b[43mfit\u001b[49m\u001b[43m(\u001b[49m\u001b[43mtrain_X\u001b[49m\u001b[43m,\u001b[49m\u001b[43m \u001b[49m\u001b[43mtrain_y\u001b[49m\u001b[43m,\u001b[49m\u001b[43m \u001b[49m\u001b[43mepochs\u001b[49m\u001b[38;5;241;43m=\u001b[39;49m\u001b[38;5;241;43m20\u001b[39;49m\u001b[43m,\u001b[49m\u001b[43m \u001b[49m\u001b[43mbatch_size\u001b[49m\u001b[38;5;241;43m=\u001b[39;49m\u001b[38;5;241;43m100\u001b[39;49m\u001b[43m,\u001b[49m\u001b[43m \u001b[49m\n\u001b[1;32m     15\u001b[0m \u001b[43m                    \u001b[49m\u001b[43mvalidation_data\u001b[49m\u001b[38;5;241;43m=\u001b[39;49m\u001b[43m(\u001b[49m\u001b[43mtest_X\u001b[49m\u001b[43m,\u001b[49m\u001b[43m \u001b[49m\u001b[43mtest_y\u001b[49m\u001b[43m)\u001b[49m\u001b[43m,\u001b[49m\u001b[43m \u001b[49m\u001b[43mverbose\u001b[49m\u001b[38;5;241;43m=\u001b[39;49m\u001b[38;5;241;43m2\u001b[39;49m\u001b[43m,\u001b[49m\u001b[43m \u001b[49m\u001b[43mshuffle\u001b[49m\u001b[38;5;241;43m=\u001b[39;49m\u001b[38;5;28;43;01mFalse\u001b[39;49;00m\u001b[43m)\u001b[49m\n",
      "File \u001b[0;32m~/Library/Python/3.8/lib/python/site-packages/keras/utils/traceback_utils.py:64\u001b[0m, in \u001b[0;36mfilter_traceback.<locals>.error_handler\u001b[0;34m(*args, **kwargs)\u001b[0m\n\u001b[1;32m     62\u001b[0m filtered_tb \u001b[38;5;241m=\u001b[39m \u001b[38;5;28;01mNone\u001b[39;00m\n\u001b[1;32m     63\u001b[0m \u001b[38;5;28;01mtry\u001b[39;00m:\n\u001b[0;32m---> 64\u001b[0m   \u001b[38;5;28;01mreturn\u001b[39;00m \u001b[43mfn\u001b[49m\u001b[43m(\u001b[49m\u001b[38;5;241;43m*\u001b[39;49m\u001b[43margs\u001b[49m\u001b[43m,\u001b[49m\u001b[43m \u001b[49m\u001b[38;5;241;43m*\u001b[39;49m\u001b[38;5;241;43m*\u001b[39;49m\u001b[43mkwargs\u001b[49m\u001b[43m)\u001b[49m\n\u001b[1;32m     65\u001b[0m \u001b[38;5;28;01mexcept\u001b[39;00m \u001b[38;5;167;01mException\u001b[39;00m \u001b[38;5;28;01mas\u001b[39;00m e:  \u001b[38;5;66;03m# pylint: disable=broad-except\u001b[39;00m\n\u001b[1;32m     66\u001b[0m   filtered_tb \u001b[38;5;241m=\u001b[39m _process_traceback_frames(e\u001b[38;5;241m.\u001b[39m__traceback__)\n",
      "File \u001b[0;32m~/Library/Python/3.8/lib/python/site-packages/keras/engine/training.py:1384\u001b[0m, in \u001b[0;36mModel.fit\u001b[0;34m(self, x, y, batch_size, epochs, verbose, callbacks, validation_split, validation_data, shuffle, class_weight, sample_weight, initial_epoch, steps_per_epoch, validation_steps, validation_batch_size, validation_freq, max_queue_size, workers, use_multiprocessing)\u001b[0m\n\u001b[1;32m   1377\u001b[0m \u001b[38;5;28;01mwith\u001b[39;00m tf\u001b[38;5;241m.\u001b[39mprofiler\u001b[38;5;241m.\u001b[39mexperimental\u001b[38;5;241m.\u001b[39mTrace(\n\u001b[1;32m   1378\u001b[0m     \u001b[38;5;124m'\u001b[39m\u001b[38;5;124mtrain\u001b[39m\u001b[38;5;124m'\u001b[39m,\n\u001b[1;32m   1379\u001b[0m     epoch_num\u001b[38;5;241m=\u001b[39mepoch,\n\u001b[1;32m   1380\u001b[0m     step_num\u001b[38;5;241m=\u001b[39mstep,\n\u001b[1;32m   1381\u001b[0m     batch_size\u001b[38;5;241m=\u001b[39mbatch_size,\n\u001b[1;32m   1382\u001b[0m     _r\u001b[38;5;241m=\u001b[39m\u001b[38;5;241m1\u001b[39m):\n\u001b[1;32m   1383\u001b[0m   callbacks\u001b[38;5;241m.\u001b[39mon_train_batch_begin(step)\n\u001b[0;32m-> 1384\u001b[0m   tmp_logs \u001b[38;5;241m=\u001b[39m \u001b[38;5;28;43mself\u001b[39;49m\u001b[38;5;241;43m.\u001b[39;49m\u001b[43mtrain_function\u001b[49m\u001b[43m(\u001b[49m\u001b[43miterator\u001b[49m\u001b[43m)\u001b[49m\n\u001b[1;32m   1385\u001b[0m   \u001b[38;5;28;01mif\u001b[39;00m data_handler\u001b[38;5;241m.\u001b[39mshould_sync:\n\u001b[1;32m   1386\u001b[0m     context\u001b[38;5;241m.\u001b[39masync_wait()\n",
      "File \u001b[0;32m~/Library/Python/3.8/lib/python/site-packages/tensorflow/python/util/traceback_utils.py:150\u001b[0m, in \u001b[0;36mfilter_traceback.<locals>.error_handler\u001b[0;34m(*args, **kwargs)\u001b[0m\n\u001b[1;32m    148\u001b[0m filtered_tb \u001b[38;5;241m=\u001b[39m \u001b[38;5;28;01mNone\u001b[39;00m\n\u001b[1;32m    149\u001b[0m \u001b[38;5;28;01mtry\u001b[39;00m:\n\u001b[0;32m--> 150\u001b[0m   \u001b[38;5;28;01mreturn\u001b[39;00m \u001b[43mfn\u001b[49m\u001b[43m(\u001b[49m\u001b[38;5;241;43m*\u001b[39;49m\u001b[43margs\u001b[49m\u001b[43m,\u001b[49m\u001b[43m \u001b[49m\u001b[38;5;241;43m*\u001b[39;49m\u001b[38;5;241;43m*\u001b[39;49m\u001b[43mkwargs\u001b[49m\u001b[43m)\u001b[49m\n\u001b[1;32m    151\u001b[0m \u001b[38;5;28;01mexcept\u001b[39;00m \u001b[38;5;167;01mException\u001b[39;00m \u001b[38;5;28;01mas\u001b[39;00m e:\n\u001b[1;32m    152\u001b[0m   filtered_tb \u001b[38;5;241m=\u001b[39m _process_traceback_frames(e\u001b[38;5;241m.\u001b[39m__traceback__)\n",
      "File \u001b[0;32m~/Library/Python/3.8/lib/python/site-packages/tensorflow/python/eager/def_function.py:915\u001b[0m, in \u001b[0;36mFunction.__call__\u001b[0;34m(self, *args, **kwds)\u001b[0m\n\u001b[1;32m    912\u001b[0m compiler \u001b[38;5;241m=\u001b[39m \u001b[38;5;124m\"\u001b[39m\u001b[38;5;124mxla\u001b[39m\u001b[38;5;124m\"\u001b[39m \u001b[38;5;28;01mif\u001b[39;00m \u001b[38;5;28mself\u001b[39m\u001b[38;5;241m.\u001b[39m_jit_compile \u001b[38;5;28;01melse\u001b[39;00m \u001b[38;5;124m\"\u001b[39m\u001b[38;5;124mnonXla\u001b[39m\u001b[38;5;124m\"\u001b[39m\n\u001b[1;32m    914\u001b[0m \u001b[38;5;28;01mwith\u001b[39;00m OptionalXlaContext(\u001b[38;5;28mself\u001b[39m\u001b[38;5;241m.\u001b[39m_jit_compile):\n\u001b[0;32m--> 915\u001b[0m   result \u001b[38;5;241m=\u001b[39m \u001b[38;5;28;43mself\u001b[39;49m\u001b[38;5;241;43m.\u001b[39;49m\u001b[43m_call\u001b[49m\u001b[43m(\u001b[49m\u001b[38;5;241;43m*\u001b[39;49m\u001b[43margs\u001b[49m\u001b[43m,\u001b[49m\u001b[43m \u001b[49m\u001b[38;5;241;43m*\u001b[39;49m\u001b[38;5;241;43m*\u001b[39;49m\u001b[43mkwds\u001b[49m\u001b[43m)\u001b[49m\n\u001b[1;32m    917\u001b[0m new_tracing_count \u001b[38;5;241m=\u001b[39m \u001b[38;5;28mself\u001b[39m\u001b[38;5;241m.\u001b[39mexperimental_get_tracing_count()\n\u001b[1;32m    918\u001b[0m without_tracing \u001b[38;5;241m=\u001b[39m (tracing_count \u001b[38;5;241m==\u001b[39m new_tracing_count)\n",
      "File \u001b[0;32m~/Library/Python/3.8/lib/python/site-packages/tensorflow/python/eager/def_function.py:947\u001b[0m, in \u001b[0;36mFunction._call\u001b[0;34m(self, *args, **kwds)\u001b[0m\n\u001b[1;32m    944\u001b[0m   \u001b[38;5;28mself\u001b[39m\u001b[38;5;241m.\u001b[39m_lock\u001b[38;5;241m.\u001b[39mrelease()\n\u001b[1;32m    945\u001b[0m   \u001b[38;5;66;03m# In this case we have created variables on the first call, so we run the\u001b[39;00m\n\u001b[1;32m    946\u001b[0m   \u001b[38;5;66;03m# defunned version which is guaranteed to never create variables.\u001b[39;00m\n\u001b[0;32m--> 947\u001b[0m   \u001b[38;5;28;01mreturn\u001b[39;00m \u001b[38;5;28;43mself\u001b[39;49m\u001b[38;5;241;43m.\u001b[39;49m\u001b[43m_stateless_fn\u001b[49m\u001b[43m(\u001b[49m\u001b[38;5;241;43m*\u001b[39;49m\u001b[43margs\u001b[49m\u001b[43m,\u001b[49m\u001b[43m \u001b[49m\u001b[38;5;241;43m*\u001b[39;49m\u001b[38;5;241;43m*\u001b[39;49m\u001b[43mkwds\u001b[49m\u001b[43m)\u001b[49m  \u001b[38;5;66;03m# pylint: disable=not-callable\u001b[39;00m\n\u001b[1;32m    948\u001b[0m \u001b[38;5;28;01melif\u001b[39;00m \u001b[38;5;28mself\u001b[39m\u001b[38;5;241m.\u001b[39m_stateful_fn \u001b[38;5;129;01mis\u001b[39;00m \u001b[38;5;129;01mnot\u001b[39;00m \u001b[38;5;28;01mNone\u001b[39;00m:\n\u001b[1;32m    949\u001b[0m   \u001b[38;5;66;03m# Release the lock early so that multiple threads can perform the call\u001b[39;00m\n\u001b[1;32m    950\u001b[0m   \u001b[38;5;66;03m# in parallel.\u001b[39;00m\n\u001b[1;32m    951\u001b[0m   \u001b[38;5;28mself\u001b[39m\u001b[38;5;241m.\u001b[39m_lock\u001b[38;5;241m.\u001b[39mrelease()\n",
      "File \u001b[0;32m~/Library/Python/3.8/lib/python/site-packages/tensorflow/python/eager/function.py:2956\u001b[0m, in \u001b[0;36mFunction.__call__\u001b[0;34m(self, *args, **kwargs)\u001b[0m\n\u001b[1;32m   2953\u001b[0m \u001b[38;5;28;01mwith\u001b[39;00m \u001b[38;5;28mself\u001b[39m\u001b[38;5;241m.\u001b[39m_lock:\n\u001b[1;32m   2954\u001b[0m   (graph_function,\n\u001b[1;32m   2955\u001b[0m    filtered_flat_args) \u001b[38;5;241m=\u001b[39m \u001b[38;5;28mself\u001b[39m\u001b[38;5;241m.\u001b[39m_maybe_define_function(args, kwargs)\n\u001b[0;32m-> 2956\u001b[0m \u001b[38;5;28;01mreturn\u001b[39;00m \u001b[43mgraph_function\u001b[49m\u001b[38;5;241;43m.\u001b[39;49m\u001b[43m_call_flat\u001b[49m\u001b[43m(\u001b[49m\n\u001b[1;32m   2957\u001b[0m \u001b[43m    \u001b[49m\u001b[43mfiltered_flat_args\u001b[49m\u001b[43m,\u001b[49m\u001b[43m \u001b[49m\u001b[43mcaptured_inputs\u001b[49m\u001b[38;5;241;43m=\u001b[39;49m\u001b[43mgraph_function\u001b[49m\u001b[38;5;241;43m.\u001b[39;49m\u001b[43mcaptured_inputs\u001b[49m\u001b[43m)\u001b[49m\n",
      "File \u001b[0;32m~/Library/Python/3.8/lib/python/site-packages/tensorflow/python/eager/function.py:1853\u001b[0m, in \u001b[0;36mConcreteFunction._call_flat\u001b[0;34m(self, args, captured_inputs, cancellation_manager)\u001b[0m\n\u001b[1;32m   1849\u001b[0m possible_gradient_type \u001b[38;5;241m=\u001b[39m gradients_util\u001b[38;5;241m.\u001b[39mPossibleTapeGradientTypes(args)\n\u001b[1;32m   1850\u001b[0m \u001b[38;5;28;01mif\u001b[39;00m (possible_gradient_type \u001b[38;5;241m==\u001b[39m gradients_util\u001b[38;5;241m.\u001b[39mPOSSIBLE_GRADIENT_TYPES_NONE\n\u001b[1;32m   1851\u001b[0m     \u001b[38;5;129;01mand\u001b[39;00m executing_eagerly):\n\u001b[1;32m   1852\u001b[0m   \u001b[38;5;66;03m# No tape is watching; skip to running the function.\u001b[39;00m\n\u001b[0;32m-> 1853\u001b[0m   \u001b[38;5;28;01mreturn\u001b[39;00m \u001b[38;5;28mself\u001b[39m\u001b[38;5;241m.\u001b[39m_build_call_outputs(\u001b[38;5;28;43mself\u001b[39;49m\u001b[38;5;241;43m.\u001b[39;49m\u001b[43m_inference_function\u001b[49m\u001b[38;5;241;43m.\u001b[39;49m\u001b[43mcall\u001b[49m\u001b[43m(\u001b[49m\n\u001b[1;32m   1854\u001b[0m \u001b[43m      \u001b[49m\u001b[43mctx\u001b[49m\u001b[43m,\u001b[49m\u001b[43m \u001b[49m\u001b[43margs\u001b[49m\u001b[43m,\u001b[49m\u001b[43m \u001b[49m\u001b[43mcancellation_manager\u001b[49m\u001b[38;5;241;43m=\u001b[39;49m\u001b[43mcancellation_manager\u001b[49m\u001b[43m)\u001b[49m)\n\u001b[1;32m   1855\u001b[0m forward_backward \u001b[38;5;241m=\u001b[39m \u001b[38;5;28mself\u001b[39m\u001b[38;5;241m.\u001b[39m_select_forward_and_backward_functions(\n\u001b[1;32m   1856\u001b[0m     args,\n\u001b[1;32m   1857\u001b[0m     possible_gradient_type,\n\u001b[1;32m   1858\u001b[0m     executing_eagerly)\n\u001b[1;32m   1859\u001b[0m forward_function, args_with_tangents \u001b[38;5;241m=\u001b[39m forward_backward\u001b[38;5;241m.\u001b[39mforward()\n",
      "File \u001b[0;32m~/Library/Python/3.8/lib/python/site-packages/tensorflow/python/eager/function.py:499\u001b[0m, in \u001b[0;36m_EagerDefinedFunction.call\u001b[0;34m(self, ctx, args, cancellation_manager)\u001b[0m\n\u001b[1;32m    497\u001b[0m \u001b[38;5;28;01mwith\u001b[39;00m _InterpolateFunctionError(\u001b[38;5;28mself\u001b[39m):\n\u001b[1;32m    498\u001b[0m   \u001b[38;5;28;01mif\u001b[39;00m cancellation_manager \u001b[38;5;129;01mis\u001b[39;00m \u001b[38;5;28;01mNone\u001b[39;00m:\n\u001b[0;32m--> 499\u001b[0m     outputs \u001b[38;5;241m=\u001b[39m \u001b[43mexecute\u001b[49m\u001b[38;5;241;43m.\u001b[39;49m\u001b[43mexecute\u001b[49m\u001b[43m(\u001b[49m\n\u001b[1;32m    500\u001b[0m \u001b[43m        \u001b[49m\u001b[38;5;28;43mstr\u001b[39;49m\u001b[43m(\u001b[49m\u001b[38;5;28;43mself\u001b[39;49m\u001b[38;5;241;43m.\u001b[39;49m\u001b[43msignature\u001b[49m\u001b[38;5;241;43m.\u001b[39;49m\u001b[43mname\u001b[49m\u001b[43m)\u001b[49m\u001b[43m,\u001b[49m\n\u001b[1;32m    501\u001b[0m \u001b[43m        \u001b[49m\u001b[43mnum_outputs\u001b[49m\u001b[38;5;241;43m=\u001b[39;49m\u001b[38;5;28;43mself\u001b[39;49m\u001b[38;5;241;43m.\u001b[39;49m\u001b[43m_num_outputs\u001b[49m\u001b[43m,\u001b[49m\n\u001b[1;32m    502\u001b[0m \u001b[43m        \u001b[49m\u001b[43minputs\u001b[49m\u001b[38;5;241;43m=\u001b[39;49m\u001b[43margs\u001b[49m\u001b[43m,\u001b[49m\n\u001b[1;32m    503\u001b[0m \u001b[43m        \u001b[49m\u001b[43mattrs\u001b[49m\u001b[38;5;241;43m=\u001b[39;49m\u001b[43mattrs\u001b[49m\u001b[43m,\u001b[49m\n\u001b[1;32m    504\u001b[0m \u001b[43m        \u001b[49m\u001b[43mctx\u001b[49m\u001b[38;5;241;43m=\u001b[39;49m\u001b[43mctx\u001b[49m\u001b[43m)\u001b[49m\n\u001b[1;32m    505\u001b[0m   \u001b[38;5;28;01melse\u001b[39;00m:\n\u001b[1;32m    506\u001b[0m     outputs \u001b[38;5;241m=\u001b[39m execute\u001b[38;5;241m.\u001b[39mexecute_with_cancellation(\n\u001b[1;32m    507\u001b[0m         \u001b[38;5;28mstr\u001b[39m(\u001b[38;5;28mself\u001b[39m\u001b[38;5;241m.\u001b[39msignature\u001b[38;5;241m.\u001b[39mname),\n\u001b[1;32m    508\u001b[0m         num_outputs\u001b[38;5;241m=\u001b[39m\u001b[38;5;28mself\u001b[39m\u001b[38;5;241m.\u001b[39m_num_outputs,\n\u001b[0;32m   (...)\u001b[0m\n\u001b[1;32m    511\u001b[0m         ctx\u001b[38;5;241m=\u001b[39mctx,\n\u001b[1;32m    512\u001b[0m         cancellation_manager\u001b[38;5;241m=\u001b[39mcancellation_manager)\n",
      "File \u001b[0;32m~/Library/Python/3.8/lib/python/site-packages/tensorflow/python/eager/execute.py:54\u001b[0m, in \u001b[0;36mquick_execute\u001b[0;34m(op_name, num_outputs, inputs, attrs, ctx, name)\u001b[0m\n\u001b[1;32m     52\u001b[0m \u001b[38;5;28;01mtry\u001b[39;00m:\n\u001b[1;32m     53\u001b[0m   ctx\u001b[38;5;241m.\u001b[39mensure_initialized()\n\u001b[0;32m---> 54\u001b[0m   tensors \u001b[38;5;241m=\u001b[39m \u001b[43mpywrap_tfe\u001b[49m\u001b[38;5;241;43m.\u001b[39;49m\u001b[43mTFE_Py_Execute\u001b[49m\u001b[43m(\u001b[49m\u001b[43mctx\u001b[49m\u001b[38;5;241;43m.\u001b[39;49m\u001b[43m_handle\u001b[49m\u001b[43m,\u001b[49m\u001b[43m \u001b[49m\u001b[43mdevice_name\u001b[49m\u001b[43m,\u001b[49m\u001b[43m \u001b[49m\u001b[43mop_name\u001b[49m\u001b[43m,\u001b[49m\n\u001b[1;32m     55\u001b[0m \u001b[43m                                      \u001b[49m\u001b[43minputs\u001b[49m\u001b[43m,\u001b[49m\u001b[43m \u001b[49m\u001b[43mattrs\u001b[49m\u001b[43m,\u001b[49m\u001b[43m \u001b[49m\u001b[43mnum_outputs\u001b[49m\u001b[43m)\u001b[49m\n\u001b[1;32m     56\u001b[0m \u001b[38;5;28;01mexcept\u001b[39;00m core\u001b[38;5;241m.\u001b[39m_NotOkStatusException \u001b[38;5;28;01mas\u001b[39;00m e:\n\u001b[1;32m     57\u001b[0m   \u001b[38;5;28;01mif\u001b[39;00m name \u001b[38;5;129;01mis\u001b[39;00m \u001b[38;5;129;01mnot\u001b[39;00m \u001b[38;5;28;01mNone\u001b[39;00m:\n",
      "\u001b[0;31mKeyboardInterrupt\u001b[0m: "
     ]
    }
   ],
   "source": [
    "import tensorflow as tf\n",
    "from tensorflow import keras\n",
    "import seaborn as sns\n",
    "from pylab import rcParams\n",
    "from matplotlib import rc\n",
    "\n",
    "# design network\n",
    "model = tf.keras.models.Sequential()\n",
    "model.add(tf.keras.layers.GRU(200, input_shape=(train_X.shape[1], train_X.shape[2])))\n",
    "model.add(tf.keras.layers.Dense(1))\n",
    "model.compile(loss='mae', optimizer='adam')\n",
    "\n",
    "# fit network\n",
    "history = model.fit(train_X, train_y, epochs=20, batch_size=100, \n",
    "                    validation_data=(test_X, test_y), verbose=2, shuffle=False)"
   ]
  },
  {
   "cell_type": "code",
   "execution_count": null,
   "metadata": {},
   "outputs": [],
   "source": [
    "# plot history\n",
    "plt.plot(history.history['loss'], label='train')\n",
    "plt.plot(history.history['val_loss'], label='test')\n",
    "plt.legend()\n",
    "plt.show()"
   ]
  },
  {
   "cell_type": "code",
   "execution_count": 63,
   "metadata": {},
   "outputs": [
    {
     "name": "stderr",
     "output_type": "stream",
     "text": [
      "WARNING:absl:Found untraced functions such as gru_cell_5_layer_call_fn, gru_cell_5_layer_call_and_return_conditional_losses while saving (showing 2 of 2). These functions will not be directly callable after loading.\n"
     ]
    },
    {
     "name": "stdout",
     "output_type": "stream",
     "text": [
      "INFO:tensorflow:Assets written to: ./gru_model_v3/assets\n"
     ]
    },
    {
     "name": "stderr",
     "output_type": "stream",
     "text": [
      "INFO:tensorflow:Assets written to: ./gru_model_v3/assets\n",
      "WARNING:absl:<keras.layers.recurrent.GRUCell object at 0x16a1712b0> has the same name 'GRUCell' as a built-in Keras object. Consider renaming <class 'keras.layers.recurrent.GRUCell'> to avoid naming conflicts when loading with `tf.keras.models.load_model`. If renaming is not possible, pass the object in the `custom_objects` parameter of the load function.\n"
     ]
    }
   ],
   "source": [
    "model.save('./gru_model_v3')"
   ]
  },
  {
   "cell_type": "code",
   "execution_count": 64,
   "metadata": {},
   "outputs": [
    {
     "name": "stdout",
     "output_type": "stream",
     "text": [
      "Running Prediction\n",
      "Done\n"
     ]
    }
   ],
   "source": [
    "# make a prediction\n",
    "print('Running Prediction')\n",
    "y_pred = model.predict(test_X)\n",
    "print('Done')"
   ]
  },
  {
   "cell_type": "code",
   "execution_count": 65,
   "metadata": {},
   "outputs": [],
   "source": [
    "test_X = test_X.reshape((test_X.shape[0], 960*2))"
   ]
  },
  {
   "cell_type": "code",
   "execution_count": 66,
   "metadata": {},
   "outputs": [
    {
     "data": {
      "text/plain": [
       "(33696, 1)"
      ]
     },
     "execution_count": 66,
     "metadata": {},
     "output_type": "execute_result"
    }
   ],
   "source": [
    "y_pred.shape"
   ]
  },
  {
   "cell_type": "code",
   "execution_count": 67,
   "metadata": {},
   "outputs": [
    {
     "data": {
      "text/plain": [
       "(33696, 1)"
      ]
     },
     "execution_count": 67,
     "metadata": {},
     "output_type": "execute_result"
    }
   ],
   "source": [
    "temp = test_X[:, -1:]\n",
    "temp.shape"
   ]
  },
  {
   "cell_type": "code",
   "execution_count": 68,
   "metadata": {},
   "outputs": [
    {
     "data": {
      "text/plain": [
       "array([1285.8   , 1332.2015, 1341.1293, ..., 1159.1282, 1153.1827,\n",
       "       1172.2551], dtype=float32)"
      ]
     },
     "execution_count": 68,
     "metadata": {},
     "output_type": "execute_result"
    }
   ],
   "source": [
    "from numpy import concatenate\n",
    "# invert scaling for forecast\n",
    "inv_y_pred = concatenate((y_pred, test_X[:, -1:]), axis=1)\n",
    "inv_y_pred=  scaler.inverse_transform(inv_y_pred)\n",
    "inv_y_pred = inv_y_pred[:,0]\n",
    "inv_y_pred"
   ]
  },
  {
   "cell_type": "code",
   "execution_count": 69,
   "metadata": {},
   "outputs": [
    {
     "data": {
      "text/plain": [
       "(33696, 1)"
      ]
     },
     "execution_count": 69,
     "metadata": {},
     "output_type": "execute_result"
    }
   ],
   "source": [
    "y_pred.shape"
   ]
  },
  {
   "cell_type": "code",
   "execution_count": 70,
   "metadata": {},
   "outputs": [],
   "source": [
    "# invert scaling for actual\n",
    "test_y = test_y.reshape((len(test_y), 1))\n",
    "inv_y = concatenate((test_y, test_X[:, -1:]), axis=1)\n",
    "inv_y = scaler.inverse_transform(inv_y)\n",
    "inv_y = inv_y[:,0]\n"
   ]
  },
  {
   "cell_type": "code",
   "execution_count": 71,
   "metadata": {},
   "outputs": [
    {
     "data": {
      "text/plain": [
       "(33696,)"
      ]
     },
     "execution_count": 71,
     "metadata": {},
     "output_type": "execute_result"
    }
   ],
   "source": [
    "inv_y_pred.shape"
   ]
  },
  {
   "cell_type": "code",
   "execution_count": 72,
   "metadata": {},
   "outputs": [
    {
     "data": {
      "text/plain": [
       "array([1285.8   , 1332.2015, 1341.1293, ..., 1159.1282, 1153.1827,\n",
       "       1172.2551], dtype=float32)"
      ]
     },
     "execution_count": 72,
     "metadata": {},
     "output_type": "execute_result"
    }
   ],
   "source": [
    "inv_y_pred"
   ]
  },
  {
   "cell_type": "code",
   "execution_count": 73,
   "metadata": {},
   "outputs": [
    {
     "data": {
      "text/plain": [
       "(33696,)"
      ]
     },
     "execution_count": 73,
     "metadata": {},
     "output_type": "execute_result"
    }
   ],
   "source": [
    "inv_y.shape"
   ]
  },
  {
   "cell_type": "code",
   "execution_count": 74,
   "metadata": {},
   "outputs": [
    {
     "data": {
      "text/plain": [
       "array([1340.8, 1350.4, 1328. , ..., 1158.4, 1177.6, 1161.6], dtype=float32)"
      ]
     },
     "execution_count": 74,
     "metadata": {},
     "output_type": "execute_result"
    }
   ],
   "source": [
    "inv_y"
   ]
  },
  {
   "cell_type": "code",
   "execution_count": 45,
   "metadata": {},
   "outputs": [
    {
     "data": {
      "text/plain": [
       "(70080,)"
      ]
     },
     "execution_count": 45,
     "metadata": {},
     "output_type": "execute_result"
    }
   ],
   "source": [
    "# invert scaling for actual\n",
    "train_X = train_X.reshape((train_X.shape[0], 96*2))\n",
    "\n",
    "train_y = train_y.reshape((len(train_y), 1))\n",
    "inv_train_y = concatenate((train_y, train_X[:, -1:]), axis=1)\n",
    "inv_train_y = scaler.inverse_transform(inv_train_y)\n",
    "inv_train_y = inv_train_y[:,0]\n",
    "inv_train_y.shape"
   ]
  },
  {
   "cell_type": "code",
   "execution_count": null,
   "metadata": {},
   "outputs": [],
   "source": []
  },
  {
   "cell_type": "code",
   "execution_count": 75,
   "metadata": {},
   "outputs": [
    {
     "data": {
      "text/html": [
       "<div>\n",
       "<style scoped>\n",
       "    .dataframe tbody tr th:only-of-type {\n",
       "        vertical-align: middle;\n",
       "    }\n",
       "\n",
       "    .dataframe tbody tr th {\n",
       "        vertical-align: top;\n",
       "    }\n",
       "\n",
       "    .dataframe thead th {\n",
       "        text-align: right;\n",
       "    }\n",
       "</style>\n",
       "<table border=\"1\" class=\"dataframe\">\n",
       "  <thead>\n",
       "    <tr style=\"text-align: right;\">\n",
       "      <th></th>\n",
       "      <th>Actual Peak Demand</th>\n",
       "      <th>Predicted Peak Demand</th>\n",
       "    </tr>\n",
       "  </thead>\n",
       "  <tbody>\n",
       "    <tr>\n",
       "      <th>0</th>\n",
       "      <td>1340.800049</td>\n",
       "      <td>1285.800049</td>\n",
       "    </tr>\n",
       "    <tr>\n",
       "      <th>1</th>\n",
       "      <td>1350.400024</td>\n",
       "      <td>1332.201538</td>\n",
       "    </tr>\n",
       "    <tr>\n",
       "      <th>2</th>\n",
       "      <td>1328.000000</td>\n",
       "      <td>1341.129272</td>\n",
       "    </tr>\n",
       "    <tr>\n",
       "      <th>3</th>\n",
       "      <td>1302.400024</td>\n",
       "      <td>1329.496704</td>\n",
       "    </tr>\n",
       "    <tr>\n",
       "      <th>4</th>\n",
       "      <td>1264.000000</td>\n",
       "      <td>1311.820801</td>\n",
       "    </tr>\n",
       "    <tr>\n",
       "      <th>...</th>\n",
       "      <td>...</td>\n",
       "      <td>...</td>\n",
       "    </tr>\n",
       "    <tr>\n",
       "      <th>33691</th>\n",
       "      <td>1129.599976</td>\n",
       "      <td>1185.310425</td>\n",
       "    </tr>\n",
       "    <tr>\n",
       "      <th>33692</th>\n",
       "      <td>1155.199951</td>\n",
       "      <td>1131.035400</td>\n",
       "    </tr>\n",
       "    <tr>\n",
       "      <th>33693</th>\n",
       "      <td>1158.400024</td>\n",
       "      <td>1159.128174</td>\n",
       "    </tr>\n",
       "    <tr>\n",
       "      <th>33694</th>\n",
       "      <td>1177.599976</td>\n",
       "      <td>1153.182739</td>\n",
       "    </tr>\n",
       "    <tr>\n",
       "      <th>33695</th>\n",
       "      <td>1161.599976</td>\n",
       "      <td>1172.255127</td>\n",
       "    </tr>\n",
       "  </tbody>\n",
       "</table>\n",
       "<p>33696 rows × 2 columns</p>\n",
       "</div>"
      ],
      "text/plain": [
       "       Actual Peak Demand  Predicted Peak Demand\n",
       "0             1340.800049            1285.800049\n",
       "1             1350.400024            1332.201538\n",
       "2             1328.000000            1341.129272\n",
       "3             1302.400024            1329.496704\n",
       "4             1264.000000            1311.820801\n",
       "...                   ...                    ...\n",
       "33691         1129.599976            1185.310425\n",
       "33692         1155.199951            1131.035400\n",
       "33693         1158.400024            1159.128174\n",
       "33694         1177.599976            1153.182739\n",
       "33695         1161.599976            1172.255127\n",
       "\n",
       "[33696 rows x 2 columns]"
      ]
     },
     "execution_count": 75,
     "metadata": {},
     "output_type": "execute_result"
    }
   ],
   "source": [
    "final_df = pd.concat([pd.DataFrame(inv_y, columns = ['Actual Peak Demand']), pd.DataFrame(inv_y_pred, columns = ['Predicted Peak Demand'])], axis=1)\n",
    "final_df"
   ]
  },
  {
   "cell_type": "code",
   "execution_count": 76,
   "metadata": {},
   "outputs": [],
   "source": [
    "from sklearn.metrics import r2_score, median_absolute_error, mean_absolute_error\n",
    "from sklearn.metrics import median_absolute_error, mean_squared_error, mean_squared_log_error\n",
    "from sklearn.metrics import mean_squared_error\n",
    "\n",
    "\n",
    "\n",
    "def mean_absolute_percentage_error(y_true, y_pred): \n",
    "    return np.mean(np.abs((y_true - y_pred) / y_true)) * 100\n",
    "\n",
    "def mean_absolute_error(y_true, y_pred): \n",
    "    return np.mean(np.abs((y_true - y_pred)))\n",
    "\n",
    "def mse_error(y_true, y_pred): \n",
    "    return mean_squared_error(y_true, y_pred, squared=True)\n",
    "\n",
    "def rmse_error(y_true, y_pred): \n",
    "    return mean_squared_error(y_true, y_pred, squared=False)"
   ]
  },
  {
   "cell_type": "code",
   "execution_count": 77,
   "metadata": {},
   "outputs": [],
   "source": [
    "mean_absolute_error_var = mean_absolute_error(final_df['Actual Peak Demand'], final_df['Predicted Peak Demand'])\n",
    "mean_absolute_percentage_error_var = mean_absolute_percentage_error(final_df['Actual Peak Demand'], final_df['Predicted Peak Demand'])\n",
    "mse_error_var = mse_error(final_df['Actual Peak Demand'], final_df['Predicted Peak Demand'])\n",
    "rmse_error_var = rmse_error(final_df['Actual Peak Demand'], final_df['Predicted Peak Demand'])"
   ]
  },
  {
   "cell_type": "code",
   "execution_count": 78,
   "metadata": {},
   "outputs": [
    {
     "name": "stdout",
     "output_type": "stream",
     "text": [
      "Test Set Metrics\n",
      "MAPE:  inf\n",
      "MAE:  34.353584\n",
      "MSE:  2586.0046\n",
      "RMSE:  50.852776\n"
     ]
    }
   ],
   "source": [
    "print('Test Set Metrics')\n",
    "print('MAPE: ' , mean_absolute_percentage_error_var)\n",
    "print('MAE: ', mean_absolute_error_var)\n",
    "print('MSE: ', mse_error_var)\n",
    "print('RMSE: ', rmse_error_var)"
   ]
  },
  {
   "cell_type": "code",
   "execution_count": 79,
   "metadata": {},
   "outputs": [
    {
     "data": {
      "text/plain": [
       "<AxesSubplot:>"
      ]
     },
     "execution_count": 79,
     "metadata": {},
     "output_type": "execute_result"
    },
    {
     "data": {
      "image/png": "[encoded data removed]",
      "text/plain": [
       "<Figure size 1200x840 with 1 Axes>"
      ]
     },
     "metadata": {
      "needs_background": "light"
     },
     "output_type": "display_data"
    }
   ],
   "source": [
    "final_df.plot()"
   ]
  },
  {
   "cell_type": "code",
   "execution_count": 52,
   "metadata": {},
   "outputs": [
    {
     "data": {
      "text/plain": [
       "<AxesSubplot:>"
      ]
     },
     "execution_count": 52,
     "metadata": {},
     "output_type": "execute_result"
    },
    {
     "data": {
      "image/png": "[encoded data removed]",
      "text/plain": [
       "<Figure size 1200x840 with 1 Axes>"
      ]
     },
     "metadata": {
      "needs_background": "light"
     },
     "output_type": "display_data"
    }
   ],
   "source": [
    "final_df.head(96).plot()"
   ]
  },
  {
   "cell_type": "code",
   "execution_count": 51,
   "metadata": {},
   "outputs": [
    {
     "data": {
      "image/png": "[encoded data removed]",
      "text/plain": [
       "<Figure size 1200x840 with 1 Axes>"
      ]
     },
     "metadata": {
      "needs_background": "light"
     },
     "output_type": "display_data"
    }
   ],
   "source": [
    "plt.plot(np.arange(0, len(inv_train_y)), inv_train_y, 'g', label=\"history\")\n",
    "plt.plot(np.arange(len(inv_train_y),  len(inv_train_y) + len(inv_y)), inv_y, marker='.', label=\"true\")\n",
    "plt.plot(np.arange(len(inv_train_y),  len(inv_train_y) + len(inv_y)), inv_y_pred, 'r', label=\"prediction\")\n",
    "plt.ylabel('Peak Load')\n",
    "plt.xlabel('Time Step')\n",
    "plt.legend()\n",
    "plt.show();"
   ]
  },
  {
   "cell_type": "code",
   "execution_count": null,
   "metadata": {},
   "outputs": [],
   "source": []
  }
 ],
 "metadata": {
  "kernelspec": {
   "display_name": "Python 3 (ipykernel)",
   "language": "python",
   "name": "python3"
  },
  "language_info": {
   "codemirror_mode": {
    "name": "ipython",
    "version": 3
   },
   "file_extension": ".py",
   "mimetype": "text/x-python",
   "name": "python",
   "nbconvert_exporter": "python",
   "pygments_lexer": "ipython3",
   "version": "3.8.2"
  }
 },
 "nbformat": 4,
 "nbformat_minor": 2
}
