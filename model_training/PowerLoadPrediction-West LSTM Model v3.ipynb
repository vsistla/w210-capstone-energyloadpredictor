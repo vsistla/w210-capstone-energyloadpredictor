{
 "cells": [
  {
   "cell_type": "markdown",
   "metadata": {},
   "source": [
    " # Power Load Prediction for West Zone - LSTM Model"
   ]
  },
  {
   "cell_type": "code",
   "execution_count": 118,
   "metadata": {},
   "outputs": [],
   "source": [
    "import numpy as np\n",
    "import matplotlib as mpl\n",
    "import matplotlib.pyplot as plt\n",
    "import pandas as pd\n",
    "%matplotlib inline\n",
    "plt.rcParams.update({'figure.figsize': (10, 7), 'figure.dpi': 120})"
   ]
  },
  {
   "cell_type": "code",
   "execution_count": 119,
   "metadata": {},
   "outputs": [],
   "source": [
    "power_data_west = pd.read_csv(\"west_interval_data_01-29-2019_01-27-2021.csv\")"
   ]
  },
  {
   "cell_type": "code",
   "execution_count": 120,
   "metadata": {},
   "outputs": [],
   "source": [
    "power_data_west['End Date Time'] = pd.to_datetime(power_data_west['End Date Time'], infer_datetime_format=True)\n",
    "indexedDataset = power_data_west.set_index(['End Date Time'])"
   ]
  },
  {
   "cell_type": "code",
   "execution_count": 121,
   "metadata": {},
   "outputs": [],
   "source": [
    "plot_df_west = pd.DataFrame(power_data_west, columns=['Peak Demand', 'Avg. Temperature', 'End Date Time'])"
   ]
  },
  {
   "cell_type": "code",
   "execution_count": 122,
   "metadata": {},
   "outputs": [
    {
     "data": {
      "text/plain": [
       "Timestamp('2019-01-29 00:15:00')"
      ]
     },
     "execution_count": 122,
     "metadata": {},
     "output_type": "execute_result"
    }
   ],
   "source": [
    "plot_df_west['End Date Time'].min()"
   ]
  },
  {
   "cell_type": "code",
   "execution_count": 123,
   "metadata": {},
   "outputs": [
    {
     "data": {
      "text/plain": [
       "Timestamp('2022-01-27 00:00:00')"
      ]
     },
     "execution_count": 123,
     "metadata": {},
     "output_type": "execute_result"
    }
   ],
   "source": [
    "plot_df_west['End Date Time'].max()"
   ]
  },
  {
   "cell_type": "code",
   "execution_count": 124,
   "metadata": {},
   "outputs": [],
   "source": [
    "power_data_west['month'] = power_data_west['End Date Time'].dt.strftime('%b')"
   ]
  },
  {
   "cell_type": "code",
   "execution_count": 125,
   "metadata": {},
   "outputs": [],
   "source": [
    "power_data_west['day_of_week'] = power_data_west['End Date Time'].dt.day_name()"
   ]
  },
  {
   "cell_type": "code",
   "execution_count": 126,
   "metadata": {},
   "outputs": [],
   "source": [
    "from pandas.tseries.holiday import USFederalHolidayCalendar as calendar\n",
    "\n",
    "date_range = pd.date_range(start='2019-01-01', end='2022-01-27')\n",
    "\n",
    "cal = calendar()\n",
    "holidays = cal.holidays(start=date_range.min(), end=date_range.max())\n",
    "\n",
    "power_data_west['holiday'] = power_data_west['End Date Time'].dt.date.astype('datetime64').isin(holidays)"
   ]
  },
  {
   "cell_type": "code",
   "execution_count": 127,
   "metadata": {},
   "outputs": [
    {
     "data": {
      "text/html": [
       "<div>\n",
       "<style scoped>\n",
       "    .dataframe tbody tr th:only-of-type {\n",
       "        vertical-align: middle;\n",
       "    }\n",
       "\n",
       "    .dataframe tbody tr th {\n",
       "        vertical-align: top;\n",
       "    }\n",
       "\n",
       "    .dataframe thead th {\n",
       "        text-align: right;\n",
       "    }\n",
       "</style>\n",
       "<table border=\"1\" class=\"dataframe\">\n",
       "  <thead>\n",
       "    <tr style=\"text-align: right;\">\n",
       "      <th></th>\n",
       "      <th>Service Agreement</th>\n",
       "      <th>Start Date Time</th>\n",
       "      <th>End Date Time</th>\n",
       "      <th>Usage</th>\n",
       "      <th>Usage Unit</th>\n",
       "      <th>Cost</th>\n",
       "      <th>Currency Unit</th>\n",
       "      <th>Avg. Temperature</th>\n",
       "      <th>Temperature Unit</th>\n",
       "      <th>Event Flags</th>\n",
       "      <th>Peak Demand</th>\n",
       "      <th>Demand Unit</th>\n",
       "      <th>month</th>\n",
       "      <th>day_of_week</th>\n",
       "      <th>holiday</th>\n",
       "    </tr>\n",
       "  </thead>\n",
       "  <tbody>\n",
       "    <tr>\n",
       "      <th>0</th>\n",
       "      <td>west</td>\n",
       "      <td>1/29/19 0:00</td>\n",
       "      <td>2019-01-29 00:15:00</td>\n",
       "      <td>211.2</td>\n",
       "      <td>KWH</td>\n",
       "      <td>NaN</td>\n",
       "      <td>NaN</td>\n",
       "      <td>54.0</td>\n",
       "      <td>FAHRENHEIT</td>\n",
       "      <td>NaN</td>\n",
       "      <td>844.8</td>\n",
       "      <td>KW</td>\n",
       "      <td>Jan</td>\n",
       "      <td>Tuesday</td>\n",
       "      <td>False</td>\n",
       "    </tr>\n",
       "    <tr>\n",
       "      <th>1</th>\n",
       "      <td>west</td>\n",
       "      <td>1/29/19 0:15</td>\n",
       "      <td>2019-01-29 00:30:00</td>\n",
       "      <td>210.4</td>\n",
       "      <td>KWH</td>\n",
       "      <td>NaN</td>\n",
       "      <td>NaN</td>\n",
       "      <td>54.0</td>\n",
       "      <td>FAHRENHEIT</td>\n",
       "      <td>NaN</td>\n",
       "      <td>841.6</td>\n",
       "      <td>KW</td>\n",
       "      <td>Jan</td>\n",
       "      <td>Tuesday</td>\n",
       "      <td>False</td>\n",
       "    </tr>\n",
       "    <tr>\n",
       "      <th>2</th>\n",
       "      <td>west</td>\n",
       "      <td>1/29/19 0:30</td>\n",
       "      <td>2019-01-29 00:45:00</td>\n",
       "      <td>208.0</td>\n",
       "      <td>KWH</td>\n",
       "      <td>NaN</td>\n",
       "      <td>NaN</td>\n",
       "      <td>54.0</td>\n",
       "      <td>FAHRENHEIT</td>\n",
       "      <td>NaN</td>\n",
       "      <td>832.0</td>\n",
       "      <td>KW</td>\n",
       "      <td>Jan</td>\n",
       "      <td>Tuesday</td>\n",
       "      <td>False</td>\n",
       "    </tr>\n",
       "    <tr>\n",
       "      <th>3</th>\n",
       "      <td>west</td>\n",
       "      <td>1/29/19 0:45</td>\n",
       "      <td>2019-01-29 01:00:00</td>\n",
       "      <td>212.0</td>\n",
       "      <td>KWH</td>\n",
       "      <td>NaN</td>\n",
       "      <td>NaN</td>\n",
       "      <td>54.0</td>\n",
       "      <td>FAHRENHEIT</td>\n",
       "      <td>NaN</td>\n",
       "      <td>848.0</td>\n",
       "      <td>KW</td>\n",
       "      <td>Jan</td>\n",
       "      <td>Tuesday</td>\n",
       "      <td>False</td>\n",
       "    </tr>\n",
       "    <tr>\n",
       "      <th>4</th>\n",
       "      <td>west</td>\n",
       "      <td>1/29/19 1:00</td>\n",
       "      <td>2019-01-29 01:15:00</td>\n",
       "      <td>203.2</td>\n",
       "      <td>KWH</td>\n",
       "      <td>NaN</td>\n",
       "      <td>NaN</td>\n",
       "      <td>55.0</td>\n",
       "      <td>FAHRENHEIT</td>\n",
       "      <td>NaN</td>\n",
       "      <td>812.8</td>\n",
       "      <td>KW</td>\n",
       "      <td>Jan</td>\n",
       "      <td>Tuesday</td>\n",
       "      <td>False</td>\n",
       "    </tr>\n",
       "    <tr>\n",
       "      <th>5</th>\n",
       "      <td>west</td>\n",
       "      <td>1/29/19 1:15</td>\n",
       "      <td>2019-01-29 01:30:00</td>\n",
       "      <td>205.6</td>\n",
       "      <td>KWH</td>\n",
       "      <td>NaN</td>\n",
       "      <td>NaN</td>\n",
       "      <td>55.0</td>\n",
       "      <td>FAHRENHEIT</td>\n",
       "      <td>NaN</td>\n",
       "      <td>822.4</td>\n",
       "      <td>KW</td>\n",
       "      <td>Jan</td>\n",
       "      <td>Tuesday</td>\n",
       "      <td>False</td>\n",
       "    </tr>\n",
       "    <tr>\n",
       "      <th>6</th>\n",
       "      <td>west</td>\n",
       "      <td>1/29/19 1:30</td>\n",
       "      <td>2019-01-29 01:45:00</td>\n",
       "      <td>205.6</td>\n",
       "      <td>KWH</td>\n",
       "      <td>NaN</td>\n",
       "      <td>NaN</td>\n",
       "      <td>55.0</td>\n",
       "      <td>FAHRENHEIT</td>\n",
       "      <td>NaN</td>\n",
       "      <td>822.4</td>\n",
       "      <td>KW</td>\n",
       "      <td>Jan</td>\n",
       "      <td>Tuesday</td>\n",
       "      <td>False</td>\n",
       "    </tr>\n",
       "    <tr>\n",
       "      <th>7</th>\n",
       "      <td>west</td>\n",
       "      <td>1/29/19 1:45</td>\n",
       "      <td>2019-01-29 02:00:00</td>\n",
       "      <td>208.8</td>\n",
       "      <td>KWH</td>\n",
       "      <td>NaN</td>\n",
       "      <td>NaN</td>\n",
       "      <td>55.0</td>\n",
       "      <td>FAHRENHEIT</td>\n",
       "      <td>NaN</td>\n",
       "      <td>835.2</td>\n",
       "      <td>KW</td>\n",
       "      <td>Jan</td>\n",
       "      <td>Tuesday</td>\n",
       "      <td>False</td>\n",
       "    </tr>\n",
       "    <tr>\n",
       "      <th>8</th>\n",
       "      <td>west</td>\n",
       "      <td>1/29/19 2:00</td>\n",
       "      <td>2019-01-29 02:15:00</td>\n",
       "      <td>217.6</td>\n",
       "      <td>KWH</td>\n",
       "      <td>NaN</td>\n",
       "      <td>NaN</td>\n",
       "      <td>55.0</td>\n",
       "      <td>FAHRENHEIT</td>\n",
       "      <td>NaN</td>\n",
       "      <td>870.4</td>\n",
       "      <td>KW</td>\n",
       "      <td>Jan</td>\n",
       "      <td>Tuesday</td>\n",
       "      <td>False</td>\n",
       "    </tr>\n",
       "    <tr>\n",
       "      <th>9</th>\n",
       "      <td>west</td>\n",
       "      <td>1/29/19 2:15</td>\n",
       "      <td>2019-01-29 02:30:00</td>\n",
       "      <td>229.6</td>\n",
       "      <td>KWH</td>\n",
       "      <td>NaN</td>\n",
       "      <td>NaN</td>\n",
       "      <td>55.0</td>\n",
       "      <td>FAHRENHEIT</td>\n",
       "      <td>NaN</td>\n",
       "      <td>918.4</td>\n",
       "      <td>KW</td>\n",
       "      <td>Jan</td>\n",
       "      <td>Tuesday</td>\n",
       "      <td>False</td>\n",
       "    </tr>\n",
       "  </tbody>\n",
       "</table>\n",
       "</div>"
      ],
      "text/plain": [
       "  Service Agreement Start Date Time       End Date Time  Usage Usage Unit  \\\n",
       "0              west    1/29/19 0:00 2019-01-29 00:15:00  211.2        KWH   \n",
       "1              west    1/29/19 0:15 2019-01-29 00:30:00  210.4        KWH   \n",
       "2              west    1/29/19 0:30 2019-01-29 00:45:00  208.0        KWH   \n",
       "3              west    1/29/19 0:45 2019-01-29 01:00:00  212.0        KWH   \n",
       "4              west    1/29/19 1:00 2019-01-29 01:15:00  203.2        KWH   \n",
       "5              west    1/29/19 1:15 2019-01-29 01:30:00  205.6        KWH   \n",
       "6              west    1/29/19 1:30 2019-01-29 01:45:00  205.6        KWH   \n",
       "7              west    1/29/19 1:45 2019-01-29 02:00:00  208.8        KWH   \n",
       "8              west    1/29/19 2:00 2019-01-29 02:15:00  217.6        KWH   \n",
       "9              west    1/29/19 2:15 2019-01-29 02:30:00  229.6        KWH   \n",
       "\n",
       "   Cost  Currency Unit  Avg. Temperature Temperature Unit Event Flags  \\\n",
       "0   NaN            NaN              54.0       FAHRENHEIT         NaN   \n",
       "1   NaN            NaN              54.0       FAHRENHEIT         NaN   \n",
       "2   NaN            NaN              54.0       FAHRENHEIT         NaN   \n",
       "3   NaN            NaN              54.0       FAHRENHEIT         NaN   \n",
       "4   NaN            NaN              55.0       FAHRENHEIT         NaN   \n",
       "5   NaN            NaN              55.0       FAHRENHEIT         NaN   \n",
       "6   NaN            NaN              55.0       FAHRENHEIT         NaN   \n",
       "7   NaN            NaN              55.0       FAHRENHEIT         NaN   \n",
       "8   NaN            NaN              55.0       FAHRENHEIT         NaN   \n",
       "9   NaN            NaN              55.0       FAHRENHEIT         NaN   \n",
       "\n",
       "   Peak Demand Demand Unit month day_of_week  holiday  \n",
       "0        844.8          KW   Jan     Tuesday    False  \n",
       "1        841.6          KW   Jan     Tuesday    False  \n",
       "2        832.0          KW   Jan     Tuesday    False  \n",
       "3        848.0          KW   Jan     Tuesday    False  \n",
       "4        812.8          KW   Jan     Tuesday    False  \n",
       "5        822.4          KW   Jan     Tuesday    False  \n",
       "6        822.4          KW   Jan     Tuesday    False  \n",
       "7        835.2          KW   Jan     Tuesday    False  \n",
       "8        870.4          KW   Jan     Tuesday    False  \n",
       "9        918.4          KW   Jan     Tuesday    False  "
      ]
     },
     "execution_count": 127,
     "metadata": {},
     "output_type": "execute_result"
    }
   ],
   "source": [
    "power_data_west.head(10)"
   ]
  },
  {
   "cell_type": "code",
   "execution_count": 128,
   "metadata": {},
   "outputs": [
    {
     "data": {
      "text/html": [
       "<div>\n",
       "<style scoped>\n",
       "    .dataframe tbody tr th:only-of-type {\n",
       "        vertical-align: middle;\n",
       "    }\n",
       "\n",
       "    .dataframe tbody tr th {\n",
       "        vertical-align: top;\n",
       "    }\n",
       "\n",
       "    .dataframe thead th {\n",
       "        text-align: right;\n",
       "    }\n",
       "</style>\n",
       "<table border=\"1\" class=\"dataframe\">\n",
       "  <thead>\n",
       "    <tr style=\"text-align: right;\">\n",
       "      <th></th>\n",
       "      <th>Service Agreement</th>\n",
       "      <th>Start Date Time</th>\n",
       "      <th>End Date Time</th>\n",
       "      <th>Usage</th>\n",
       "      <th>Usage Unit</th>\n",
       "      <th>Cost</th>\n",
       "      <th>Currency Unit</th>\n",
       "      <th>Avg. Temperature</th>\n",
       "      <th>Temperature Unit</th>\n",
       "      <th>Event Flags</th>\n",
       "      <th>Peak Demand</th>\n",
       "      <th>Demand Unit</th>\n",
       "      <th>month</th>\n",
       "      <th>day_of_week</th>\n",
       "      <th>holiday</th>\n",
       "    </tr>\n",
       "  </thead>\n",
       "  <tbody>\n",
       "    <tr>\n",
       "      <th>104726</th>\n",
       "      <td>west</td>\n",
       "      <td>1/26/22 21:30</td>\n",
       "      <td>2022-01-26 21:45:00</td>\n",
       "      <td>284.0</td>\n",
       "      <td>KWH</td>\n",
       "      <td>NaN</td>\n",
       "      <td>NaN</td>\n",
       "      <td>52.0</td>\n",
       "      <td>FAHRENHEIT</td>\n",
       "      <td>NaN</td>\n",
       "      <td>1136.0</td>\n",
       "      <td>KW</td>\n",
       "      <td>Jan</td>\n",
       "      <td>Wednesday</td>\n",
       "      <td>False</td>\n",
       "    </tr>\n",
       "    <tr>\n",
       "      <th>104727</th>\n",
       "      <td>west</td>\n",
       "      <td>1/26/22 21:45</td>\n",
       "      <td>2022-01-26 22:00:00</td>\n",
       "      <td>288.8</td>\n",
       "      <td>KWH</td>\n",
       "      <td>NaN</td>\n",
       "      <td>NaN</td>\n",
       "      <td>52.0</td>\n",
       "      <td>FAHRENHEIT</td>\n",
       "      <td>NaN</td>\n",
       "      <td>1155.2</td>\n",
       "      <td>KW</td>\n",
       "      <td>Jan</td>\n",
       "      <td>Wednesday</td>\n",
       "      <td>False</td>\n",
       "    </tr>\n",
       "    <tr>\n",
       "      <th>104728</th>\n",
       "      <td>west</td>\n",
       "      <td>1/26/22 22:00</td>\n",
       "      <td>2022-01-26 22:15:00</td>\n",
       "      <td>301.6</td>\n",
       "      <td>KWH</td>\n",
       "      <td>NaN</td>\n",
       "      <td>NaN</td>\n",
       "      <td>51.0</td>\n",
       "      <td>FAHRENHEIT</td>\n",
       "      <td>NaN</td>\n",
       "      <td>1206.4</td>\n",
       "      <td>KW</td>\n",
       "      <td>Jan</td>\n",
       "      <td>Wednesday</td>\n",
       "      <td>False</td>\n",
       "    </tr>\n",
       "    <tr>\n",
       "      <th>104729</th>\n",
       "      <td>west</td>\n",
       "      <td>1/26/22 22:15</td>\n",
       "      <td>2022-01-26 22:30:00</td>\n",
       "      <td>280.0</td>\n",
       "      <td>KWH</td>\n",
       "      <td>NaN</td>\n",
       "      <td>NaN</td>\n",
       "      <td>51.0</td>\n",
       "      <td>FAHRENHEIT</td>\n",
       "      <td>NaN</td>\n",
       "      <td>1120.0</td>\n",
       "      <td>KW</td>\n",
       "      <td>Jan</td>\n",
       "      <td>Wednesday</td>\n",
       "      <td>False</td>\n",
       "    </tr>\n",
       "    <tr>\n",
       "      <th>104730</th>\n",
       "      <td>west</td>\n",
       "      <td>1/26/22 22:30</td>\n",
       "      <td>2022-01-26 22:45:00</td>\n",
       "      <td>296.8</td>\n",
       "      <td>KWH</td>\n",
       "      <td>NaN</td>\n",
       "      <td>NaN</td>\n",
       "      <td>51.0</td>\n",
       "      <td>FAHRENHEIT</td>\n",
       "      <td>NaN</td>\n",
       "      <td>1187.2</td>\n",
       "      <td>KW</td>\n",
       "      <td>Jan</td>\n",
       "      <td>Wednesday</td>\n",
       "      <td>False</td>\n",
       "    </tr>\n",
       "    <tr>\n",
       "      <th>104731</th>\n",
       "      <td>west</td>\n",
       "      <td>1/26/22 22:45</td>\n",
       "      <td>2022-01-26 23:00:00</td>\n",
       "      <td>282.4</td>\n",
       "      <td>KWH</td>\n",
       "      <td>NaN</td>\n",
       "      <td>NaN</td>\n",
       "      <td>51.0</td>\n",
       "      <td>FAHRENHEIT</td>\n",
       "      <td>NaN</td>\n",
       "      <td>1129.6</td>\n",
       "      <td>KW</td>\n",
       "      <td>Jan</td>\n",
       "      <td>Wednesday</td>\n",
       "      <td>False</td>\n",
       "    </tr>\n",
       "    <tr>\n",
       "      <th>104732</th>\n",
       "      <td>west</td>\n",
       "      <td>1/26/22 23:00</td>\n",
       "      <td>2022-01-26 23:15:00</td>\n",
       "      <td>288.8</td>\n",
       "      <td>KWH</td>\n",
       "      <td>NaN</td>\n",
       "      <td>NaN</td>\n",
       "      <td>51.0</td>\n",
       "      <td>FAHRENHEIT</td>\n",
       "      <td>NaN</td>\n",
       "      <td>1155.2</td>\n",
       "      <td>KW</td>\n",
       "      <td>Jan</td>\n",
       "      <td>Wednesday</td>\n",
       "      <td>False</td>\n",
       "    </tr>\n",
       "    <tr>\n",
       "      <th>104733</th>\n",
       "      <td>west</td>\n",
       "      <td>1/26/22 23:15</td>\n",
       "      <td>2022-01-26 23:30:00</td>\n",
       "      <td>289.6</td>\n",
       "      <td>KWH</td>\n",
       "      <td>NaN</td>\n",
       "      <td>NaN</td>\n",
       "      <td>51.0</td>\n",
       "      <td>FAHRENHEIT</td>\n",
       "      <td>NaN</td>\n",
       "      <td>1158.4</td>\n",
       "      <td>KW</td>\n",
       "      <td>Jan</td>\n",
       "      <td>Wednesday</td>\n",
       "      <td>False</td>\n",
       "    </tr>\n",
       "    <tr>\n",
       "      <th>104734</th>\n",
       "      <td>west</td>\n",
       "      <td>1/26/22 23:30</td>\n",
       "      <td>2022-01-26 23:45:00</td>\n",
       "      <td>294.4</td>\n",
       "      <td>KWH</td>\n",
       "      <td>NaN</td>\n",
       "      <td>NaN</td>\n",
       "      <td>51.0</td>\n",
       "      <td>FAHRENHEIT</td>\n",
       "      <td>NaN</td>\n",
       "      <td>1177.6</td>\n",
       "      <td>KW</td>\n",
       "      <td>Jan</td>\n",
       "      <td>Wednesday</td>\n",
       "      <td>False</td>\n",
       "    </tr>\n",
       "    <tr>\n",
       "      <th>104735</th>\n",
       "      <td>west</td>\n",
       "      <td>1/26/22 23:45</td>\n",
       "      <td>2022-01-27 00:00:00</td>\n",
       "      <td>290.4</td>\n",
       "      <td>KWH</td>\n",
       "      <td>NaN</td>\n",
       "      <td>NaN</td>\n",
       "      <td>51.0</td>\n",
       "      <td>FAHRENHEIT</td>\n",
       "      <td>NaN</td>\n",
       "      <td>1161.6</td>\n",
       "      <td>KW</td>\n",
       "      <td>Jan</td>\n",
       "      <td>Thursday</td>\n",
       "      <td>False</td>\n",
       "    </tr>\n",
       "  </tbody>\n",
       "</table>\n",
       "</div>"
      ],
      "text/plain": [
       "       Service Agreement Start Date Time       End Date Time  Usage  \\\n",
       "104726              west   1/26/22 21:30 2022-01-26 21:45:00  284.0   \n",
       "104727              west   1/26/22 21:45 2022-01-26 22:00:00  288.8   \n",
       "104728              west   1/26/22 22:00 2022-01-26 22:15:00  301.6   \n",
       "104729              west   1/26/22 22:15 2022-01-26 22:30:00  280.0   \n",
       "104730              west   1/26/22 22:30 2022-01-26 22:45:00  296.8   \n",
       "104731              west   1/26/22 22:45 2022-01-26 23:00:00  282.4   \n",
       "104732              west   1/26/22 23:00 2022-01-26 23:15:00  288.8   \n",
       "104733              west   1/26/22 23:15 2022-01-26 23:30:00  289.6   \n",
       "104734              west   1/26/22 23:30 2022-01-26 23:45:00  294.4   \n",
       "104735              west   1/26/22 23:45 2022-01-27 00:00:00  290.4   \n",
       "\n",
       "       Usage Unit  Cost  Currency Unit  Avg. Temperature Temperature Unit  \\\n",
       "104726        KWH   NaN            NaN              52.0       FAHRENHEIT   \n",
       "104727        KWH   NaN            NaN              52.0       FAHRENHEIT   \n",
       "104728        KWH   NaN            NaN              51.0       FAHRENHEIT   \n",
       "104729        KWH   NaN            NaN              51.0       FAHRENHEIT   \n",
       "104730        KWH   NaN            NaN              51.0       FAHRENHEIT   \n",
       "104731        KWH   NaN            NaN              51.0       FAHRENHEIT   \n",
       "104732        KWH   NaN            NaN              51.0       FAHRENHEIT   \n",
       "104733        KWH   NaN            NaN              51.0       FAHRENHEIT   \n",
       "104734        KWH   NaN            NaN              51.0       FAHRENHEIT   \n",
       "104735        KWH   NaN            NaN              51.0       FAHRENHEIT   \n",
       "\n",
       "       Event Flags  Peak Demand Demand Unit month day_of_week  holiday  \n",
       "104726         NaN       1136.0          KW   Jan   Wednesday    False  \n",
       "104727         NaN       1155.2          KW   Jan   Wednesday    False  \n",
       "104728         NaN       1206.4          KW   Jan   Wednesday    False  \n",
       "104729         NaN       1120.0          KW   Jan   Wednesday    False  \n",
       "104730         NaN       1187.2          KW   Jan   Wednesday    False  \n",
       "104731         NaN       1129.6          KW   Jan   Wednesday    False  \n",
       "104732         NaN       1155.2          KW   Jan   Wednesday    False  \n",
       "104733         NaN       1158.4          KW   Jan   Wednesday    False  \n",
       "104734         NaN       1177.6          KW   Jan   Wednesday    False  \n",
       "104735         NaN       1161.6          KW   Jan    Thursday    False  "
      ]
     },
     "execution_count": 128,
     "metadata": {},
     "output_type": "execute_result"
    }
   ],
   "source": [
    "power_data_west.tail(10)"
   ]
  },
  {
   "cell_type": "code",
   "execution_count": 129,
   "metadata": {},
   "outputs": [
    {
     "data": {
      "text/html": [
       "<div>\n",
       "<style scoped>\n",
       "    .dataframe tbody tr th:only-of-type {\n",
       "        vertical-align: middle;\n",
       "    }\n",
       "\n",
       "    .dataframe tbody tr th {\n",
       "        vertical-align: top;\n",
       "    }\n",
       "\n",
       "    .dataframe thead th {\n",
       "        text-align: right;\n",
       "    }\n",
       "</style>\n",
       "<table border=\"1\" class=\"dataframe\">\n",
       "  <thead>\n",
       "    <tr style=\"text-align: right;\">\n",
       "      <th></th>\n",
       "      <th>Usage</th>\n",
       "      <th>Cost</th>\n",
       "      <th>Currency Unit</th>\n",
       "      <th>Avg. Temperature</th>\n",
       "      <th>Peak Demand</th>\n",
       "    </tr>\n",
       "  </thead>\n",
       "  <tbody>\n",
       "    <tr>\n",
       "      <th>count</th>\n",
       "      <td>104724.000000</td>\n",
       "      <td>0.0</td>\n",
       "      <td>0.0</td>\n",
       "      <td>104716.000000</td>\n",
       "      <td>104724.000000</td>\n",
       "    </tr>\n",
       "    <tr>\n",
       "      <th>mean</th>\n",
       "      <td>309.636443</td>\n",
       "      <td>NaN</td>\n",
       "      <td>NaN</td>\n",
       "      <td>67.377211</td>\n",
       "      <td>1238.545770</td>\n",
       "    </tr>\n",
       "    <tr>\n",
       "      <th>std</th>\n",
       "      <td>75.557612</td>\n",
       "      <td>NaN</td>\n",
       "      <td>NaN</td>\n",
       "      <td>16.591545</td>\n",
       "      <td>302.230457</td>\n",
       "    </tr>\n",
       "    <tr>\n",
       "      <th>min</th>\n",
       "      <td>0.000000</td>\n",
       "      <td>NaN</td>\n",
       "      <td>NaN</td>\n",
       "      <td>29.000000</td>\n",
       "      <td>0.000000</td>\n",
       "    </tr>\n",
       "    <tr>\n",
       "      <th>25%</th>\n",
       "      <td>252.000000</td>\n",
       "      <td>NaN</td>\n",
       "      <td>NaN</td>\n",
       "      <td>54.000000</td>\n",
       "      <td>1008.000000</td>\n",
       "    </tr>\n",
       "    <tr>\n",
       "      <th>50%</th>\n",
       "      <td>308.000000</td>\n",
       "      <td>NaN</td>\n",
       "      <td>NaN</td>\n",
       "      <td>66.000000</td>\n",
       "      <td>1232.000000</td>\n",
       "    </tr>\n",
       "    <tr>\n",
       "      <th>75%</th>\n",
       "      <td>368.000000</td>\n",
       "      <td>NaN</td>\n",
       "      <td>NaN</td>\n",
       "      <td>79.000000</td>\n",
       "      <td>1472.000000</td>\n",
       "    </tr>\n",
       "    <tr>\n",
       "      <th>max</th>\n",
       "      <td>531.200000</td>\n",
       "      <td>NaN</td>\n",
       "      <td>NaN</td>\n",
       "      <td>114.000000</td>\n",
       "      <td>2124.800000</td>\n",
       "    </tr>\n",
       "  </tbody>\n",
       "</table>\n",
       "</div>"
      ],
      "text/plain": [
       "               Usage  Cost  Currency Unit  Avg. Temperature    Peak Demand\n",
       "count  104724.000000   0.0            0.0     104716.000000  104724.000000\n",
       "mean      309.636443   NaN            NaN         67.377211    1238.545770\n",
       "std        75.557612   NaN            NaN         16.591545     302.230457\n",
       "min         0.000000   NaN            NaN         29.000000       0.000000\n",
       "25%       252.000000   NaN            NaN         54.000000    1008.000000\n",
       "50%       308.000000   NaN            NaN         66.000000    1232.000000\n",
       "75%       368.000000   NaN            NaN         79.000000    1472.000000\n",
       "max       531.200000   NaN            NaN        114.000000    2124.800000"
      ]
     },
     "execution_count": 129,
     "metadata": {},
     "output_type": "execute_result"
    }
   ],
   "source": [
    "power_data_west.describe()"
   ]
  },
  {
   "cell_type": "code",
   "execution_count": 130,
   "metadata": {},
   "outputs": [
    {
     "data": {
      "text/plain": [
       "(104736, 15)"
      ]
     },
     "execution_count": 130,
     "metadata": {},
     "output_type": "execute_result"
    }
   ],
   "source": [
    "power_data_west.shape"
   ]
  },
  {
   "cell_type": "code",
   "execution_count": 131,
   "metadata": {},
   "outputs": [
    {
     "data": {
      "text/plain": [
       "Service Agreement            object\n",
       "Start Date Time              object\n",
       "End Date Time        datetime64[ns]\n",
       "Usage                       float64\n",
       "Usage Unit                   object\n",
       "Cost                        float64\n",
       "Currency Unit               float64\n",
       "Avg. Temperature            float64\n",
       "Temperature Unit             object\n",
       "Event Flags                  object\n",
       "Peak Demand                 float64\n",
       "Demand Unit                  object\n",
       "month                        object\n",
       "day_of_week                  object\n",
       "holiday                        bool\n",
       "dtype: object"
      ]
     },
     "execution_count": 131,
     "metadata": {},
     "output_type": "execute_result"
    }
   ],
   "source": [
    "power_data_west.dtypes"
   ]
  },
  {
   "cell_type": "code",
   "execution_count": 132,
   "metadata": {},
   "outputs": [
    {
     "data": {
      "text/plain": [
       "Service Agreement         0\n",
       "Start Date Time           0\n",
       "End Date Time             0\n",
       "Usage                    12\n",
       "Usage Unit               12\n",
       "Cost                 104736\n",
       "Currency Unit        104736\n",
       "Avg. Temperature         20\n",
       "Temperature Unit          0\n",
       "Event Flags          104730\n",
       "Peak Demand              12\n",
       "Demand Unit              12\n",
       "month                     0\n",
       "day_of_week               0\n",
       "holiday                   0\n",
       "dtype: int64"
      ]
     },
     "execution_count": 132,
     "metadata": {},
     "output_type": "execute_result"
    }
   ],
   "source": [
    "#For checking missing values in dataset\n",
    "power_data_west.isna().sum()"
   ]
  },
  {
   "cell_type": "code",
   "execution_count": 133,
   "metadata": {},
   "outputs": [
    {
     "data": {
      "text/plain": [
       "Service Agreement         0\n",
       "Start Date Time           0\n",
       "End Date Time             0\n",
       "Usage                     0\n",
       "Usage Unit                0\n",
       "Cost                 104736\n",
       "Currency Unit        104736\n",
       "Avg. Temperature          0\n",
       "Temperature Unit          0\n",
       "Event Flags            3840\n",
       "Peak Demand               0\n",
       "Demand Unit               0\n",
       "month                     0\n",
       "day_of_week               0\n",
       "holiday                   0\n",
       "dtype: int64"
      ]
     },
     "execution_count": 133,
     "metadata": {},
     "output_type": "execute_result"
    }
   ],
   "source": [
    "power_data_west.fillna(method='ffill',inplace=True)\n",
    "power_data_west.isna().sum()"
   ]
  },
  {
   "cell_type": "code",
   "execution_count": 134,
   "metadata": {},
   "outputs": [
    {
     "data": {
      "text/plain": [
       "Service Agreement    50\n",
       "Start Date Time      50\n",
       "End Date Time        50\n",
       "Usage                50\n",
       "Usage Unit           50\n",
       "Cost                  0\n",
       "Currency Unit         0\n",
       "Avg. Temperature     50\n",
       "Temperature Unit     50\n",
       "Event Flags          50\n",
       "Peak Demand          50\n",
       "Demand Unit          50\n",
       "month                50\n",
       "day_of_week          50\n",
       "holiday              50\n",
       "dtype: int64"
      ]
     },
     "execution_count": 134,
     "metadata": {},
     "output_type": "execute_result"
    }
   ],
   "source": [
    "zero_usage_df = power_data_west.loc[power_data_west['Peak Demand'] == 0]\n",
    "zero_usage_df.count()"
   ]
  },
  {
   "cell_type": "markdown",
   "metadata": {},
   "source": [
    "dataset.kW.plot()"
   ]
  },
  {
   "cell_type": "markdown",
   "metadata": {},
   "source": [
    "## LSTM Timeseries Model"
   ]
  },
  {
   "cell_type": "code",
   "execution_count": 135,
   "metadata": {},
   "outputs": [],
   "source": [
    "lstm_data = power_data_west[(power_data_west['End Date Time'] > '2019-01-01') & (power_data_west['End Date Time'] < '2022-02-01')]"
   ]
  },
  {
   "cell_type": "code",
   "execution_count": 136,
   "metadata": {},
   "outputs": [
    {
     "data": {
      "text/html": [
       "<div>\n",
       "<style scoped>\n",
       "    .dataframe tbody tr th:only-of-type {\n",
       "        vertical-align: middle;\n",
       "    }\n",
       "\n",
       "    .dataframe tbody tr th {\n",
       "        vertical-align: top;\n",
       "    }\n",
       "\n",
       "    .dataframe thead th {\n",
       "        text-align: right;\n",
       "    }\n",
       "</style>\n",
       "<table border=\"1\" class=\"dataframe\">\n",
       "  <thead>\n",
       "    <tr style=\"text-align: right;\">\n",
       "      <th></th>\n",
       "      <th>Service Agreement</th>\n",
       "      <th>Start Date Time</th>\n",
       "      <th>End Date Time</th>\n",
       "      <th>Usage</th>\n",
       "      <th>Usage Unit</th>\n",
       "      <th>Cost</th>\n",
       "      <th>Currency Unit</th>\n",
       "      <th>Avg. Temperature</th>\n",
       "      <th>Temperature Unit</th>\n",
       "      <th>Event Flags</th>\n",
       "      <th>Peak Demand</th>\n",
       "      <th>Demand Unit</th>\n",
       "      <th>month</th>\n",
       "      <th>day_of_week</th>\n",
       "      <th>holiday</th>\n",
       "    </tr>\n",
       "  </thead>\n",
       "  <tbody>\n",
       "    <tr>\n",
       "      <th>0</th>\n",
       "      <td>west</td>\n",
       "      <td>1/29/19 0:00</td>\n",
       "      <td>2019-01-29 00:15:00</td>\n",
       "      <td>211.2</td>\n",
       "      <td>KWH</td>\n",
       "      <td>NaN</td>\n",
       "      <td>NaN</td>\n",
       "      <td>54.0</td>\n",
       "      <td>FAHRENHEIT</td>\n",
       "      <td>NaN</td>\n",
       "      <td>844.8</td>\n",
       "      <td>KW</td>\n",
       "      <td>Jan</td>\n",
       "      <td>Tuesday</td>\n",
       "      <td>False</td>\n",
       "    </tr>\n",
       "    <tr>\n",
       "      <th>1</th>\n",
       "      <td>west</td>\n",
       "      <td>1/29/19 0:15</td>\n",
       "      <td>2019-01-29 00:30:00</td>\n",
       "      <td>210.4</td>\n",
       "      <td>KWH</td>\n",
       "      <td>NaN</td>\n",
       "      <td>NaN</td>\n",
       "      <td>54.0</td>\n",
       "      <td>FAHRENHEIT</td>\n",
       "      <td>NaN</td>\n",
       "      <td>841.6</td>\n",
       "      <td>KW</td>\n",
       "      <td>Jan</td>\n",
       "      <td>Tuesday</td>\n",
       "      <td>False</td>\n",
       "    </tr>\n",
       "    <tr>\n",
       "      <th>2</th>\n",
       "      <td>west</td>\n",
       "      <td>1/29/19 0:30</td>\n",
       "      <td>2019-01-29 00:45:00</td>\n",
       "      <td>208.0</td>\n",
       "      <td>KWH</td>\n",
       "      <td>NaN</td>\n",
       "      <td>NaN</td>\n",
       "      <td>54.0</td>\n",
       "      <td>FAHRENHEIT</td>\n",
       "      <td>NaN</td>\n",
       "      <td>832.0</td>\n",
       "      <td>KW</td>\n",
       "      <td>Jan</td>\n",
       "      <td>Tuesday</td>\n",
       "      <td>False</td>\n",
       "    </tr>\n",
       "    <tr>\n",
       "      <th>3</th>\n",
       "      <td>west</td>\n",
       "      <td>1/29/19 0:45</td>\n",
       "      <td>2019-01-29 01:00:00</td>\n",
       "      <td>212.0</td>\n",
       "      <td>KWH</td>\n",
       "      <td>NaN</td>\n",
       "      <td>NaN</td>\n",
       "      <td>54.0</td>\n",
       "      <td>FAHRENHEIT</td>\n",
       "      <td>NaN</td>\n",
       "      <td>848.0</td>\n",
       "      <td>KW</td>\n",
       "      <td>Jan</td>\n",
       "      <td>Tuesday</td>\n",
       "      <td>False</td>\n",
       "    </tr>\n",
       "    <tr>\n",
       "      <th>4</th>\n",
       "      <td>west</td>\n",
       "      <td>1/29/19 1:00</td>\n",
       "      <td>2019-01-29 01:15:00</td>\n",
       "      <td>203.2</td>\n",
       "      <td>KWH</td>\n",
       "      <td>NaN</td>\n",
       "      <td>NaN</td>\n",
       "      <td>55.0</td>\n",
       "      <td>FAHRENHEIT</td>\n",
       "      <td>NaN</td>\n",
       "      <td>812.8</td>\n",
       "      <td>KW</td>\n",
       "      <td>Jan</td>\n",
       "      <td>Tuesday</td>\n",
       "      <td>False</td>\n",
       "    </tr>\n",
       "    <tr>\n",
       "      <th>5</th>\n",
       "      <td>west</td>\n",
       "      <td>1/29/19 1:15</td>\n",
       "      <td>2019-01-29 01:30:00</td>\n",
       "      <td>205.6</td>\n",
       "      <td>KWH</td>\n",
       "      <td>NaN</td>\n",
       "      <td>NaN</td>\n",
       "      <td>55.0</td>\n",
       "      <td>FAHRENHEIT</td>\n",
       "      <td>NaN</td>\n",
       "      <td>822.4</td>\n",
       "      <td>KW</td>\n",
       "      <td>Jan</td>\n",
       "      <td>Tuesday</td>\n",
       "      <td>False</td>\n",
       "    </tr>\n",
       "    <tr>\n",
       "      <th>6</th>\n",
       "      <td>west</td>\n",
       "      <td>1/29/19 1:30</td>\n",
       "      <td>2019-01-29 01:45:00</td>\n",
       "      <td>205.6</td>\n",
       "      <td>KWH</td>\n",
       "      <td>NaN</td>\n",
       "      <td>NaN</td>\n",
       "      <td>55.0</td>\n",
       "      <td>FAHRENHEIT</td>\n",
       "      <td>NaN</td>\n",
       "      <td>822.4</td>\n",
       "      <td>KW</td>\n",
       "      <td>Jan</td>\n",
       "      <td>Tuesday</td>\n",
       "      <td>False</td>\n",
       "    </tr>\n",
       "    <tr>\n",
       "      <th>7</th>\n",
       "      <td>west</td>\n",
       "      <td>1/29/19 1:45</td>\n",
       "      <td>2019-01-29 02:00:00</td>\n",
       "      <td>208.8</td>\n",
       "      <td>KWH</td>\n",
       "      <td>NaN</td>\n",
       "      <td>NaN</td>\n",
       "      <td>55.0</td>\n",
       "      <td>FAHRENHEIT</td>\n",
       "      <td>NaN</td>\n",
       "      <td>835.2</td>\n",
       "      <td>KW</td>\n",
       "      <td>Jan</td>\n",
       "      <td>Tuesday</td>\n",
       "      <td>False</td>\n",
       "    </tr>\n",
       "    <tr>\n",
       "      <th>8</th>\n",
       "      <td>west</td>\n",
       "      <td>1/29/19 2:00</td>\n",
       "      <td>2019-01-29 02:15:00</td>\n",
       "      <td>217.6</td>\n",
       "      <td>KWH</td>\n",
       "      <td>NaN</td>\n",
       "      <td>NaN</td>\n",
       "      <td>55.0</td>\n",
       "      <td>FAHRENHEIT</td>\n",
       "      <td>NaN</td>\n",
       "      <td>870.4</td>\n",
       "      <td>KW</td>\n",
       "      <td>Jan</td>\n",
       "      <td>Tuesday</td>\n",
       "      <td>False</td>\n",
       "    </tr>\n",
       "    <tr>\n",
       "      <th>9</th>\n",
       "      <td>west</td>\n",
       "      <td>1/29/19 2:15</td>\n",
       "      <td>2019-01-29 02:30:00</td>\n",
       "      <td>229.6</td>\n",
       "      <td>KWH</td>\n",
       "      <td>NaN</td>\n",
       "      <td>NaN</td>\n",
       "      <td>55.0</td>\n",
       "      <td>FAHRENHEIT</td>\n",
       "      <td>NaN</td>\n",
       "      <td>918.4</td>\n",
       "      <td>KW</td>\n",
       "      <td>Jan</td>\n",
       "      <td>Tuesday</td>\n",
       "      <td>False</td>\n",
       "    </tr>\n",
       "  </tbody>\n",
       "</table>\n",
       "</div>"
      ],
      "text/plain": [
       "  Service Agreement Start Date Time       End Date Time  Usage Usage Unit  \\\n",
       "0              west    1/29/19 0:00 2019-01-29 00:15:00  211.2        KWH   \n",
       "1              west    1/29/19 0:15 2019-01-29 00:30:00  210.4        KWH   \n",
       "2              west    1/29/19 0:30 2019-01-29 00:45:00  208.0        KWH   \n",
       "3              west    1/29/19 0:45 2019-01-29 01:00:00  212.0        KWH   \n",
       "4              west    1/29/19 1:00 2019-01-29 01:15:00  203.2        KWH   \n",
       "5              west    1/29/19 1:15 2019-01-29 01:30:00  205.6        KWH   \n",
       "6              west    1/29/19 1:30 2019-01-29 01:45:00  205.6        KWH   \n",
       "7              west    1/29/19 1:45 2019-01-29 02:00:00  208.8        KWH   \n",
       "8              west    1/29/19 2:00 2019-01-29 02:15:00  217.6        KWH   \n",
       "9              west    1/29/19 2:15 2019-01-29 02:30:00  229.6        KWH   \n",
       "\n",
       "   Cost  Currency Unit  Avg. Temperature Temperature Unit Event Flags  \\\n",
       "0   NaN            NaN              54.0       FAHRENHEIT         NaN   \n",
       "1   NaN            NaN              54.0       FAHRENHEIT         NaN   \n",
       "2   NaN            NaN              54.0       FAHRENHEIT         NaN   \n",
       "3   NaN            NaN              54.0       FAHRENHEIT         NaN   \n",
       "4   NaN            NaN              55.0       FAHRENHEIT         NaN   \n",
       "5   NaN            NaN              55.0       FAHRENHEIT         NaN   \n",
       "6   NaN            NaN              55.0       FAHRENHEIT         NaN   \n",
       "7   NaN            NaN              55.0       FAHRENHEIT         NaN   \n",
       "8   NaN            NaN              55.0       FAHRENHEIT         NaN   \n",
       "9   NaN            NaN              55.0       FAHRENHEIT         NaN   \n",
       "\n",
       "   Peak Demand Demand Unit month day_of_week  holiday  \n",
       "0        844.8          KW   Jan     Tuesday    False  \n",
       "1        841.6          KW   Jan     Tuesday    False  \n",
       "2        832.0          KW   Jan     Tuesday    False  \n",
       "3        848.0          KW   Jan     Tuesday    False  \n",
       "4        812.8          KW   Jan     Tuesday    False  \n",
       "5        822.4          KW   Jan     Tuesday    False  \n",
       "6        822.4          KW   Jan     Tuesday    False  \n",
       "7        835.2          KW   Jan     Tuesday    False  \n",
       "8        870.4          KW   Jan     Tuesday    False  \n",
       "9        918.4          KW   Jan     Tuesday    False  "
      ]
     },
     "execution_count": 136,
     "metadata": {},
     "output_type": "execute_result"
    }
   ],
   "source": [
    "lstm_data.head(10)"
   ]
  },
  {
   "cell_type": "code",
   "execution_count": 137,
   "metadata": {},
   "outputs": [
    {
     "data": {
      "text/html": [
       "<div>\n",
       "<style scoped>\n",
       "    .dataframe tbody tr th:only-of-type {\n",
       "        vertical-align: middle;\n",
       "    }\n",
       "\n",
       "    .dataframe tbody tr th {\n",
       "        vertical-align: top;\n",
       "    }\n",
       "\n",
       "    .dataframe thead th {\n",
       "        text-align: right;\n",
       "    }\n",
       "</style>\n",
       "<table border=\"1\" class=\"dataframe\">\n",
       "  <thead>\n",
       "    <tr style=\"text-align: right;\">\n",
       "      <th></th>\n",
       "      <th>Service Agreement</th>\n",
       "      <th>Start Date Time</th>\n",
       "      <th>End Date Time</th>\n",
       "      <th>Usage</th>\n",
       "      <th>Usage Unit</th>\n",
       "      <th>Cost</th>\n",
       "      <th>Currency Unit</th>\n",
       "      <th>Avg. Temperature</th>\n",
       "      <th>Temperature Unit</th>\n",
       "      <th>Event Flags</th>\n",
       "      <th>Peak Demand</th>\n",
       "      <th>Demand Unit</th>\n",
       "      <th>month</th>\n",
       "      <th>day_of_week</th>\n",
       "      <th>holiday</th>\n",
       "    </tr>\n",
       "  </thead>\n",
       "  <tbody>\n",
       "    <tr>\n",
       "      <th>104726</th>\n",
       "      <td>west</td>\n",
       "      <td>1/26/22 21:30</td>\n",
       "      <td>2022-01-26 21:45:00</td>\n",
       "      <td>284.0</td>\n",
       "      <td>KWH</td>\n",
       "      <td>NaN</td>\n",
       "      <td>NaN</td>\n",
       "      <td>52.0</td>\n",
       "      <td>FAHRENHEIT</td>\n",
       "      <td>Daylight Savings</td>\n",
       "      <td>1136.0</td>\n",
       "      <td>KW</td>\n",
       "      <td>Jan</td>\n",
       "      <td>Wednesday</td>\n",
       "      <td>False</td>\n",
       "    </tr>\n",
       "    <tr>\n",
       "      <th>104727</th>\n",
       "      <td>west</td>\n",
       "      <td>1/26/22 21:45</td>\n",
       "      <td>2022-01-26 22:00:00</td>\n",
       "      <td>288.8</td>\n",
       "      <td>KWH</td>\n",
       "      <td>NaN</td>\n",
       "      <td>NaN</td>\n",
       "      <td>52.0</td>\n",
       "      <td>FAHRENHEIT</td>\n",
       "      <td>Daylight Savings</td>\n",
       "      <td>1155.2</td>\n",
       "      <td>KW</td>\n",
       "      <td>Jan</td>\n",
       "      <td>Wednesday</td>\n",
       "      <td>False</td>\n",
       "    </tr>\n",
       "    <tr>\n",
       "      <th>104728</th>\n",
       "      <td>west</td>\n",
       "      <td>1/26/22 22:00</td>\n",
       "      <td>2022-01-26 22:15:00</td>\n",
       "      <td>301.6</td>\n",
       "      <td>KWH</td>\n",
       "      <td>NaN</td>\n",
       "      <td>NaN</td>\n",
       "      <td>51.0</td>\n",
       "      <td>FAHRENHEIT</td>\n",
       "      <td>Daylight Savings</td>\n",
       "      <td>1206.4</td>\n",
       "      <td>KW</td>\n",
       "      <td>Jan</td>\n",
       "      <td>Wednesday</td>\n",
       "      <td>False</td>\n",
       "    </tr>\n",
       "    <tr>\n",
       "      <th>104729</th>\n",
       "      <td>west</td>\n",
       "      <td>1/26/22 22:15</td>\n",
       "      <td>2022-01-26 22:30:00</td>\n",
       "      <td>280.0</td>\n",
       "      <td>KWH</td>\n",
       "      <td>NaN</td>\n",
       "      <td>NaN</td>\n",
       "      <td>51.0</td>\n",
       "      <td>FAHRENHEIT</td>\n",
       "      <td>Daylight Savings</td>\n",
       "      <td>1120.0</td>\n",
       "      <td>KW</td>\n",
       "      <td>Jan</td>\n",
       "      <td>Wednesday</td>\n",
       "      <td>False</td>\n",
       "    </tr>\n",
       "    <tr>\n",
       "      <th>104730</th>\n",
       "      <td>west</td>\n",
       "      <td>1/26/22 22:30</td>\n",
       "      <td>2022-01-26 22:45:00</td>\n",
       "      <td>296.8</td>\n",
       "      <td>KWH</td>\n",
       "      <td>NaN</td>\n",
       "      <td>NaN</td>\n",
       "      <td>51.0</td>\n",
       "      <td>FAHRENHEIT</td>\n",
       "      <td>Daylight Savings</td>\n",
       "      <td>1187.2</td>\n",
       "      <td>KW</td>\n",
       "      <td>Jan</td>\n",
       "      <td>Wednesday</td>\n",
       "      <td>False</td>\n",
       "    </tr>\n",
       "    <tr>\n",
       "      <th>104731</th>\n",
       "      <td>west</td>\n",
       "      <td>1/26/22 22:45</td>\n",
       "      <td>2022-01-26 23:00:00</td>\n",
       "      <td>282.4</td>\n",
       "      <td>KWH</td>\n",
       "      <td>NaN</td>\n",
       "      <td>NaN</td>\n",
       "      <td>51.0</td>\n",
       "      <td>FAHRENHEIT</td>\n",
       "      <td>Daylight Savings</td>\n",
       "      <td>1129.6</td>\n",
       "      <td>KW</td>\n",
       "      <td>Jan</td>\n",
       "      <td>Wednesday</td>\n",
       "      <td>False</td>\n",
       "    </tr>\n",
       "    <tr>\n",
       "      <th>104732</th>\n",
       "      <td>west</td>\n",
       "      <td>1/26/22 23:00</td>\n",
       "      <td>2022-01-26 23:15:00</td>\n",
       "      <td>288.8</td>\n",
       "      <td>KWH</td>\n",
       "      <td>NaN</td>\n",
       "      <td>NaN</td>\n",
       "      <td>51.0</td>\n",
       "      <td>FAHRENHEIT</td>\n",
       "      <td>Daylight Savings</td>\n",
       "      <td>1155.2</td>\n",
       "      <td>KW</td>\n",
       "      <td>Jan</td>\n",
       "      <td>Wednesday</td>\n",
       "      <td>False</td>\n",
       "    </tr>\n",
       "    <tr>\n",
       "      <th>104733</th>\n",
       "      <td>west</td>\n",
       "      <td>1/26/22 23:15</td>\n",
       "      <td>2022-01-26 23:30:00</td>\n",
       "      <td>289.6</td>\n",
       "      <td>KWH</td>\n",
       "      <td>NaN</td>\n",
       "      <td>NaN</td>\n",
       "      <td>51.0</td>\n",
       "      <td>FAHRENHEIT</td>\n",
       "      <td>Daylight Savings</td>\n",
       "      <td>1158.4</td>\n",
       "      <td>KW</td>\n",
       "      <td>Jan</td>\n",
       "      <td>Wednesday</td>\n",
       "      <td>False</td>\n",
       "    </tr>\n",
       "    <tr>\n",
       "      <th>104734</th>\n",
       "      <td>west</td>\n",
       "      <td>1/26/22 23:30</td>\n",
       "      <td>2022-01-26 23:45:00</td>\n",
       "      <td>294.4</td>\n",
       "      <td>KWH</td>\n",
       "      <td>NaN</td>\n",
       "      <td>NaN</td>\n",
       "      <td>51.0</td>\n",
       "      <td>FAHRENHEIT</td>\n",
       "      <td>Daylight Savings</td>\n",
       "      <td>1177.6</td>\n",
       "      <td>KW</td>\n",
       "      <td>Jan</td>\n",
       "      <td>Wednesday</td>\n",
       "      <td>False</td>\n",
       "    </tr>\n",
       "    <tr>\n",
       "      <th>104735</th>\n",
       "      <td>west</td>\n",
       "      <td>1/26/22 23:45</td>\n",
       "      <td>2022-01-27 00:00:00</td>\n",
       "      <td>290.4</td>\n",
       "      <td>KWH</td>\n",
       "      <td>NaN</td>\n",
       "      <td>NaN</td>\n",
       "      <td>51.0</td>\n",
       "      <td>FAHRENHEIT</td>\n",
       "      <td>Daylight Savings</td>\n",
       "      <td>1161.6</td>\n",
       "      <td>KW</td>\n",
       "      <td>Jan</td>\n",
       "      <td>Thursday</td>\n",
       "      <td>False</td>\n",
       "    </tr>\n",
       "  </tbody>\n",
       "</table>\n",
       "</div>"
      ],
      "text/plain": [
       "       Service Agreement Start Date Time       End Date Time  Usage  \\\n",
       "104726              west   1/26/22 21:30 2022-01-26 21:45:00  284.0   \n",
       "104727              west   1/26/22 21:45 2022-01-26 22:00:00  288.8   \n",
       "104728              west   1/26/22 22:00 2022-01-26 22:15:00  301.6   \n",
       "104729              west   1/26/22 22:15 2022-01-26 22:30:00  280.0   \n",
       "104730              west   1/26/22 22:30 2022-01-26 22:45:00  296.8   \n",
       "104731              west   1/26/22 22:45 2022-01-26 23:00:00  282.4   \n",
       "104732              west   1/26/22 23:00 2022-01-26 23:15:00  288.8   \n",
       "104733              west   1/26/22 23:15 2022-01-26 23:30:00  289.6   \n",
       "104734              west   1/26/22 23:30 2022-01-26 23:45:00  294.4   \n",
       "104735              west   1/26/22 23:45 2022-01-27 00:00:00  290.4   \n",
       "\n",
       "       Usage Unit  Cost  Currency Unit  Avg. Temperature Temperature Unit  \\\n",
       "104726        KWH   NaN            NaN              52.0       FAHRENHEIT   \n",
       "104727        KWH   NaN            NaN              52.0       FAHRENHEIT   \n",
       "104728        KWH   NaN            NaN              51.0       FAHRENHEIT   \n",
       "104729        KWH   NaN            NaN              51.0       FAHRENHEIT   \n",
       "104730        KWH   NaN            NaN              51.0       FAHRENHEIT   \n",
       "104731        KWH   NaN            NaN              51.0       FAHRENHEIT   \n",
       "104732        KWH   NaN            NaN              51.0       FAHRENHEIT   \n",
       "104733        KWH   NaN            NaN              51.0       FAHRENHEIT   \n",
       "104734        KWH   NaN            NaN              51.0       FAHRENHEIT   \n",
       "104735        KWH   NaN            NaN              51.0       FAHRENHEIT   \n",
       "\n",
       "             Event Flags  Peak Demand Demand Unit month day_of_week  holiday  \n",
       "104726  Daylight Savings       1136.0          KW   Jan   Wednesday    False  \n",
       "104727  Daylight Savings       1155.2          KW   Jan   Wednesday    False  \n",
       "104728  Daylight Savings       1206.4          KW   Jan   Wednesday    False  \n",
       "104729  Daylight Savings       1120.0          KW   Jan   Wednesday    False  \n",
       "104730  Daylight Savings       1187.2          KW   Jan   Wednesday    False  \n",
       "104731  Daylight Savings       1129.6          KW   Jan   Wednesday    False  \n",
       "104732  Daylight Savings       1155.2          KW   Jan   Wednesday    False  \n",
       "104733  Daylight Savings       1158.4          KW   Jan   Wednesday    False  \n",
       "104734  Daylight Savings       1177.6          KW   Jan   Wednesday    False  \n",
       "104735  Daylight Savings       1161.6          KW   Jan    Thursday    False  "
      ]
     },
     "execution_count": 137,
     "metadata": {},
     "output_type": "execute_result"
    }
   ],
   "source": [
    "lstm_data.tail(10)"
   ]
  },
  {
   "cell_type": "code",
   "execution_count": 167,
   "metadata": {},
   "outputs": [],
   "source": [
    "lstm_data_mod = lstm_data[['Peak Demand', 'Avg. Temperature']].copy() "
   ]
  },
  {
   "cell_type": "code",
   "execution_count": 168,
   "metadata": {},
   "outputs": [
    {
     "data": {
      "text/html": [
       "<div>\n",
       "<style scoped>\n",
       "    .dataframe tbody tr th:only-of-type {\n",
       "        vertical-align: middle;\n",
       "    }\n",
       "\n",
       "    .dataframe tbody tr th {\n",
       "        vertical-align: top;\n",
       "    }\n",
       "\n",
       "    .dataframe thead th {\n",
       "        text-align: right;\n",
       "    }\n",
       "</style>\n",
       "<table border=\"1\" class=\"dataframe\">\n",
       "  <thead>\n",
       "    <tr style=\"text-align: right;\">\n",
       "      <th></th>\n",
       "      <th>Peak Demand</th>\n",
       "      <th>Avg. Temperature</th>\n",
       "    </tr>\n",
       "  </thead>\n",
       "  <tbody>\n",
       "    <tr>\n",
       "      <th>0</th>\n",
       "      <td>844.8</td>\n",
       "      <td>54.0</td>\n",
       "    </tr>\n",
       "    <tr>\n",
       "      <th>1</th>\n",
       "      <td>841.6</td>\n",
       "      <td>54.0</td>\n",
       "    </tr>\n",
       "    <tr>\n",
       "      <th>2</th>\n",
       "      <td>832.0</td>\n",
       "      <td>54.0</td>\n",
       "    </tr>\n",
       "    <tr>\n",
       "      <th>3</th>\n",
       "      <td>848.0</td>\n",
       "      <td>54.0</td>\n",
       "    </tr>\n",
       "    <tr>\n",
       "      <th>4</th>\n",
       "      <td>812.8</td>\n",
       "      <td>55.0</td>\n",
       "    </tr>\n",
       "    <tr>\n",
       "      <th>5</th>\n",
       "      <td>822.4</td>\n",
       "      <td>55.0</td>\n",
       "    </tr>\n",
       "    <tr>\n",
       "      <th>6</th>\n",
       "      <td>822.4</td>\n",
       "      <td>55.0</td>\n",
       "    </tr>\n",
       "    <tr>\n",
       "      <th>7</th>\n",
       "      <td>835.2</td>\n",
       "      <td>55.0</td>\n",
       "    </tr>\n",
       "    <tr>\n",
       "      <th>8</th>\n",
       "      <td>870.4</td>\n",
       "      <td>55.0</td>\n",
       "    </tr>\n",
       "    <tr>\n",
       "      <th>9</th>\n",
       "      <td>918.4</td>\n",
       "      <td>55.0</td>\n",
       "    </tr>\n",
       "  </tbody>\n",
       "</table>\n",
       "</div>"
      ],
      "text/plain": [
       "   Peak Demand  Avg. Temperature\n",
       "0        844.8              54.0\n",
       "1        841.6              54.0\n",
       "2        832.0              54.0\n",
       "3        848.0              54.0\n",
       "4        812.8              55.0\n",
       "5        822.4              55.0\n",
       "6        822.4              55.0\n",
       "7        835.2              55.0\n",
       "8        870.4              55.0\n",
       "9        918.4              55.0"
      ]
     },
     "execution_count": 168,
     "metadata": {},
     "output_type": "execute_result"
    }
   ],
   "source": [
    "lstm_data_mod.head(10)"
   ]
  },
  {
   "cell_type": "code",
   "execution_count": 169,
   "metadata": {},
   "outputs": [
    {
     "data": {
      "text/html": [
       "<div>\n",
       "<style scoped>\n",
       "    .dataframe tbody tr th:only-of-type {\n",
       "        vertical-align: middle;\n",
       "    }\n",
       "\n",
       "    .dataframe tbody tr th {\n",
       "        vertical-align: top;\n",
       "    }\n",
       "\n",
       "    .dataframe thead th {\n",
       "        text-align: right;\n",
       "    }\n",
       "</style>\n",
       "<table border=\"1\" class=\"dataframe\">\n",
       "  <thead>\n",
       "    <tr style=\"text-align: right;\">\n",
       "      <th></th>\n",
       "      <th>Peak Demand</th>\n",
       "      <th>Avg. Temperature</th>\n",
       "    </tr>\n",
       "  </thead>\n",
       "  <tbody>\n",
       "    <tr>\n",
       "      <th>104726</th>\n",
       "      <td>1136.0</td>\n",
       "      <td>52.0</td>\n",
       "    </tr>\n",
       "    <tr>\n",
       "      <th>104727</th>\n",
       "      <td>1155.2</td>\n",
       "      <td>52.0</td>\n",
       "    </tr>\n",
       "    <tr>\n",
       "      <th>104728</th>\n",
       "      <td>1206.4</td>\n",
       "      <td>51.0</td>\n",
       "    </tr>\n",
       "    <tr>\n",
       "      <th>104729</th>\n",
       "      <td>1120.0</td>\n",
       "      <td>51.0</td>\n",
       "    </tr>\n",
       "    <tr>\n",
       "      <th>104730</th>\n",
       "      <td>1187.2</td>\n",
       "      <td>51.0</td>\n",
       "    </tr>\n",
       "    <tr>\n",
       "      <th>104731</th>\n",
       "      <td>1129.6</td>\n",
       "      <td>51.0</td>\n",
       "    </tr>\n",
       "    <tr>\n",
       "      <th>104732</th>\n",
       "      <td>1155.2</td>\n",
       "      <td>51.0</td>\n",
       "    </tr>\n",
       "    <tr>\n",
       "      <th>104733</th>\n",
       "      <td>1158.4</td>\n",
       "      <td>51.0</td>\n",
       "    </tr>\n",
       "    <tr>\n",
       "      <th>104734</th>\n",
       "      <td>1177.6</td>\n",
       "      <td>51.0</td>\n",
       "    </tr>\n",
       "    <tr>\n",
       "      <th>104735</th>\n",
       "      <td>1161.6</td>\n",
       "      <td>51.0</td>\n",
       "    </tr>\n",
       "  </tbody>\n",
       "</table>\n",
       "</div>"
      ],
      "text/plain": [
       "        Peak Demand  Avg. Temperature\n",
       "104726       1136.0              52.0\n",
       "104727       1155.2              52.0\n",
       "104728       1206.4              51.0\n",
       "104729       1120.0              51.0\n",
       "104730       1187.2              51.0\n",
       "104731       1129.6              51.0\n",
       "104732       1155.2              51.0\n",
       "104733       1158.4              51.0\n",
       "104734       1177.6              51.0\n",
       "104735       1161.6              51.0"
      ]
     },
     "execution_count": 169,
     "metadata": {},
     "output_type": "execute_result"
    }
   ],
   "source": [
    "lstm_data_mod.tail(10)"
   ]
  },
  {
   "cell_type": "code",
   "execution_count": 170,
   "metadata": {},
   "outputs": [
    {
     "data": {
      "text/plain": [
       "array([[0.39759034, 0.29411766],\n",
       "       [0.3960843 , 0.29411766],\n",
       "       [0.39156625, 0.29411766],\n",
       "       ...,\n",
       "       [0.54518074, 0.25882354],\n",
       "       [0.55421686, 0.25882354],\n",
       "       [0.5466867 , 0.25882354]], dtype=float32)"
      ]
     },
     "execution_count": 170,
     "metadata": {},
     "output_type": "execute_result"
    }
   ],
   "source": [
    "# prepare data for lstm\n",
    "from pandas import read_csv\n",
    "from pandas import DataFrame\n",
    "from pandas import concat\n",
    "from sklearn.preprocessing import LabelEncoder\n",
    "from sklearn.preprocessing import MinMaxScaler\n",
    "\n",
    "# convert series to supervised learning\n",
    "def trasform_to_lstm_format(data, n_in=1, n_out=1, dropnan=True):\n",
    "    n_vars = 1 if type(data) is list else data.shape[1]\n",
    "    df = DataFrame(data)\n",
    "    cols, names = list(), list()\n",
    "    \n",
    "    # input sequence (t-n, ... t-1)\n",
    "    for i in range(n_in, 0, -1):\n",
    "        cols.append(df.shift(i))\n",
    "        names += [('var%d(t-%d)' % (j+1, i)) for j in range(n_vars)]\n",
    "        \n",
    "    # forecast sequence (t, t+1, ... t+n)\n",
    "    for i in range(0, n_out):\n",
    "        cols.append(df.shift(-i))\n",
    "        if i == 0:\n",
    "            names += [('var%d(t)' % (j+1)) for j in range(n_vars)]\n",
    "        else:\n",
    "            names += [('var%d(t+%d)' % (j+1, i)) for j in range(n_vars)]\n",
    "            \n",
    "    # put it all together\n",
    "    agg = concat(cols, axis=1)\n",
    "    agg.columns = names\n",
    "    # drop rows with NaN values\n",
    "    if dropnan:\n",
    "        agg.dropna(inplace=True)\n",
    "    return agg\n",
    "\n",
    "# load dataset\n",
    "\n",
    "values = lstm_data_mod.values\n",
    "\n",
    "# integer encode direction\n",
    "#encoder = LabelEncoder()\n",
    "#values[:,4] = encoder.fit_transform(values[:,4])\n",
    "# ensure all data is float\n",
    "values = values.astype('float32')\n",
    "\n",
    "# normalize features\n",
    "scaler = MinMaxScaler(feature_range=(0, 1))\n",
    "scaled = scaler.fit_transform(values)\n",
    "\n",
    "scaled"
   ]
  },
  {
   "cell_type": "code",
   "execution_count": 171,
   "metadata": {},
   "outputs": [
    {
     "name": "stdout",
     "output_type": "stream",
     "text": [
      "     var1(t-96)  var2(t-96)  var1(t-95)  var2(t-95)  var1(t-94)  var2(t-94)  \\\n",
      "96     0.397590    0.294118    0.396084    0.294118    0.391566    0.294118   \n",
      "97     0.396084    0.294118    0.391566    0.294118    0.399096    0.294118   \n",
      "98     0.391566    0.294118    0.399096    0.294118    0.382530    0.305882   \n",
      "99     0.399096    0.294118    0.382530    0.305882    0.387048    0.305882   \n",
      "100    0.382530    0.305882    0.387048    0.305882    0.387048    0.305882   \n",
      "\n",
      "     var1(t-93)  var2(t-93)  var1(t-92)  var2(t-92)  ...  var2(t-5)  \\\n",
      "96     0.399096    0.294118    0.382530    0.305882  ...   0.294118   \n",
      "97     0.382530    0.305882    0.387048    0.305882  ...   0.282353   \n",
      "98     0.387048    0.305882    0.387048    0.305882  ...   0.282353   \n",
      "99     0.387048    0.305882    0.393072    0.305882  ...   0.282353   \n",
      "100    0.393072    0.305882    0.409639    0.305882  ...   0.282353   \n",
      "\n",
      "     var1(t-4)  var2(t-4)  var1(t-3)  var2(t-3)  var1(t-2)  var2(t-2)  \\\n",
      "96    0.432229   0.282353   0.447289   0.282353   0.412651   0.282353   \n",
      "97    0.447289   0.282353   0.412651   0.282353   0.415663   0.282353   \n",
      "98    0.412651   0.282353   0.415663   0.282353   0.412651   0.258824   \n",
      "99    0.415663   0.282353   0.412651   0.258824   0.418675   0.258824   \n",
      "100   0.412651   0.258824   0.418675   0.258824   0.453313   0.258824   \n",
      "\n",
      "     var1(t-1)  var2(t-1)   var1(t)  \n",
      "96    0.415663   0.282353  0.412651  \n",
      "97    0.412651   0.258824  0.418675  \n",
      "98    0.418675   0.258824  0.453313  \n",
      "99    0.453313   0.258824  0.475904  \n",
      "100   0.475904   0.258824  0.460843  \n",
      "\n",
      "[5 rows x 193 columns]\n"
     ]
    }
   ],
   "source": [
    "# frame as supervised learning\n",
    "lstm_format = trasform_to_lstm_format(scaled, 96, 1)\n",
    "lstm_format = lstm_format.iloc[: , :-1]\n",
    "print(lstm_format.head())"
   ]
  },
  {
   "cell_type": "code",
   "execution_count": 172,
   "metadata": {},
   "outputs": [
    {
     "name": "stdout",
     "output_type": "stream",
     "text": [
      "(70080, 96, 2) (70080,) (34560, 96, 2) (34560,)\n"
     ]
    }
   ],
   "source": [
    "# split into train and test sets\n",
    "values = lstm_format.values\n",
    "n_train_hours = 2 * 365 * 24 * 4\n",
    "train = values[:n_train_hours, :]\n",
    "test = values[n_train_hours:, :]\n",
    "# split into input and outputs\n",
    "train_X, train_y = train[:, :-1], train[:, -1]\n",
    "#print(train_X.shape, train_y.shape)\n",
    "\n",
    "test_X, test_y = test[:, :-1], test[:, -1]\n",
    "#print(test_X.shape, test_y.shape)\n",
    "\n",
    "# reshape input to be 3D [samples, timesteps, features]\n",
    "train_X = train_X.reshape((train_X.shape[0], 96, 2))\n",
    "test_X = test_X.reshape((test_X.shape[0], 96, 2))\n",
    "print(train_X.shape, train_y.shape, test_X.shape, test_y.shape)"
   ]
  },
  {
   "cell_type": "code",
   "execution_count": 216,
   "metadata": {},
   "outputs": [
    {
     "name": "stdout",
     "output_type": "stream",
     "text": [
      "Epoch 1/50\n",
      "3504/3504 - 73s - loss: 0.0255 - val_loss: 0.0261 - 73s/epoch - 21ms/step\n",
      "Epoch 2/50\n",
      "3504/3504 - 66s - loss: 0.0167 - val_loss: 0.0206 - 66s/epoch - 19ms/step\n",
      "Epoch 3/50\n",
      "3504/3504 - 71s - loss: 0.0151 - val_loss: 0.0196 - 71s/epoch - 20ms/step\n",
      "Epoch 4/50\n",
      "3504/3504 - 62s - loss: 0.0148 - val_loss: 0.0194 - 62s/epoch - 18ms/step\n",
      "Epoch 5/50\n",
      "3504/3504 - 71s - loss: 0.0146 - val_loss: 0.0192 - 71s/epoch - 20ms/step\n",
      "Epoch 6/50\n",
      "3504/3504 - 65s - loss: 0.0143 - val_loss: 0.0191 - 65s/epoch - 19ms/step\n",
      "Epoch 7/50\n",
      "3504/3504 - 68s - loss: 0.0142 - val_loss: 0.0197 - 68s/epoch - 19ms/step\n",
      "Epoch 8/50\n",
      "3504/3504 - 67s - loss: 0.0141 - val_loss: 0.0197 - 67s/epoch - 19ms/step\n",
      "Epoch 9/50\n",
      "3504/3504 - 68s - loss: 0.0140 - val_loss: 0.0198 - 68s/epoch - 19ms/step\n",
      "Epoch 10/50\n",
      "3504/3504 - 70s - loss: 0.0140 - val_loss: 0.0199 - 70s/epoch - 20ms/step\n",
      "Epoch 11/50\n",
      "3504/3504 - 69s - loss: 0.0140 - val_loss: 0.0203 - 69s/epoch - 20ms/step\n",
      "Epoch 12/50\n",
      "3504/3504 - 69s - loss: 0.0139 - val_loss: 0.0206 - 69s/epoch - 20ms/step\n",
      "Epoch 13/50\n",
      "3504/3504 - 70s - loss: 0.0139 - val_loss: 0.0209 - 70s/epoch - 20ms/step\n",
      "Epoch 14/50\n",
      "3504/3504 - 69s - loss: 0.0139 - val_loss: 0.0208 - 69s/epoch - 20ms/step\n",
      "Epoch 15/50\n",
      "3504/3504 - 53s - loss: 0.0138 - val_loss: 0.0207 - 53s/epoch - 15ms/step\n",
      "Epoch 16/50\n",
      "3504/3504 - 53s - loss: 0.0138 - val_loss: 0.0205 - 53s/epoch - 15ms/step\n",
      "Epoch 17/50\n",
      "3504/3504 - 70s - loss: 0.0137 - val_loss: 0.0204 - 70s/epoch - 20ms/step\n",
      "Epoch 18/50\n",
      "3504/3504 - 68s - loss: 0.0137 - val_loss: 0.0199 - 68s/epoch - 19ms/step\n",
      "Epoch 19/50\n",
      "3504/3504 - 69s - loss: 0.0137 - val_loss: 0.0197 - 69s/epoch - 20ms/step\n",
      "Epoch 20/50\n",
      "3504/3504 - 66s - loss: 0.0137 - val_loss: 0.0197 - 66s/epoch - 19ms/step\n",
      "Epoch 21/50\n",
      "3504/3504 - 70s - loss: 0.0136 - val_loss: 0.0197 - 70s/epoch - 20ms/step\n",
      "Epoch 22/50\n",
      "3504/3504 - 70s - loss: 0.0136 - val_loss: 0.0197 - 70s/epoch - 20ms/step\n",
      "Epoch 23/50\n",
      "3504/3504 - 70s - loss: 0.0136 - val_loss: 0.0193 - 70s/epoch - 20ms/step\n",
      "Epoch 24/50\n",
      "3504/3504 - 71s - loss: 0.0135 - val_loss: 0.0190 - 71s/epoch - 20ms/step\n",
      "Epoch 25/50\n",
      "3504/3504 - 71s - loss: 0.0135 - val_loss: 0.0188 - 71s/epoch - 20ms/step\n",
      "Epoch 26/50\n",
      "3504/3504 - 58s - loss: 0.0135 - val_loss: 0.0190 - 58s/epoch - 17ms/step\n",
      "Epoch 27/50\n",
      "3504/3504 - 53s - loss: 0.0135 - val_loss: 0.0184 - 53s/epoch - 15ms/step\n",
      "Epoch 28/50\n",
      "3504/3504 - 53s - loss: 0.0135 - val_loss: 0.0183 - 53s/epoch - 15ms/step\n",
      "Epoch 29/50\n",
      "3504/3504 - 52s - loss: 0.0135 - val_loss: 0.0188 - 52s/epoch - 15ms/step\n",
      "Epoch 30/50\n",
      "3504/3504 - 53s - loss: 0.0135 - val_loss: 0.0187 - 53s/epoch - 15ms/step\n",
      "Epoch 31/50\n",
      "3504/3504 - 54s - loss: 0.0135 - val_loss: 0.0187 - 54s/epoch - 16ms/step\n",
      "Epoch 32/50\n",
      "3504/3504 - 58s - loss: 0.0135 - val_loss: 0.0192 - 58s/epoch - 16ms/step\n",
      "Epoch 33/50\n",
      "3504/3504 - 55s - loss: 0.0135 - val_loss: 0.0193 - 55s/epoch - 16ms/step\n",
      "Epoch 34/50\n",
      "3504/3504 - 53s - loss: 0.0135 - val_loss: 0.0192 - 53s/epoch - 15ms/step\n",
      "Epoch 35/50\n",
      "3504/3504 - 54s - loss: 0.0135 - val_loss: 0.0191 - 54s/epoch - 15ms/step\n",
      "Epoch 36/50\n",
      "3504/3504 - 58s - loss: 0.0135 - val_loss: 0.0194 - 58s/epoch - 17ms/step\n",
      "Epoch 37/50\n",
      "3504/3504 - 59s - loss: 0.0135 - val_loss: 0.0196 - 59s/epoch - 17ms/step\n",
      "Epoch 38/50\n",
      "3504/3504 - 55s - loss: 0.0157 - val_loss: 0.0184 - 55s/epoch - 16ms/step\n",
      "Epoch 39/50\n",
      "3504/3504 - 55s - loss: 0.0137 - val_loss: 0.0187 - 55s/epoch - 16ms/step\n",
      "Epoch 40/50\n",
      "3504/3504 - 58s - loss: 0.0135 - val_loss: 0.0196 - 58s/epoch - 16ms/step\n",
      "Epoch 41/50\n",
      "3504/3504 - 64s - loss: 0.0135 - val_loss: 0.0188 - 64s/epoch - 18ms/step\n",
      "Epoch 42/50\n",
      "3504/3504 - 66s - loss: 0.0135 - val_loss: 0.0186 - 66s/epoch - 19ms/step\n",
      "Epoch 43/50\n",
      "3504/3504 - 58s - loss: 0.0135 - val_loss: 0.0187 - 58s/epoch - 17ms/step\n",
      "Epoch 44/50\n",
      "3504/3504 - 71s - loss: 0.0135 - val_loss: 0.0188 - 71s/epoch - 20ms/step\n",
      "Epoch 45/50\n",
      "3504/3504 - 70s - loss: 0.0135 - val_loss: 0.0194 - 70s/epoch - 20ms/step\n",
      "Epoch 46/50\n",
      "3504/3504 - 70s - loss: 0.0135 - val_loss: 0.0189 - 70s/epoch - 20ms/step\n",
      "Epoch 47/50\n",
      "3504/3504 - 68s - loss: 0.0135 - val_loss: 0.0193 - 68s/epoch - 19ms/step\n",
      "Epoch 48/50\n",
      "3504/3504 - 65s - loss: 0.0135 - val_loss: 0.0196 - 65s/epoch - 18ms/step\n",
      "Epoch 49/50\n",
      "3504/3504 - 56s - loss: 0.0135 - val_loss: 0.0194 - 56s/epoch - 16ms/step\n",
      "Epoch 50/50\n",
      "3504/3504 - 54s - loss: 0.0135 - val_loss: 0.0195 - 54s/epoch - 15ms/step\n"
     ]
    }
   ],
   "source": [
    "import tensorflow as tf\n",
    "from tensorflow import keras\n",
    "import seaborn as sns\n",
    "from pylab import rcParams\n",
    "from matplotlib import rc\n",
    "\n",
    "# design network\n",
    "model = tf.keras.models.Sequential()\n",
    "model.add(tf.keras.layers.LSTM(50, input_shape=(train_X.shape[1], train_X.shape[2])))\n",
    "model.add(tf.keras.layers.Dense(1))\n",
    "model.compile(loss='mae', optimizer='adam')\n",
    "\n",
    "# fit network\n",
    "history = model.fit(train_X, train_y, epochs=50, batch_size=20, \n",
    "                    validation_data=(test_X, test_y), verbose=2, shuffle=False)"
   ]
  },
  {
   "cell_type": "code",
   "execution_count": 217,
   "metadata": {},
   "outputs": [
    {
     "data": {
      "image/png": "[encoded data removed]",
      "text/plain": [
       "<Figure size 1200x840 with 1 Axes>"
      ]
     },
     "metadata": {
      "needs_background": "light"
     },
     "output_type": "display_data"
    }
   ],
   "source": [
    "# plot history\n",
    "plt.plot(history.history['loss'], label='train')\n",
    "plt.plot(history.history['val_loss'], label='test')\n",
    "plt.legend()\n",
    "plt.show()"
   ]
  },
  {
   "cell_type": "code",
   "execution_count": 236,
   "metadata": {},
   "outputs": [
    {
     "name": "stderr",
     "output_type": "stream",
     "text": [
      "2022-02-20 00:33:48.140440: W tensorflow/python/util/util.cc:368] Sets are not currently considered sequences, but this may change in the future, so consider avoiding using them.\n",
      "WARNING:absl:Found untraced functions such as lstm_cell_9_layer_call_fn, lstm_cell_9_layer_call_and_return_conditional_losses while saving (showing 2 of 2). These functions will not be directly callable after loading.\n"
     ]
    },
    {
     "name": "stdout",
     "output_type": "stream",
     "text": [
      "INFO:tensorflow:Assets written to: ./lstm_modelv3/assets\n"
     ]
    },
    {
     "name": "stderr",
     "output_type": "stream",
     "text": [
      "INFO:tensorflow:Assets written to: ./lstm_modelv3/assets\n",
      "WARNING:absl:<keras.layers.recurrent.LSTMCell object at 0x16ae21c70> has the same name 'LSTMCell' as a built-in Keras object. Consider renaming <class 'keras.layers.recurrent.LSTMCell'> to avoid naming conflicts when loading with `tf.keras.models.load_model`. If renaming is not possible, pass the object in the `custom_objects` parameter of the load function.\n"
     ]
    }
   ],
   "source": [
    "model.save('./lstm_modelv3')"
   ]
  },
  {
   "cell_type": "code",
   "execution_count": 218,
   "metadata": {},
   "outputs": [
    {
     "name": "stdout",
     "output_type": "stream",
     "text": [
      "Running Prediction\n",
      "Done\n"
     ]
    }
   ],
   "source": [
    "# make a prediction\n",
    "print('Running Prediction')\n",
    "y_pred = model.predict(test_X)\n",
    "print('Done')"
   ]
  },
  {
   "cell_type": "code",
   "execution_count": 219,
   "metadata": {},
   "outputs": [],
   "source": [
    "test_X_scale = test_X.reshape((test_X.shape[0], 96*2))"
   ]
  },
  {
   "cell_type": "code",
   "execution_count": 220,
   "metadata": {},
   "outputs": [
    {
     "data": {
      "text/plain": [
       "(34560, 1)"
      ]
     },
     "execution_count": 220,
     "metadata": {},
     "output_type": "execute_result"
    }
   ],
   "source": [
    "y_pred.shape"
   ]
  },
  {
   "cell_type": "code",
   "execution_count": 221,
   "metadata": {},
   "outputs": [
    {
     "data": {
      "text/plain": [
       "(34560, 1)"
      ]
     },
     "execution_count": 221,
     "metadata": {},
     "output_type": "execute_result"
    }
   ],
   "source": [
    "temp = test_X_scale[:, -1:]\n",
    "temp.shape"
   ]
  },
  {
   "cell_type": "code",
   "execution_count": 222,
   "metadata": {},
   "outputs": [
    {
     "data": {
      "text/plain": [
       "array([1243.2207, 1212.456 , 1233.3517, ..., 1170.6066, 1163.6489,\n",
       "       1183.2407], dtype=float32)"
      ]
     },
     "execution_count": 222,
     "metadata": {},
     "output_type": "execute_result"
    }
   ],
   "source": [
    "from numpy import concatenate\n",
    "# invert scaling for forecast\n",
    "inv_y_pred = concatenate((y_pred, test_X_scale[:, -1:]), axis=1)\n",
    "inv_y_pred=  scaler.inverse_transform(inv_y_pred)\n",
    "inv_y_pred = inv_y_pred[:,0]\n",
    "inv_y_pred"
   ]
  },
  {
   "cell_type": "code",
   "execution_count": 223,
   "metadata": {},
   "outputs": [
    {
     "data": {
      "text/plain": [
       "(34560, 1)"
      ]
     },
     "execution_count": 223,
     "metadata": {},
     "output_type": "execute_result"
    }
   ],
   "source": [
    "y_pred.shape"
   ]
  },
  {
   "cell_type": "code",
   "execution_count": 224,
   "metadata": {},
   "outputs": [],
   "source": [
    "# invert scaling for actual\n",
    "test_y = test_y.reshape((len(test_y), 1))\n",
    "inv_y = concatenate((test_y, test_X_scale[:, -1:]), axis=1)\n",
    "inv_y = scaler.inverse_transform(inv_y)\n",
    "inv_y = inv_y[:,0]"
   ]
  },
  {
   "cell_type": "code",
   "execution_count": 225,
   "metadata": {},
   "outputs": [
    {
     "data": {
      "text/plain": [
       "(34560,)"
      ]
     },
     "execution_count": 225,
     "metadata": {},
     "output_type": "execute_result"
    }
   ],
   "source": [
    "inv_y_pred.shape"
   ]
  },
  {
   "cell_type": "code",
   "execution_count": 226,
   "metadata": {},
   "outputs": [
    {
     "data": {
      "text/plain": [
       "array([1243.2207, 1212.456 , 1233.3517, ..., 1170.6066, 1163.6489,\n",
       "       1183.2407], dtype=float32)"
      ]
     },
     "execution_count": 226,
     "metadata": {},
     "output_type": "execute_result"
    }
   ],
   "source": [
    "inv_y_pred"
   ]
  },
  {
   "cell_type": "code",
   "execution_count": 227,
   "metadata": {},
   "outputs": [
    {
     "data": {
      "text/plain": [
       "(34560,)"
      ]
     },
     "execution_count": 227,
     "metadata": {},
     "output_type": "execute_result"
    }
   ],
   "source": [
    "inv_y.shape"
   ]
  },
  {
   "cell_type": "code",
   "execution_count": 228,
   "metadata": {},
   "outputs": [
    {
     "data": {
      "text/plain": [
       "array([1200. , 1228.8, 1216. , ..., 1158.4, 1177.6, 1161.6], dtype=float32)"
      ]
     },
     "execution_count": 228,
     "metadata": {},
     "output_type": "execute_result"
    }
   ],
   "source": [
    "inv_y"
   ]
  },
  {
   "cell_type": "code",
   "execution_count": 229,
   "metadata": {},
   "outputs": [
    {
     "data": {
      "text/plain": [
       "(70080,)"
      ]
     },
     "execution_count": 229,
     "metadata": {},
     "output_type": "execute_result"
    }
   ],
   "source": [
    "# invert scaling for actual\n",
    "train_X_scale = train_X.reshape((train_X.shape[0], 96*2))\n",
    "\n",
    "train_y = train_y.reshape((len(train_y), 1))\n",
    "inv_train_y = concatenate((train_y, train_X_scale[:, -1:]), axis=1)\n",
    "inv_train_y = scaler.inverse_transform(inv_train_y)\n",
    "inv_train_y = inv_train_y[:,0]\n",
    "inv_train_y.shape"
   ]
  },
  {
   "cell_type": "code",
   "execution_count": 230,
   "metadata": {},
   "outputs": [
    {
     "data": {
      "text/html": [
       "<div>\n",
       "<style scoped>\n",
       "    .dataframe tbody tr th:only-of-type {\n",
       "        vertical-align: middle;\n",
       "    }\n",
       "\n",
       "    .dataframe tbody tr th {\n",
       "        vertical-align: top;\n",
       "    }\n",
       "\n",
       "    .dataframe thead th {\n",
       "        text-align: right;\n",
       "    }\n",
       "</style>\n",
       "<table border=\"1\" class=\"dataframe\">\n",
       "  <thead>\n",
       "    <tr style=\"text-align: right;\">\n",
       "      <th></th>\n",
       "      <th>Actual Peak Demand</th>\n",
       "      <th>Predicted Peak Demand</th>\n",
       "    </tr>\n",
       "  </thead>\n",
       "  <tbody>\n",
       "    <tr>\n",
       "      <th>0</th>\n",
       "      <td>1200.000000</td>\n",
       "      <td>1243.220703</td>\n",
       "    </tr>\n",
       "    <tr>\n",
       "      <th>1</th>\n",
       "      <td>1228.800049</td>\n",
       "      <td>1212.456055</td>\n",
       "    </tr>\n",
       "    <tr>\n",
       "      <th>2</th>\n",
       "      <td>1216.000000</td>\n",
       "      <td>1233.351685</td>\n",
       "    </tr>\n",
       "    <tr>\n",
       "      <th>3</th>\n",
       "      <td>1292.800049</td>\n",
       "      <td>1217.085815</td>\n",
       "    </tr>\n",
       "    <tr>\n",
       "      <th>4</th>\n",
       "      <td>1276.800049</td>\n",
       "      <td>1280.891235</td>\n",
       "    </tr>\n",
       "    <tr>\n",
       "      <th>...</th>\n",
       "      <td>...</td>\n",
       "      <td>...</td>\n",
       "    </tr>\n",
       "    <tr>\n",
       "      <th>34555</th>\n",
       "      <td>1129.599976</td>\n",
       "      <td>1197.240723</td>\n",
       "    </tr>\n",
       "    <tr>\n",
       "      <th>34556</th>\n",
       "      <td>1155.199951</td>\n",
       "      <td>1139.025146</td>\n",
       "    </tr>\n",
       "    <tr>\n",
       "      <th>34557</th>\n",
       "      <td>1158.400024</td>\n",
       "      <td>1170.606567</td>\n",
       "    </tr>\n",
       "    <tr>\n",
       "      <th>34558</th>\n",
       "      <td>1177.599976</td>\n",
       "      <td>1163.648926</td>\n",
       "    </tr>\n",
       "    <tr>\n",
       "      <th>34559</th>\n",
       "      <td>1161.599976</td>\n",
       "      <td>1183.240723</td>\n",
       "    </tr>\n",
       "  </tbody>\n",
       "</table>\n",
       "<p>34560 rows × 2 columns</p>\n",
       "</div>"
      ],
      "text/plain": [
       "       Actual Peak Demand  Predicted Peak Demand\n",
       "0             1200.000000            1243.220703\n",
       "1             1228.800049            1212.456055\n",
       "2             1216.000000            1233.351685\n",
       "3             1292.800049            1217.085815\n",
       "4             1276.800049            1280.891235\n",
       "...                   ...                    ...\n",
       "34555         1129.599976            1197.240723\n",
       "34556         1155.199951            1139.025146\n",
       "34557         1158.400024            1170.606567\n",
       "34558         1177.599976            1163.648926\n",
       "34559         1161.599976            1183.240723\n",
       "\n",
       "[34560 rows x 2 columns]"
      ]
     },
     "execution_count": 230,
     "metadata": {},
     "output_type": "execute_result"
    }
   ],
   "source": [
    "final_df = pd.concat([pd.DataFrame(inv_y, columns = ['Actual Peak Demand']), pd.DataFrame(inv_y_pred, columns = ['Predicted Peak Demand'])], axis=1)\n",
    "final_df"
   ]
  },
  {
   "cell_type": "code",
   "execution_count": 231,
   "metadata": {},
   "outputs": [],
   "source": [
    "from sklearn.metrics import r2_score, median_absolute_error, mean_absolute_error\n",
    "from sklearn.metrics import median_absolute_error, mean_squared_error, mean_squared_log_error\n",
    "from sklearn.metrics import mean_squared_error\n",
    "\n",
    "\n",
    "\n",
    "def mean_absolute_percentage_error(y_true, y_pred): \n",
    "    return np.mean(np.abs((y_true - y_pred) / y_true)) * 100\n",
    "\n",
    "def mean_absolute_error(y_true, y_pred): \n",
    "    return np.mean(np.abs((y_true - y_pred)))\n",
    "\n",
    "def mse_error(y_true, y_pred): \n",
    "    return mean_squared_error(y_true, y_pred, squared=True)\n",
    "\n",
    "def rmse_error(y_true, y_pred): \n",
    "    return mean_squared_error(y_true, y_pred, squared=False)"
   ]
  },
  {
   "cell_type": "code",
   "execution_count": 232,
   "metadata": {},
   "outputs": [],
   "source": [
    "mean_absolute_error_var = mean_absolute_error(final_df['Actual Peak Demand'], final_df['Predicted Peak Demand'])\n",
    "mean_absolute_percentage_error_var = mean_absolute_percentage_error(final_df['Actual Peak Demand'], final_df['Predicted Peak Demand'])\n",
    "mse_error_var = mse_error(final_df['Actual Peak Demand'], final_df['Predicted Peak Demand'])\n",
    "rmse_error_var = rmse_error(final_df['Actual Peak Demand'], final_df['Predicted Peak Demand'])"
   ]
  },
  {
   "cell_type": "code",
   "execution_count": 233,
   "metadata": {},
   "outputs": [
    {
     "name": "stdout",
     "output_type": "stream",
     "text": [
      "Test Set Metrics\n",
      "MAPE:  inf\n",
      "MAE:  41.478085\n",
      "MSE:  3376.9148\n",
      "RMSE:  58.11123\n"
     ]
    }
   ],
   "source": [
    "print('Test Set Metrics')\n",
    "print('MAPE: ' , mean_absolute_percentage_error_var)\n",
    "print('MAE: ', mean_absolute_error_var)\n",
    "print('MSE: ', mse_error_var)\n",
    "print('RMSE: ', rmse_error_var)"
   ]
  },
  {
   "cell_type": "code",
   "execution_count": 234,
   "metadata": {},
   "outputs": [
    {
     "data": {
      "text/plain": [
       "<AxesSubplot:>"
      ]
     },
     "execution_count": 234,
     "metadata": {},
     "output_type": "execute_result"
    },
    {
     "data": {
      "image/png": "[encoded data removed]",
      "text/plain": [
       "<Figure size 1200x840 with 1 Axes>"
      ]
     },
     "metadata": {
      "needs_background": "light"
     },
     "output_type": "display_data"
    }
   ],
   "source": [
    "final_df.plot()"
   ]
  },
  {
   "cell_type": "code",
   "execution_count": 235,
   "metadata": {},
   "outputs": [
    {
     "data": {
      "text/plain": [
       "<AxesSubplot:>"
      ]
     },
     "execution_count": 235,
     "metadata": {},
     "output_type": "execute_result"
    },
    {
     "data": {
      "image/png": "[encoded data removed]",
      "text/plain": [
       "<Figure size 1200x840 with 1 Axes>"
      ]
     },
     "metadata": {
      "needs_background": "light"
     },
     "output_type": "display_data"
    }
   ],
   "source": [
    "# 24 hrs prediction\n",
    "final_df.head(96).plot()"
   ]
  },
  {
   "cell_type": "code",
   "execution_count": 165,
   "metadata": {},
   "outputs": [
    {
     "data": {
      "image/png": "[encoded data removed]",
      "text/plain": [
       "<Figure size 1200x840 with 1 Axes>"
      ]
     },
     "metadata": {
      "needs_background": "light"
     },
     "output_type": "display_data"
    }
   ],
   "source": [
    "plt.plot(np.arange(0, len(inv_train_y)), inv_train_y, 'g', label=\"history\")\n",
    "plt.plot(np.arange(len(inv_train_y),  len(inv_train_y) + len(inv_y)), inv_y, marker='.', label=\"true\")\n",
    "plt.plot(np.arange(len(inv_train_y),  len(inv_train_y) + len(inv_y)), inv_y_pred, 'r', label=\"prediction\")\n",
    "plt.ylabel('Peak Load')\n",
    "plt.xlabel('Time Step')\n",
    "plt.legend()\n",
    "plt.show();"
   ]
  },
  {
   "cell_type": "code",
   "execution_count": null,
   "metadata": {},
   "outputs": [],
   "source": []
  }
 ],
 "metadata": {
  "kernelspec": {
   "display_name": "Python 3 (ipykernel)",
   "language": "python",
   "name": "python3"
  },
  "language_info": {
   "codemirror_mode": {
    "name": "ipython",
    "version": 3
   },
   "file_extension": ".py",
   "mimetype": "text/x-python",
   "name": "python",
   "nbconvert_exporter": "python",
   "pygments_lexer": "ipython3",
   "version": "3.8.2"
  }
 },
 "nbformat": 4,
 "nbformat_minor": 2
}
